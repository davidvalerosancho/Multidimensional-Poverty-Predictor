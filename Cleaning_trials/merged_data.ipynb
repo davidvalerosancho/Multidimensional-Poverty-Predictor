{
 "cells": [
  {
   "cell_type": "code",
   "execution_count": 1,
   "metadata": {},
   "outputs": [],
   "source": [
    "import pandas as pd"
   ]
  },
  {
   "cell_type": "code",
   "execution_count": 2,
   "metadata": {},
   "outputs": [],
   "source": [
    "home_basic = pd.read_csv(r'C:\\Users\\dvale\\TFM\\Data\\home_basic_decod.csv', low_memory=False)\n",
    "home_data = pd.read_csv(r'C:\\Users\\dvale\\TFM\\Data\\home_data_decod.csv', low_memory=False)\n",
    "person_basic = pd.read_csv(r'C:\\Users\\dvale\\TFM\\Data\\person_basic_decod.csv', low_memory=False)\n",
    "person_data = pd.read_csv(r'C:\\Users\\dvale\\TFM\\Data\\person_data_decod.csv', low_memory=False)"
   ]
  },
  {
   "cell_type": "code",
   "execution_count": 3,
   "metadata": {},
   "outputs": [
    {
     "data": {
      "text/plain": [
       "Index(['Unnamed: 0', 'Year of survey', 'Country', 'Household ID', 'Region'], dtype='object')"
      ]
     },
     "execution_count": 3,
     "metadata": {},
     "output_type": "execute_result"
    }
   ],
   "source": [
    "home_basic.columns[:5]"
   ]
  },
  {
   "cell_type": "code",
   "execution_count": 4,
   "metadata": {},
   "outputs": [],
   "source": [
    "home_basic = home_basic.drop(['Unnamed: 0'], axis=1)\n",
    "home_data = home_data.drop(['Unnamed: 0'], axis=1)\n",
    "person_basic = person_basic.drop(['Unnamed: 0'], axis=1)\n",
    "person_data = person_data.drop(['Unnamed: 0'], axis=1)"
   ]
  },
  {
   "cell_type": "code",
   "execution_count": 5,
   "metadata": {},
   "outputs": [
    {
     "name": "stdout",
     "output_type": "stream",
     "text": [
      "['Year of survey', 'Country', 'Household ID']\n",
      "['Year of survey', 'Country', 'Personal ID', 'Personal cross-sectional weight', 'Personal cross-sectional weight (flag)', 'Month of birth', 'Month of birth (flag)', 'Year of birth', 'Year of birth (flag)', 'Sex', 'Sex (flag)', 'Father ID', 'Father ID (flag)', 'Mother ID', 'Mother ID (flag)', 'Spouse/partner ID', 'Spouse/partner ID (flag)']\n"
     ]
    }
   ],
   "source": [
    "def duplicated_columns(df1, df2):\n",
    "    duplicated_columns = []\n",
    "    for c1 in df1.columns:\n",
    "        for c2 in df2.columns:\n",
    "            if c1 == c2:\n",
    "                duplicated_columns.append(c1)\n",
    "    return duplicated_columns\n",
    "\n",
    "duplicated_home = duplicated_columns(home_basic, home_data)\n",
    "duplicated_person = duplicated_columns(person_basic, person_data)\n",
    "\n",
    "print(duplicated_home)\n",
    "print(duplicated_person)"
   ]
  },
  {
   "cell_type": "code",
   "execution_count": 6,
   "metadata": {},
   "outputs": [],
   "source": [
    "duplicated_home.remove('Household ID')\n",
    "duplicated_person.remove('Personal ID')"
   ]
  },
  {
   "cell_type": "code",
   "execution_count": 7,
   "metadata": {},
   "outputs": [],
   "source": [
    "home_data = home_data.drop(duplicated_home, axis=1)\n",
    "person_data = person_data.drop(duplicated_person, axis=1)"
   ]
  },
  {
   "cell_type": "code",
   "execution_count": 8,
   "metadata": {},
   "outputs": [],
   "source": [
    "merged_home = pd.merge(home_basic, home_data, on=['Household ID'], how='left')\n",
    "merged_person = pd.merge(person_basic, person_data, on=['Personal ID'], how='left')"
   ]
  },
  {
   "cell_type": "code",
   "execution_count": 17,
   "metadata": {},
   "outputs": [],
   "source": [
    "def household_id(integer):\n",
    "    return int(str(integer)[:-2])\n",
    "\n",
    "merged_person['Household ID'] = merged_person['Personal ID'].apply(household_id)"
   ]
  },
  {
   "cell_type": "code",
   "execution_count": 18,
   "metadata": {},
   "outputs": [
    {
     "name": "stdout",
     "output_type": "stream",
     "text": [
      "['Year of survey', 'Country', 'Household ID']\n"
     ]
    }
   ],
   "source": [
    "duplicated_data = duplicated_columns(merged_person, merged_home)\n",
    "\n",
    "print(duplicated_data)"
   ]
  },
  {
   "cell_type": "code",
   "execution_count": 19,
   "metadata": {},
   "outputs": [],
   "source": [
    "duplicated_data.remove('Household ID')"
   ]
  },
  {
   "cell_type": "code",
   "execution_count": 20,
   "metadata": {},
   "outputs": [],
   "source": [
    "merged_home = merged_home.drop(duplicated_data, axis=1)"
   ]
  },
  {
   "cell_type": "code",
   "execution_count": 23,
   "metadata": {},
   "outputs": [],
   "source": [
    "merged_data = pd.merge(merged_person, merged_home, on=['Household ID'], how='left')"
   ]
  },
  {
   "cell_type": "code",
   "execution_count": 24,
   "metadata": {},
   "outputs": [
    {
     "data": {
      "text/plain": [
       "array(['Two adults, no children, one older than 64',\n",
       "       'Two adults with one children',\n",
       "       'One adult with one or more children',\n",
       "       'Other household types with no children',\n",
       "       'One female, between 30 and 64', 'Two adults with two children',\n",
       "       'Two adults, no children, both older than 64',\n",
       "       'One male, between 30 and 64',\n",
       "       'Two adults with three or more children',\n",
       "       'One male, older than 64', 'One female, older than 64',\n",
       "       'Other household types with children', 'One male, younger than 30',\n",
       "       nan, 'One female, younger than 30'], dtype=object)"
      ]
     },
     "execution_count": 24,
     "metadata": {},
     "output_type": "execute_result"
    }
   ],
   "source": [
    "home_data['Type of household'].unique()"
   ]
  },
  {
   "cell_type": "code",
   "execution_count": 25,
   "metadata": {},
   "outputs": [
    {
     "data": {
      "text/plain": [
       "array(['Two adults, no children, one older than 64',\n",
       "       'Two adults with one children',\n",
       "       'One adult with one or more children',\n",
       "       'Other household types with no children',\n",
       "       'One female, between 30 and 64', 'Two adults with two children',\n",
       "       'Two adults, no children, both older than 64',\n",
       "       'One male, between 30 and 64',\n",
       "       'Two adults with three or more children',\n",
       "       'One male, older than 64', 'One female, older than 64',\n",
       "       'Other household types with children', 'One male, younger than 30',\n",
       "       nan, 'One female, younger than 30'], dtype=object)"
      ]
     },
     "execution_count": 25,
     "metadata": {},
     "output_type": "execute_result"
    }
   ],
   "source": [
    "merged_home['Type of household'].unique()"
   ]
  },
  {
   "cell_type": "code",
   "execution_count": 26,
   "metadata": {},
   "outputs": [
    {
     "data": {
      "text/plain": [
       "array(['Two adults, no children, one older than 64',\n",
       "       'Two adults with one children',\n",
       "       'One adult with one or more children',\n",
       "       'Other household types with no children',\n",
       "       'One female, between 30 and 64', 'Two adults with two children',\n",
       "       'Two adults, no children, both older than 64',\n",
       "       'One male, between 30 and 64',\n",
       "       'Two adults with three or more children',\n",
       "       'One male, older than 64', 'One female, older than 64',\n",
       "       'Other household types with children', 'One male, younger than 30',\n",
       "       nan, 'One female, younger than 30'], dtype=object)"
      ]
     },
     "execution_count": 26,
     "metadata": {},
     "output_type": "execute_result"
    }
   ],
   "source": [
    "merged_data['Type of household'].unique()"
   ]
  },
  {
   "cell_type": "code",
   "execution_count": 27,
   "metadata": {},
   "outputs": [],
   "source": [
    "merged_data.to_csv('ilc.csv')"
   ]
  }
 ],
 "metadata": {
  "kernelspec": {
   "display_name": "Python 3",
   "language": "python",
   "name": "python3"
  },
  "language_info": {
   "codemirror_mode": {
    "name": "ipython",
    "version": 3
   },
   "file_extension": ".py",
   "mimetype": "text/x-python",
   "name": "python",
   "nbconvert_exporter": "python",
   "pygments_lexer": "ipython3",
   "version": "3.8.3"
  }
 },
 "nbformat": 4,
 "nbformat_minor": 4
}
