{
 "cells": [
  {
   "cell_type": "code",
   "execution_count": 1,
   "metadata": {},
   "outputs": [],
   "source": [
    "#from ipynb.fs.full.my_functions import *"
   ]
  },
  {
   "cell_type": "code",
   "execution_count": 2,
   "metadata": {},
   "outputs": [],
   "source": [
    "import pandas as pd\n",
    "from matplotlib import pyplot as plt\n",
    "import seaborn as sns; sns.set()"
   ]
  },
  {
   "cell_type": "code",
   "execution_count": 3,
   "metadata": {},
   "outputs": [],
   "source": [
    "def unflag(column_series):\n",
    "    unflaged_list = list(column_series)\n",
    "    for c in column_series:\n",
    "        if c[-6:] == '(flag)':\n",
    "            unflaged_list.remove(c)\n",
    "    return unflaged_list"
   ]
  },
  {
   "cell_type": "code",
   "execution_count": 4,
   "metadata": {},
   "outputs": [],
   "source": [
    "irrelevant_columns = ['Unnamed: 0', \n",
    "                      'Year of survey', \n",
    "                      'Country', \n",
    "                      'Month of birth',\n",
    "                      'Father ID',\n",
    "                      'Mother ID',\n",
    "                      'Spouse/partner ID', \n",
    "                      'Month of the personal interview', \n",
    "                      'Year of the personal interview', \n",
    "                      'Minutes to complete the personal questionnaire', \n",
    "                      'Household ID', \n",
    "                      'Primary sampling units (PSU)', \n",
    "                      'Houshold cross-sectional weight', \n",
    "                      'Month of household interview', \n",
    "                      'Year of household interview', \n",
    "                      'Person responding the household questionnaire', \n",
    "                      'Person 2 responsible for the accommodation', \n",
    "                      'Number of minutes to complete the household questionnaire',\n",
    "                      'Residential status']"
   ]
  },
  {
   "cell_type": "code",
   "execution_count": 5,
   "metadata": {},
   "outputs": [],
   "source": [
    "def weighted_freq(df, cat_column):\n",
    "    dummy = pd.get_dummies(cat_column)\n",
    "    for c in dummy.columns:\n",
    "        dummy['weight_' + str(c)] = dummy[c] * df.weight\n",
    "    freq_dict = {}\n",
    "    for c in dummy.columns:\n",
    "        if str(c)[0] == 'w':\n",
    "            freq_dict[c[7:]] = dummy[c].sum() / df.weight.sum()\n",
    "    return freq_dict"
   ]
  },
  {
   "cell_type": "code",
   "execution_count": 6,
   "metadata": {},
   "outputs": [],
   "source": [
    "def weighted_cat(df, cat_column):\n",
    "    dummy = pd.get_dummies(cat_column)\n",
    "    for c in dummy.columns:\n",
    "        dummy['weight_' + str(c)] = dummy[c] * df.weight\n",
    "    weighted_cat = []\n",
    "    for i in range(len(df)):\n",
    "        for c in dummy.columns:\n",
    "            if c[0] == 'w':\n",
    "                for x in range(int(round(dummy[c][i]/1000, 0))):\n",
    "                       weighted_cat.append(c[7:])   \n",
    "    return weighted_cat"
   ]
  },
  {
   "cell_type": "code",
   "execution_count": 7,
   "metadata": {},
   "outputs": [],
   "source": [
    "def weighted_num(df, num_column):\n",
    "    weighted_num = []\n",
    "    for i in range(len(df)):\n",
    "        for x in range(int(round(df.weight[i]/1000, 0))):\n",
    "            weighted_num.append(num_column[i])  \n",
    "    return weighted_num"
   ]
  },
  {
   "cell_type": "code",
   "execution_count": 8,
   "metadata": {},
   "outputs": [],
   "source": [
    "def histplot(x, data, bins):\n",
    "    plt.figure(figsize=(6.4*1.5, 4.8*1.5))\n",
    "    sns.histplot(x=data[x], data=data, weights='weight', bins=bins, stat='density')"
   ]
  },
  {
   "cell_type": "code",
   "execution_count": 9,
   "metadata": {},
   "outputs": [],
   "source": [
    "def barplot(x, data, legend=False):\n",
    "    labels = sorted(data[x].unique())\n",
    "    label_colors = ['C'+str(i) for i in range(len(labels))]\n",
    "    x_ticks = range(len(labels))\n",
    "    freq = weighted_freq(data, data[x])\n",
    "    plt.figure(figsize=(6.4*1.5, 4.8*1.5))\n",
    "    ax = plt.subplot()\n",
    "    ax.bar(x_ticks, [freq[label] for label in labels], color=label_colors)\n",
    "    ax.set_xticks(x_ticks)\n",
    "    ax.set_xticklabels(labels)\n",
    "    plt.xlabel(x)\n",
    "    plt.ylabel('Frequency')\n",
    "    if legend==False:\n",
    "        ax.set_xticklabels(labels)\n",
    "    else:\n",
    "        ax.set_xticklabels(['' for label in labels])\n",
    "        for i in range(len(labels)):\n",
    "            ax.bar([0], [0], label=labels[i][:40], color=label_colors[i])\n",
    "            ax.legend(bbox_to_anchor=(1.05, 1), loc='upper left')"
   ]
  },
  {
   "cell_type": "code",
   "execution_count": 10,
   "metadata": {},
   "outputs": [],
   "source": [
    "def boxplot(x, y, data, legend=False):\n",
    "    weighted_data = pd.DataFrame({x: weighted_cat(data, data[x]), y: weighted_num(data, data[y])})\n",
    "    labels = sorted(data[x].unique())\n",
    "    palette = {labels[i]: 'C'+str(i) for i in range(len(labels))}\n",
    "    plt.figure(figsize=(6.4*1.5, 4.8*1.5))\n",
    "    ax = plt.subplot()\n",
    "    boxplot = sns.boxplot(x=x, y=y, data=weighted_data, order=sorted(data[x].unique()), palette=palette)\n",
    "    if legend == True:\n",
    "        boxplot.set(xticklabels=[])\n",
    "        for i in range(len(labels)):\n",
    "            ax.bar([0], [0], label=labels[i][:40], color=palette[labels[i]])\n",
    "            ax.legend(bbox_to_anchor=(1.05, 1), loc='upper left')"
   ]
  },
  {
   "cell_type": "code",
   "execution_count": 11,
   "metadata": {},
   "outputs": [],
   "source": [
    "def length_calculator(labels):\n",
    "    a = 4\n",
    "    multiplier = 1\n",
    "    rows = 2\n",
    "    for i in range(labels):\n",
    "        if i+1 >= a + 3:\n",
    "            a += 3\n",
    "            multiplier += 0.5\n",
    "            rows += 1\n",
    "    return multiplier, rows"
   ]
  },
  {
   "cell_type": "code",
   "execution_count": 12,
   "metadata": {},
   "outputs": [],
   "source": [
    "def bardiagram(x, hue, data, legend=False):\n",
    "    titles = sorted(data[x].unique())\n",
    "    labels = sorted(data[hue].unique())\n",
    "    label_colors = ['C'+str(i) for i in range(len(labels))]\n",
    "    x_ticks = range(len(labels))\n",
    "    length_multiplier, subplot_rows = length_calculator(len(titles))\n",
    "    plt.figure(figsize=(6.4*2, 4.8*2*length_multiplier))\n",
    "    subplot = 1\n",
    "    for title in titles:\n",
    "        subplot_data = data[data[x] == title]\n",
    "        freq = weighted_freq(subplot_data, subplot_data[hue])\n",
    "        ax = plt.subplot(subplot_rows, 3, subplot)\n",
    "        ax.title.set_text(title[:40])\n",
    "        ax.bar(x_ticks, [freq[label] if label in freq.keys() else 0 for label in labels], color=label_colors)\n",
    "        ax.set_xticks(x_ticks)\n",
    "        if legend==False:\n",
    "            ax.set_xticklabels(labels)\n",
    "        else:\n",
    "            ax.set_xticklabels(['' for label in labels])\n",
    "        subplot += 1\n",
    "    if legend==True:\n",
    "        for i in range(len(labels)):\n",
    "            ax.bar([0], [0], label=labels[i][:20], color=label_colors[i])\n",
    "            ax.legend(bbox_to_anchor=(1.05, 1), loc='upper left')"
   ]
  },
  {
   "cell_type": "code",
   "execution_count": 13,
   "metadata": {},
   "outputs": [],
   "source": [
    "def get_parent(key, column, data):\n",
    "    new_column = []\n",
    "    for i in range(len(data)):\n",
    "        if data[column][i] == 'Missing':\n",
    "            new_column.append(list(data[data.id == int(data[key][i])][column])[0])\n",
    "        else:\n",
    "            new_column.append(data[column][i])\n",
    "    return new_column"
   ]
  },
  {
   "cell_type": "code",
   "execution_count": null,
   "metadata": {},
   "outputs": [],
   "source": [
    "def scatterplot(x, y, data):\n",
    "    weighted_data = pd.DataFrame({x: weighted_num(data, data[x]), y: weighted_num(data, data[y])})\n",
    "    plt.figure(figsize=(6.4*1.5, 4.8*1.5))\n",
    "    sns.scatterplot(x=x, y=y, data=weighted_data)"
   ]
  },
  {
   "cell_type": "code",
   "execution_count": 1,
   "metadata": {},
   "outputs": [],
   "source": [
    "def weighted_df(df):\n",
    "    weighted_df = pd.DataFrame()\n",
    "    for c in df.columns[2:]:\n",
    "        if type(df[c][0]) == type('string'):\n",
    "            weighted_df[c] = weighted_cat(df, df[c])\n",
    "        else:\n",
    "            weighted_df[c] = weighted_num(df, df[c])\n",
    "    return weighted_df"
   ]
  }
 ],
 "metadata": {
  "kernelspec": {
   "display_name": "Python 3",
   "language": "python",
   "name": "python3"
  },
  "language_info": {
   "codemirror_mode": {
    "name": "ipython",
    "version": 3
   },
   "file_extension": ".py",
   "mimetype": "text/x-python",
   "name": "python",
   "nbconvert_exporter": "python",
   "pygments_lexer": "ipython3",
   "version": "3.8.3"
  }
 },
 "nbformat": 4,
 "nbformat_minor": 4
}
