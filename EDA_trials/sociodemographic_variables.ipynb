{
 "cells": [
  {
   "cell_type": "code",
   "execution_count": 1,
   "metadata": {},
   "outputs": [],
   "source": [
    "import pandas as pd\n",
    "from matplotlib import pyplot as plt\n",
    "import seaborn as sns; sns.set()"
   ]
  },
  {
   "cell_type": "code",
   "execution_count": 2,
   "metadata": {},
   "outputs": [],
   "source": [
    "ilc = pd.read_csv(r'C:\\Users\\dvale\\TFM\\Data\\ilc.csv', low_memory=False)"
   ]
  },
  {
   "cell_type": "code",
   "execution_count": 3,
   "metadata": {},
   "outputs": [],
   "source": [
    "def unflag(column_series):\n",
    "    unflaged_list = list(column_series)\n",
    "    for c in column_series:\n",
    "        if c[-6:] == '(flag)':\n",
    "            unflaged_list.remove(c)\n",
    "    return unflaged_list\n",
    "\n",
    "unflaged_columns = unflag(ilc.columns)\n",
    "ilc = ilc[unflaged_columns]"
   ]
  },
  {
   "cell_type": "code",
   "execution_count": 4,
   "metadata": {},
   "outputs": [],
   "source": [
    "irrelevant_columns = ['Unnamed: 0', \n",
    "                      'Year of survey', \n",
    "                      'Country', \n",
    "                      'Personal ID', \n",
    "                      'Month of birth', \n",
    "                      'Father ID', \n",
    "                      'Mother ID', \n",
    "                      'Spouse/partner ID', \n",
    "                      'Month of the personal interview', \n",
    "                      'Year of the personal interview', \n",
    "                      'Minutes to complete the personal questionnaire', \n",
    "                      'Household ID', \n",
    "                      'Primary sampling units (PSU)', \n",
    "                      'Houshold cross-sectional weight', \n",
    "                      'Month of household interview', \n",
    "                      'Year of household interview', \n",
    "                      'Person responding the household questionnaire', \n",
    "                      'Person 1 responsible for the accommodation', \n",
    "                      'Person 2 responsible for the accommodation', \n",
    "                      'Number of minutes to complete the household questionnaire',\n",
    "                      'Residential status']\n",
    "\n",
    "ilc = ilc.drop(irrelevant_columns, axis=1)"
   ]
  },
  {
   "cell_type": "code",
   "execution_count": 5,
   "metadata": {},
   "outputs": [
    {
     "name": "stdout",
     "output_type": "stream",
     "text": [
      "Personal cross-sectional weight\n",
      "Year of birth\n",
      "Sex\n",
      "Basic activity status\n",
      "Education at pre-school\n",
      "Education at compulsory school\n",
      "Childcare at centre-based services\n",
      "Childcare at day-care centre\n",
      "Childcare by a professional child-minder at child's home or at child-minder’s home\n",
      "Childcare by grand-parents, other household members (outside parents), other relatives, friends or neighbours\n",
      "Childrens’ cross-sectional weight for childcare\n",
      "Living in household with low employement level\n",
      "Living in household under risk of poverty\n",
      "Marital status\n",
      "Consensual Union\n",
      "Country of birth\n",
      "Citizenship\n",
      "Current education activity\n",
      "ISCED level currently attended\n",
      "Year when highest level of education was attained\n",
      "Highest ISCED level attained\n",
      "Self-defined current economic status\n",
      "Whether person has ever worked\n",
      "Actively looking for a job\n",
      "Available for work\n",
      "Status in employment\n",
      "Occupation\n",
      "Number of hours usually worked per week in main job\n",
      "Number of months spent at full-time work as employee\n",
      "Number of months spent at part-time work as employee\n",
      "Number of months spent at full-time work as self-employed (including family worker)\n",
      "Number of months spent at part-time work as self-employed (including family worker)\n",
      "Number of months spent in unemployment\n",
      "Number of months spent in retirement or early retirement\n",
      "Number of months spent as disabled or/and unfit to work\n",
      "Number of months spent studying\n",
      "Number of months spent fulfilling domestic tasks and care responsibilities\n",
      "Number of months spent in other inactivity\n",
      "Total number of hours usually worked in second, third, … jobs\n",
      "The economic activity of the local unit of the main job for respondents who are currently at work\n",
      "Reason for working less than 30 hours\n",
      "Number of persons working at the local unit\n",
      "Type of contract\n",
      "Managerial position\n",
      "Change of job since last year\n",
      "Reason to change\n",
      "Most recent change in the individual’s activity status\n",
      "When began first regular job\n",
      "Number of years spent in paid work\n",
      "Main activity in January\n",
      "Main activity in February\n",
      "Main activity in March\n",
      "Main activity in April\n",
      "Main activity in May\n",
      "Main activity in June\n",
      "Main activity in July\n",
      "Main activity in August\n",
      "Main activity in September\n",
      "Main activity in October\n",
      "Main activity in November\n",
      "Main activity in December\n",
      "General health\n",
      "Suffer from any chronic (long-standing) illness or condition\n",
      "Limitation in activities because of health problems\n",
      "Unmet need for medical examination or treatment\n",
      "Main reason for unmet need for medical examination or treatment\n",
      "Unmet need for dental examination or treatment\n",
      "Main reason for unmet need for dental examination or treatment\n",
      "Employee cash or near cash income (net)\n",
      "Non-Cash employee income (net)\n",
      "Company car (net)\n",
      "Contributions to individual private pension plans (net)\n",
      "Cash profits or losses from self-employment (net)\n",
      "Pension from individual private plans (net)\n",
      "Unemployment benefits (net)\n",
      "Old-age benefits (net)\n",
      "Survivor’ benefits (net)\n",
      "Sickness benefits (net)\n",
      "Disability benefits (net)\n",
      "Education-related allowances (net)\n",
      "Employee cash or near cash income (gross)\n",
      "Non-Cash employee income (gross)\n",
      "Company car (gross)\n",
      "Employer's social insurance contribution (gross)\n",
      "Contributions to individual private pension plans (gross)\n",
      "Cash profits or losses from self-employment (gross)\n",
      "Pension from individual private plans (gross)\n",
      "Unemployment benefits (gross)\n",
      "Old-age benefits (gross)\n",
      "Survivor’ benefits (gross)\n",
      "Sickness benefits (gross)\n",
      "Disability benefits (gross)\n",
      "Education-related allowances (gross)\n",
      "Main source of help against material deprivation\n",
      "Can replace damaged clothes for new clothes\n",
      "Has appropriate footwear for every season\n",
      "Meets friends or family to eat or have drinks at least once a month\n",
      "Regularly takes part in leisure activities such as playing sports, going to the movies, concerts, etc\n",
      "Spends money on treating one-self every week\n",
      "Has internet connection availabe\n",
      "Type of household when respondent was around 14 years old\n",
      "Presence of mother when respondent was around 14 years old\n",
      "Presence of father when respondent was around 14 years old\n",
      "Number of adults when respondent was around 14 years old\n",
      "Number of children when respondent was around 14 years old\n",
      "Number of persons in the household in work when respondent was around 14 years old\n",
      "Degree of urbanisation when respondent was around 14 years old\n",
      "Tenancy status when respondent was around 14 years old\n",
      "Country of birth of the father\n",
      "Citizenship of the father\n",
      "Country of birth of the mother\n",
      "Citizenship of the mother\n",
      "Highest level of education attained by the father\n",
      "Highest level of education attained by the mother\n",
      "Activity status of the father when respondent was around 14 years old\n",
      "Managerial position of the father when respondent was around 14 years old\n",
      "Main occupation of the father when respondent was around 14 years old\n",
      "Activity status of the mother when respondent was around 14 years old\n",
      "Managerial position of the mother when respondent was around 14 years old\n",
      "Main occupation of the mother when respondent was around 14 years old\n",
      "Financial situation of the household when respondent was around 14 years old\n",
      "Basic school needs (books and equipment for school) met when respondent was around 14 years old\n",
      "Having meal with meat, chicken, fish (or vegetarian equivalent) daily when respondent was around 14 years old\n",
      "One week annual holiday away from home when respondent was around 14 years old\n",
      "Region\n",
      "Degree of urbanisation\n",
      "Total disposable household income\n",
      "Total disposable household income before social transfers other than old-age and survivor’s benefits\n",
      "Total disposable household income before social transfers including old-age and survivor’s benefits\n",
      "Imputed rent (net)\n",
      "Income from rental of a property or land (net)\n",
      "Family/Children-related allowances (net)\n",
      "Social exclusion not elsewhere classified (net)\n",
      "Housing allowances (net)\n",
      "Regular inter-household cash transfer received (net)\n",
      "Alimonies received (compulsory + voluntary) (net)\n",
      "Interest, dividends, profit from capital investments in unincorporated business (net)\n",
      "Interest repayments on mortgage (net)\n",
      "Income received by people aged under 16 (net)\n",
      "Regular taxes on wealth (net)\n",
      "Regular inter-household cash transfer paid (net)\n",
      "Alimonies paid (compulsory + voluntary) (net)\n",
      "Repayments/receipts for tax adjustment (net)\n",
      "Value of goods produced for own consumption (net)\n",
      "Total household gross income\n",
      "Income from rental of a property or land (gross)\n",
      "Family/Children-related allowances (gross)\n",
      "Social exclusion not elsewhere classified (gross)\n",
      "Housing allowances (gross)\n",
      "Regular inter-household cash transfer received (gross)\n",
      "Alimonies received (compulsory + voluntary) (gross)\n",
      "Interest, dividends, profit from capital investments in unincorporated business (gross)\n",
      "Interest repayments on mortgage (gross)\n",
      "Income received by people aged under 16 (gross)\n",
      "Regular taxes on wealth (gross)\n",
      "Regular inter-household cash transfer paid (gross)\n",
      "Alimonies paid (compulsory + voluntary) (gross)\n",
      "Tax on income and social contributions (gross)\n",
      "Arrears on mortgage or rental payments\n",
      "Arrears on utility bills\n",
      "Arrears on hire purchase installments or other loan payments\n",
      "Capacity to afford paying for one week annual holiday away from home\n",
      "Capacity to afford a meal with meat, chicken, fish (or vegetarian equivalent) every second day\n",
      "Capacity to face unexpected financial expenses\n",
      "Do you have a telephone (including mobile phone)?\n",
      "Do you have a colour TV?\n",
      "Do you have a computer?\n",
      "Do you have a washing machine?\n",
      "Do you have a car?\n",
      "Ability to make ends meet\n",
      "Lowest monthly income to make ends meet\n",
      "Financial burden of the total housing cost\n",
      "Financial burden of the repayment of debts from hire purchases or loans\n",
      "Problems with the dwelling: too dark, not enough light\n",
      "Noise from neighbours or from the street\n",
      "Pollution, grime or other environment problems\n",
      "Crime, violence or vandalism in the area\n",
      "Dwelling type\n",
      "Tenure status\n",
      "Number of rooms available to the household\n",
      "Year of contract or purchasing or installation\n",
      "Leaking roof, damp walls/floors/foundation, or rot in window frames or floor\n",
      "Ability to keep home adequately warm\n",
      "Current rent related to occupied dwelling\n",
      "Subjective rent\n",
      "Total housing cost\n",
      "Bath or shower in dwelling\n",
      "Indoor flushing toilet for sole use of household\n",
      "Has resorted to friends and relatives for basic goods such as food or clothes in the last year\n",
      "Has resorted to charities for basic goods such as food or clothes in the last year\n",
      "Has lost power supply for economic reasons in the last year\n",
      "Monthly mortgage payment. Depreciation and interests included\n",
      "Number of people in dweling\n",
      "Type of household\n",
      "Consumption unit\n",
      "Total disposable household income (2)\n",
      "Total disposable household income including imputed rent\n",
      "Household is at risk of poverty\n",
      "Household endures severe material deprivation\n",
      "Can afford to replace damaged furniture\n",
      "Change in income compared to previous year\n",
      "Reason for increase in income\n",
      "Reason for decrease in income\n",
      "Future income\n"
     ]
    }
   ],
   "source": [
    "for c in ilc.columns:\n",
    "    print(c)"
   ]
  },
  {
   "cell_type": "code",
   "execution_count": 6,
   "metadata": {},
   "outputs": [],
   "source": [
    "sociodemo = pd.DataFrame()"
   ]
  },
  {
   "cell_type": "code",
   "execution_count": 7,
   "metadata": {},
   "outputs": [
    {
     "data": {
      "text/html": [
       "<div>\n",
       "<style scoped>\n",
       "    .dataframe tbody tr th:only-of-type {\n",
       "        vertical-align: middle;\n",
       "    }\n",
       "\n",
       "    .dataframe tbody tr th {\n",
       "        vertical-align: top;\n",
       "    }\n",
       "\n",
       "    .dataframe thead th {\n",
       "        text-align: right;\n",
       "    }\n",
       "</style>\n",
       "<table border=\"1\" class=\"dataframe\">\n",
       "  <thead>\n",
       "    <tr style=\"text-align: right;\">\n",
       "      <th></th>\n",
       "      <th>weight</th>\n",
       "    </tr>\n",
       "  </thead>\n",
       "  <tbody>\n",
       "    <tr>\n",
       "      <th>0</th>\n",
       "      <td>906.15830</td>\n",
       "    </tr>\n",
       "    <tr>\n",
       "      <th>1</th>\n",
       "      <td>906.15830</td>\n",
       "    </tr>\n",
       "    <tr>\n",
       "      <th>2</th>\n",
       "      <td>1227.68869</td>\n",
       "    </tr>\n",
       "    <tr>\n",
       "      <th>3</th>\n",
       "      <td>1227.68869</td>\n",
       "    </tr>\n",
       "    <tr>\n",
       "      <th>4</th>\n",
       "      <td>2559.35987</td>\n",
       "    </tr>\n",
       "  </tbody>\n",
       "</table>\n",
       "</div>"
      ],
      "text/plain": [
       "       weight\n",
       "0   906.15830\n",
       "1   906.15830\n",
       "2  1227.68869\n",
       "3  1227.68869\n",
       "4  2559.35987"
      ]
     },
     "execution_count": 7,
     "metadata": {},
     "output_type": "execute_result"
    }
   ],
   "source": [
    "sociodemo['weight'] = ilc['Personal cross-sectional weight']\n",
    "sociodemo.head()"
   ]
  },
  {
   "cell_type": "code",
   "execution_count": 8,
   "metadata": {},
   "outputs": [],
   "source": [
    "def weighted_freq(df, cat_column):\n",
    "    dummy = pd.get_dummies(cat_column)\n",
    "    for c in dummy.columns:\n",
    "        dummy['weight_' + str(c)] = dummy[c] * df.weight\n",
    "    freq_dict = {}\n",
    "    for c in dummy.columns:\n",
    "        if str(c)[0] == 'w':\n",
    "            freq_dict[c[7:]] = dummy[c].sum() / df.weight.sum()\n",
    "    return freq_dict\n",
    "\n",
    "def weighted_cat(df, cat_column):\n",
    "    dummy = pd.get_dummies(cat_column)\n",
    "    for c in dummy.columns:\n",
    "        dummy['weight_' + c] = dummy[c] * df.weight\n",
    "    weighted_cat = []\n",
    "    for i in range(len(df)):\n",
    "        for c in dummy.columns:\n",
    "            if c[0] == 'w':\n",
    "                for x in range(int(round(dummy[c][i]/1000, 0))):\n",
    "                       weighted_cat.append(c[7:])   \n",
    "    return weighted_cat\n",
    "\n",
    "def weighted_num(df, num_column):\n",
    "    weighted_num = []\n",
    "    for i in range(len(df)):\n",
    "        for x in range(int(round(df.weight[i]/1000, 0))):\n",
    "            weighted_num.append(num_column[i])  \n",
    "    return weighted_num"
   ]
  },
  {
   "cell_type": "code",
   "execution_count": 9,
   "metadata": {},
   "outputs": [
    {
     "data": {
      "text/html": [
       "<div>\n",
       "<style scoped>\n",
       "    .dataframe tbody tr th:only-of-type {\n",
       "        vertical-align: middle;\n",
       "    }\n",
       "\n",
       "    .dataframe tbody tr th {\n",
       "        vertical-align: top;\n",
       "    }\n",
       "\n",
       "    .dataframe thead th {\n",
       "        text-align: right;\n",
       "    }\n",
       "</style>\n",
       "<table border=\"1\" class=\"dataframe\">\n",
       "  <thead>\n",
       "    <tr style=\"text-align: right;\">\n",
       "      <th></th>\n",
       "      <th>weight</th>\n",
       "      <th>sex</th>\n",
       "    </tr>\n",
       "  </thead>\n",
       "  <tbody>\n",
       "    <tr>\n",
       "      <th>0</th>\n",
       "      <td>906.15830</td>\n",
       "      <td>Male</td>\n",
       "    </tr>\n",
       "    <tr>\n",
       "      <th>1</th>\n",
       "      <td>906.15830</td>\n",
       "      <td>Female</td>\n",
       "    </tr>\n",
       "    <tr>\n",
       "      <th>2</th>\n",
       "      <td>1227.68869</td>\n",
       "      <td>Female</td>\n",
       "    </tr>\n",
       "    <tr>\n",
       "      <th>3</th>\n",
       "      <td>1227.68869</td>\n",
       "      <td>Male</td>\n",
       "    </tr>\n",
       "    <tr>\n",
       "      <th>4</th>\n",
       "      <td>2559.35987</td>\n",
       "      <td>Female</td>\n",
       "    </tr>\n",
       "  </tbody>\n",
       "</table>\n",
       "</div>"
      ],
      "text/plain": [
       "       weight     sex\n",
       "0   906.15830    Male\n",
       "1   906.15830  Female\n",
       "2  1227.68869  Female\n",
       "3  1227.68869    Male\n",
       "4  2559.35987  Female"
      ]
     },
     "execution_count": 9,
     "metadata": {},
     "output_type": "execute_result"
    }
   ],
   "source": [
    "sociodemo['sex'] = ilc['Sex']\n",
    "sociodemo.head()"
   ]
  },
  {
   "cell_type": "code",
   "execution_count": 10,
   "metadata": {},
   "outputs": [
    {
     "data": {
      "image/png": "[encoded data removed]",
      "text/plain": [
       "<Figure size 691.2x518.4 with 1 Axes>"
      ]
     },
     "metadata": {},
     "output_type": "display_data"
    }
   ],
   "source": [
    "def barplot(x, data, legend=False):\n",
    "    labels = sorted(data[x].unique())\n",
    "    label_colors = ['C'+str(i) for i in range(len(labels))]\n",
    "    x_ticks = range(len(labels))\n",
    "    freq = weighted_freq(data, data[x])\n",
    "    plt.figure(figsize=(6.4*1.5, 4.8*1.5))\n",
    "    ax = plt.subplot()\n",
    "    ax.bar(x_ticks, [freq[label] for label in labels], color=label_colors)\n",
    "    ax.set_xticks(x_ticks)\n",
    "    ax.set_xticklabels(labels)\n",
    "    plt.xlabel(x)\n",
    "    plt.ylabel('Frequency')\n",
    "    if legend==False:\n",
    "        ax.set_xticklabels(labels)\n",
    "    else:\n",
    "        ax.set_xticklabels(['' for label in labels])\n",
    "        for i in range(len(labels)):\n",
    "            ax.bar([0], [0], label=labels[i], color=label_colors[i])\n",
    "            ax.legend(bbox_to_anchor=(1.05, 1), loc='upper left')\n",
    "\n",
    "barplot(x='sex', data=sociodemo);"
   ]
  },
  {
   "cell_type": "code",
   "execution_count": 11,
   "metadata": {},
   "outputs": [
    {
     "data": {
      "text/html": [
       "<div>\n",
       "<style scoped>\n",
       "    .dataframe tbody tr th:only-of-type {\n",
       "        vertical-align: middle;\n",
       "    }\n",
       "\n",
       "    .dataframe tbody tr th {\n",
       "        vertical-align: top;\n",
       "    }\n",
       "\n",
       "    .dataframe thead th {\n",
       "        text-align: right;\n",
       "    }\n",
       "</style>\n",
       "<table border=\"1\" class=\"dataframe\">\n",
       "  <thead>\n",
       "    <tr style=\"text-align: right;\">\n",
       "      <th></th>\n",
       "      <th>weight</th>\n",
       "      <th>sex</th>\n",
       "      <th>age</th>\n",
       "    </tr>\n",
       "  </thead>\n",
       "  <tbody>\n",
       "    <tr>\n",
       "      <th>0</th>\n",
       "      <td>906.15830</td>\n",
       "      <td>Male</td>\n",
       "      <td>70</td>\n",
       "    </tr>\n",
       "    <tr>\n",
       "      <th>1</th>\n",
       "      <td>906.15830</td>\n",
       "      <td>Female</td>\n",
       "      <td>68</td>\n",
       "    </tr>\n",
       "    <tr>\n",
       "      <th>2</th>\n",
       "      <td>1227.68869</td>\n",
       "      <td>Female</td>\n",
       "      <td>72</td>\n",
       "    </tr>\n",
       "    <tr>\n",
       "      <th>3</th>\n",
       "      <td>1227.68869</td>\n",
       "      <td>Male</td>\n",
       "      <td>60</td>\n",
       "    </tr>\n",
       "    <tr>\n",
       "      <th>4</th>\n",
       "      <td>2559.35987</td>\n",
       "      <td>Female</td>\n",
       "      <td>54</td>\n",
       "    </tr>\n",
       "  </tbody>\n",
       "</table>\n",
       "</div>"
      ],
      "text/plain": [
       "       weight     sex  age\n",
       "0   906.15830    Male   70\n",
       "1   906.15830  Female   68\n",
       "2  1227.68869  Female   72\n",
       "3  1227.68869    Male   60\n",
       "4  2559.35987  Female   54"
      ]
     },
     "execution_count": 11,
     "metadata": {},
     "output_type": "execute_result"
    }
   ],
   "source": [
    "sociodemo['age'] = ilc['Year of birth'].apply(lambda x: 2019-x)\n",
    "sociodemo.head()"
   ]
  },
  {
   "cell_type": "code",
   "execution_count": 12,
   "metadata": {},
   "outputs": [
    {
     "data": {
      "image/png": "[encoded data removed]",
      "text/plain": [
       "<Figure size 691.2x518.4 with 1 Axes>"
      ]
     },
     "metadata": {},
     "output_type": "display_data"
    }
   ],
   "source": [
    "plt.figure(figsize=(6.4*1.5, 4.8*1.5))\n",
    "sns.histplot(x='age', data=sociodemo, weights='weight', bins=86, stat='density', kde=True);"
   ]
  },
  {
   "cell_type": "code",
   "execution_count": 13,
   "metadata": {},
   "outputs": [
    {
     "data": {
      "image/png": "[encoded data removed]",
      "text/plain": [
       "<Figure size 691.2x518.4 with 1 Axes>"
      ]
     },
     "metadata": {},
     "output_type": "display_data"
    }
   ],
   "source": [
    "def boxplot(x, y, data):\n",
    "    weighted = pd.DataFrame({x: weighted_cat(data, data[x]), y: weighted_num(data, data[y])})\n",
    "    plt.figure(figsize=(6.4*1.5, 4.8*1.5))\n",
    "    sns.boxplot(x=x, y=y, data=weighted, order=sorted(data[x].unique()))\n",
    "    \n",
    "boxplot(x='sex', y='age', data=sociodemo)"
   ]
  },
  {
   "cell_type": "code",
   "execution_count": 14,
   "metadata": {},
   "outputs": [
    {
     "data": {
      "text/plain": [
       "array(['In retirement or early retirement or has given up business',\n",
       "       'Other inactive person', 'Unemployed', 'At work', nan],\n",
       "      dtype=object)"
      ]
     },
     "execution_count": 14,
     "metadata": {},
     "output_type": "execute_result"
    }
   ],
   "source": [
    "ilc['Basic activity status'].unique()"
   ]
  },
  {
   "cell_type": "code",
   "execution_count": 15,
   "metadata": {},
   "outputs": [
    {
     "data": {
      "text/html": [
       "<div>\n",
       "<style scoped>\n",
       "    .dataframe tbody tr th:only-of-type {\n",
       "        vertical-align: middle;\n",
       "    }\n",
       "\n",
       "    .dataframe tbody tr th {\n",
       "        vertical-align: top;\n",
       "    }\n",
       "\n",
       "    .dataframe thead th {\n",
       "        text-align: right;\n",
       "    }\n",
       "</style>\n",
       "<table border=\"1\" class=\"dataframe\">\n",
       "  <thead>\n",
       "    <tr style=\"text-align: right;\">\n",
       "      <th></th>\n",
       "      <th>weight</th>\n",
       "      <th>sex</th>\n",
       "      <th>age</th>\n",
       "      <th>economic_status</th>\n",
       "    </tr>\n",
       "  </thead>\n",
       "  <tbody>\n",
       "    <tr>\n",
       "      <th>0</th>\n",
       "      <td>906.15830</td>\n",
       "      <td>Male</td>\n",
       "      <td>70</td>\n",
       "      <td>Retired</td>\n",
       "    </tr>\n",
       "    <tr>\n",
       "      <th>1</th>\n",
       "      <td>906.15830</td>\n",
       "      <td>Female</td>\n",
       "      <td>68</td>\n",
       "      <td>Other</td>\n",
       "    </tr>\n",
       "    <tr>\n",
       "      <th>2</th>\n",
       "      <td>1227.68869</td>\n",
       "      <td>Female</td>\n",
       "      <td>72</td>\n",
       "      <td>Other</td>\n",
       "    </tr>\n",
       "    <tr>\n",
       "      <th>3</th>\n",
       "      <td>1227.68869</td>\n",
       "      <td>Male</td>\n",
       "      <td>60</td>\n",
       "      <td>Retired</td>\n",
       "    </tr>\n",
       "    <tr>\n",
       "      <th>4</th>\n",
       "      <td>2559.35987</td>\n",
       "      <td>Female</td>\n",
       "      <td>54</td>\n",
       "      <td>Other</td>\n",
       "    </tr>\n",
       "  </tbody>\n",
       "</table>\n",
       "</div>"
      ],
      "text/plain": [
       "       weight     sex  age economic_status\n",
       "0   906.15830    Male   70         Retired\n",
       "1   906.15830  Female   68           Other\n",
       "2  1227.68869  Female   72           Other\n",
       "3  1227.68869    Male   60         Retired\n",
       "4  2559.35987  Female   54           Other"
      ]
     },
     "execution_count": 15,
     "metadata": {},
     "output_type": "execute_result"
    }
   ],
   "source": [
    "sociodemo['economic_status'] = ilc['Basic activity status']\n",
    "\n",
    "mapped_economic_status = {'At work': 'Employed',\n",
    "                          'Unemployed': 'Unemployed',\n",
    "                          'In retirement or early retirement or has given up business': 'Retired',\n",
    "                          'Other inactive person': 'Other'}\n",
    "\n",
    "sociodemo.economic_status = sociodemo.economic_status.map(mapped_economic_status).fillna('Other')\n",
    "\n",
    "sociodemo.head()"
   ]
  },
  {
   "cell_type": "code",
   "execution_count": 16,
   "metadata": {},
   "outputs": [
    {
     "data": {
      "image/png": "[encoded data removed]",
      "text/plain": [
       "<Figure size 691.2x518.4 with 1 Axes>"
      ]
     },
     "metadata": {},
     "output_type": "display_data"
    }
   ],
   "source": [
    "barplot(x='economic_status', data=sociodemo);"
   ]
  },
  {
   "cell_type": "code",
   "execution_count": 17,
   "metadata": {},
   "outputs": [
    {
     "data": {
      "image/png": "[encoded data removed]",
      "text/plain": [
       "<Figure size 921.6x691.2 with 4 Axes>"
      ]
     },
     "metadata": {},
     "output_type": "display_data"
    }
   ],
   "source": [
    "def length_calculator(labels):\n",
    "    a = 4\n",
    "    multiplier = 1\n",
    "    rows = 2\n",
    "    for i in range(labels):\n",
    "        if i+1 > a + 3:\n",
    "            a += 3\n",
    "            multiplier += 0.5\n",
    "            rows += 1\n",
    "    return multiplier, rows\n",
    "\n",
    "def bardiagram(x, hue, data, legend=False):\n",
    "    titles = sorted(data[x].unique())\n",
    "    labels = sorted(data[hue].unique())\n",
    "    label_colors = ['C'+str(i) for i in range(len(labels))]\n",
    "    x_ticks = range(len(labels))\n",
    "    length_multiplier, subplot_rows = length_calculator(len(titles))\n",
    "    plt.figure(figsize=(6.4*2, 4.8*2*length_multiplier))\n",
    "    subplot = 1\n",
    "    for title in titles:\n",
    "        subplot_data = data[data[x] == title]\n",
    "        freq = weighted_freq(subplot_data, subplot_data[hue])\n",
    "        ax = plt.subplot(subplot_rows, 3, subplot)\n",
    "        ax.title.set_text(title)\n",
    "        ax.bar(x_ticks, [freq[label] if label in freq.keys() else 0 for label in labels], color=label_colors)\n",
    "        ax.set_xticks(x_ticks)\n",
    "        if legend==False:\n",
    "            ax.set_xticklabels(labels)\n",
    "        else:\n",
    "            ax.set_xticklabels(['' for label in labels])\n",
    "        subplot += 1\n",
    "    if legend==True:\n",
    "        for i in range(len(labels)):\n",
    "            ax.bar([0], [0], label=labels[i], color=label_colors[i])\n",
    "            ax.legend(bbox_to_anchor=(1.05, 1), loc='upper left')\n",
    "        \n",
    "bardiagram(x='economic_status', hue='sex', data=sociodemo)"
   ]
  },
  {
   "cell_type": "code",
   "execution_count": 18,
   "metadata": {},
   "outputs": [
    {
     "data": {
      "image/png": "[encoded data removed]",
      "text/plain": [
       "<Figure size 691.2x518.4 with 1 Axes>"
      ]
     },
     "metadata": {},
     "output_type": "display_data"
    }
   ],
   "source": [
    "boxplot(x='economic_status', y='age', data=sociodemo)"
   ]
  },
  {
   "cell_type": "code",
   "execution_count": 19,
   "metadata": {},
   "outputs": [
    {
     "data": {
      "text/plain": [
       "array(['Married', 'Divorced', 'Never married', 'Widowed', nan,\n",
       "       'Separated'], dtype=object)"
      ]
     },
     "execution_count": 19,
     "metadata": {},
     "output_type": "execute_result"
    }
   ],
   "source": [
    "ilc['Marital status'].unique()"
   ]
  },
  {
   "cell_type": "code",
   "execution_count": 20,
   "metadata": {},
   "outputs": [
    {
     "data": {
      "text/html": [
       "<div>\n",
       "<style scoped>\n",
       "    .dataframe tbody tr th:only-of-type {\n",
       "        vertical-align: middle;\n",
       "    }\n",
       "\n",
       "    .dataframe tbody tr th {\n",
       "        vertical-align: top;\n",
       "    }\n",
       "\n",
       "    .dataframe thead th {\n",
       "        text-align: right;\n",
       "    }\n",
       "</style>\n",
       "<table border=\"1\" class=\"dataframe\">\n",
       "  <thead>\n",
       "    <tr style=\"text-align: right;\">\n",
       "      <th></th>\n",
       "      <th>weight</th>\n",
       "      <th>legal_status</th>\n",
       "    </tr>\n",
       "  </thead>\n",
       "  <tbody>\n",
       "    <tr>\n",
       "      <th>0</th>\n",
       "      <td>906.15830</td>\n",
       "      <td>Married</td>\n",
       "    </tr>\n",
       "    <tr>\n",
       "      <th>1</th>\n",
       "      <td>906.15830</td>\n",
       "      <td>Married</td>\n",
       "    </tr>\n",
       "    <tr>\n",
       "      <th>2</th>\n",
       "      <td>1227.68869</td>\n",
       "      <td>Married</td>\n",
       "    </tr>\n",
       "    <tr>\n",
       "      <th>3</th>\n",
       "      <td>1227.68869</td>\n",
       "      <td>Married</td>\n",
       "    </tr>\n",
       "    <tr>\n",
       "      <th>4</th>\n",
       "      <td>2559.35987</td>\n",
       "      <td>Divorced</td>\n",
       "    </tr>\n",
       "  </tbody>\n",
       "</table>\n",
       "</div>"
      ],
      "text/plain": [
       "       weight legal_status\n",
       "0   906.15830      Married\n",
       "1   906.15830      Married\n",
       "2  1227.68869      Married\n",
       "3  1227.68869      Married\n",
       "4  2559.35987     Divorced"
      ]
     },
     "execution_count": 20,
     "metadata": {},
     "output_type": "execute_result"
    }
   ],
   "source": [
    "civil_status = pd.DataFrame({'weight': ilc['Personal cross-sectional weight']})\n",
    "civil_status['legal_status'] = ilc['Marital status']\n",
    "civil_status.legal_status = civil_status.legal_status.fillna('Never married')\n",
    "civil_status.head()"
   ]
  },
  {
   "cell_type": "code",
   "execution_count": 21,
   "metadata": {},
   "outputs": [
    {
     "data": {
      "image/png": "[encoded data removed]",
      "text/plain": [
       "<Figure size 691.2x518.4 with 1 Axes>"
      ]
     },
     "metadata": {},
     "output_type": "display_data"
    }
   ],
   "source": [
    "barplot(x='legal_status', data=civil_status)"
   ]
  },
  {
   "cell_type": "code",
   "execution_count": 22,
   "metadata": {},
   "outputs": [
    {
     "data": {
      "text/plain": [
       "array(['Yes, with legal basis', 'No', nan, 'Yes, without legal basis'],\n",
       "      dtype=object)"
      ]
     },
     "execution_count": 22,
     "metadata": {},
     "output_type": "execute_result"
    }
   ],
   "source": [
    "ilc['Consensual Union'].unique()"
   ]
  },
  {
   "cell_type": "code",
   "execution_count": 23,
   "metadata": {},
   "outputs": [
    {
     "data": {
      "text/html": [
       "<div>\n",
       "<style scoped>\n",
       "    .dataframe tbody tr th:only-of-type {\n",
       "        vertical-align: middle;\n",
       "    }\n",
       "\n",
       "    .dataframe tbody tr th {\n",
       "        vertical-align: top;\n",
       "    }\n",
       "\n",
       "    .dataframe thead th {\n",
       "        text-align: right;\n",
       "    }\n",
       "</style>\n",
       "<table border=\"1\" class=\"dataframe\">\n",
       "  <thead>\n",
       "    <tr style=\"text-align: right;\">\n",
       "      <th></th>\n",
       "      <th>weight</th>\n",
       "      <th>legal_status</th>\n",
       "      <th>consensual_union</th>\n",
       "    </tr>\n",
       "  </thead>\n",
       "  <tbody>\n",
       "    <tr>\n",
       "      <th>0</th>\n",
       "      <td>906.15830</td>\n",
       "      <td>Married</td>\n",
       "      <td>Yes, with legal basis</td>\n",
       "    </tr>\n",
       "    <tr>\n",
       "      <th>1</th>\n",
       "      <td>906.15830</td>\n",
       "      <td>Married</td>\n",
       "      <td>Yes, with legal basis</td>\n",
       "    </tr>\n",
       "    <tr>\n",
       "      <th>2</th>\n",
       "      <td>1227.68869</td>\n",
       "      <td>Married</td>\n",
       "      <td>Yes, with legal basis</td>\n",
       "    </tr>\n",
       "    <tr>\n",
       "      <th>3</th>\n",
       "      <td>1227.68869</td>\n",
       "      <td>Married</td>\n",
       "      <td>Yes, with legal basis</td>\n",
       "    </tr>\n",
       "    <tr>\n",
       "      <th>4</th>\n",
       "      <td>2559.35987</td>\n",
       "      <td>Divorced</td>\n",
       "      <td>No</td>\n",
       "    </tr>\n",
       "  </tbody>\n",
       "</table>\n",
       "</div>"
      ],
      "text/plain": [
       "       weight legal_status       consensual_union\n",
       "0   906.15830      Married  Yes, with legal basis\n",
       "1   906.15830      Married  Yes, with legal basis\n",
       "2  1227.68869      Married  Yes, with legal basis\n",
       "3  1227.68869      Married  Yes, with legal basis\n",
       "4  2559.35987     Divorced                     No"
      ]
     },
     "execution_count": 23,
     "metadata": {},
     "output_type": "execute_result"
    }
   ],
   "source": [
    "civil_status['consensual_union'] = ilc['Consensual Union']\n",
    "civil_status.consensual_union = civil_status.consensual_union.fillna('Missing')\n",
    "civil_status.head()"
   ]
  },
  {
   "cell_type": "code",
   "execution_count": 24,
   "metadata": {},
   "outputs": [
    {
     "data": {
      "image/png": "[encoded data removed]",
      "text/plain": [
       "<Figure size 691.2x518.4 with 1 Axes>"
      ]
     },
     "metadata": {},
     "output_type": "display_data"
    }
   ],
   "source": [
    "barplot(x='consensual_union', data=civil_status)"
   ]
  },
  {
   "cell_type": "code",
   "execution_count": 25,
   "metadata": {},
   "outputs": [
    {
     "data": {
      "image/png": "[encoded data removed]",
      "text/plain": [
       "<Figure size 921.6x691.2 with 4 Axes>"
      ]
     },
     "metadata": {},
     "output_type": "display_data"
    }
   ],
   "source": [
    "bardiagram(x='consensual_union', hue='legal_status', data=civil_status, legend=True)"
   ]
  },
  {
   "cell_type": "code",
   "execution_count": 26,
   "metadata": {},
   "outputs": [
    {
     "data": {
      "text/html": [
       "<div>\n",
       "<style scoped>\n",
       "    .dataframe tbody tr th:only-of-type {\n",
       "        vertical-align: middle;\n",
       "    }\n",
       "\n",
       "    .dataframe tbody tr th {\n",
       "        vertical-align: top;\n",
       "    }\n",
       "\n",
       "    .dataframe thead th {\n",
       "        text-align: right;\n",
       "    }\n",
       "</style>\n",
       "<table border=\"1\" class=\"dataframe\">\n",
       "  <thead>\n",
       "    <tr style=\"text-align: right;\">\n",
       "      <th></th>\n",
       "      <th>weight</th>\n",
       "      <th>legal_status</th>\n",
       "      <th>consensual_union</th>\n",
       "      <th>civil_status+</th>\n",
       "    </tr>\n",
       "  </thead>\n",
       "  <tbody>\n",
       "    <tr>\n",
       "      <th>0</th>\n",
       "      <td>906.15830</td>\n",
       "      <td>Married</td>\n",
       "      <td>Yes, with legal basis</td>\n",
       "      <td>Married</td>\n",
       "    </tr>\n",
       "    <tr>\n",
       "      <th>1</th>\n",
       "      <td>906.15830</td>\n",
       "      <td>Married</td>\n",
       "      <td>Yes, with legal basis</td>\n",
       "      <td>Married</td>\n",
       "    </tr>\n",
       "    <tr>\n",
       "      <th>2</th>\n",
       "      <td>1227.68869</td>\n",
       "      <td>Married</td>\n",
       "      <td>Yes, with legal basis</td>\n",
       "      <td>Married</td>\n",
       "    </tr>\n",
       "    <tr>\n",
       "      <th>3</th>\n",
       "      <td>1227.68869</td>\n",
       "      <td>Married</td>\n",
       "      <td>Yes, with legal basis</td>\n",
       "      <td>Married</td>\n",
       "    </tr>\n",
       "    <tr>\n",
       "      <th>4</th>\n",
       "      <td>2559.35987</td>\n",
       "      <td>Divorced</td>\n",
       "      <td>No</td>\n",
       "      <td>Divorced</td>\n",
       "    </tr>\n",
       "  </tbody>\n",
       "</table>\n",
       "</div>"
      ],
      "text/plain": [
       "       weight legal_status       consensual_union civil_status+\n",
       "0   906.15830      Married  Yes, with legal basis       Married\n",
       "1   906.15830      Married  Yes, with legal basis       Married\n",
       "2  1227.68869      Married  Yes, with legal basis       Married\n",
       "3  1227.68869      Married  Yes, with legal basis       Married\n",
       "4  2559.35987     Divorced                     No      Divorced"
      ]
     },
     "execution_count": 26,
     "metadata": {},
     "output_type": "execute_result"
    }
   ],
   "source": [
    "civil_status['civil_status+'] = civil_status.apply(lambda row: \"Married 'de facto'\" \n",
    "                                                    if row['consensual_union'] == 'Yes, without legal basis' \n",
    "                                                    and row['legal_status'] == 'Never married'\n",
    "                                                    else row['legal_status'],\n",
    "                                                    axis=1)\n",
    "civil_status.head()"
   ]
  },
  {
   "cell_type": "code",
   "execution_count": 27,
   "metadata": {},
   "outputs": [
    {
     "data": {
      "text/html": [
       "<div>\n",
       "<style scoped>\n",
       "    .dataframe tbody tr th:only-of-type {\n",
       "        vertical-align: middle;\n",
       "    }\n",
       "\n",
       "    .dataframe tbody tr th {\n",
       "        vertical-align: top;\n",
       "    }\n",
       "\n",
       "    .dataframe thead th {\n",
       "        text-align: right;\n",
       "    }\n",
       "</style>\n",
       "<table border=\"1\" class=\"dataframe\">\n",
       "  <thead>\n",
       "    <tr style=\"text-align: right;\">\n",
       "      <th></th>\n",
       "      <th>weight</th>\n",
       "      <th>sex</th>\n",
       "      <th>age</th>\n",
       "      <th>economic_status</th>\n",
       "      <th>civil_status</th>\n",
       "    </tr>\n",
       "  </thead>\n",
       "  <tbody>\n",
       "    <tr>\n",
       "      <th>0</th>\n",
       "      <td>906.15830</td>\n",
       "      <td>Male</td>\n",
       "      <td>70</td>\n",
       "      <td>Retired</td>\n",
       "      <td>Married</td>\n",
       "    </tr>\n",
       "    <tr>\n",
       "      <th>1</th>\n",
       "      <td>906.15830</td>\n",
       "      <td>Female</td>\n",
       "      <td>68</td>\n",
       "      <td>Other</td>\n",
       "      <td>Married</td>\n",
       "    </tr>\n",
       "    <tr>\n",
       "      <th>2</th>\n",
       "      <td>1227.68869</td>\n",
       "      <td>Female</td>\n",
       "      <td>72</td>\n",
       "      <td>Other</td>\n",
       "      <td>Married</td>\n",
       "    </tr>\n",
       "    <tr>\n",
       "      <th>3</th>\n",
       "      <td>1227.68869</td>\n",
       "      <td>Male</td>\n",
       "      <td>60</td>\n",
       "      <td>Retired</td>\n",
       "      <td>Married</td>\n",
       "    </tr>\n",
       "    <tr>\n",
       "      <th>4</th>\n",
       "      <td>2559.35987</td>\n",
       "      <td>Female</td>\n",
       "      <td>54</td>\n",
       "      <td>Other</td>\n",
       "      <td>Divorced</td>\n",
       "    </tr>\n",
       "  </tbody>\n",
       "</table>\n",
       "</div>"
      ],
      "text/plain": [
       "       weight     sex  age economic_status civil_status\n",
       "0   906.15830    Male   70         Retired      Married\n",
       "1   906.15830  Female   68           Other      Married\n",
       "2  1227.68869  Female   72           Other      Married\n",
       "3  1227.68869    Male   60         Retired      Married\n",
       "4  2559.35987  Female   54           Other     Divorced"
      ]
     },
     "execution_count": 27,
     "metadata": {},
     "output_type": "execute_result"
    }
   ],
   "source": [
    "sociodemo['civil_status'] = civil_status['civil_status+']\n",
    "sociodemo.head()"
   ]
  },
  {
   "cell_type": "code",
   "execution_count": 28,
   "metadata": {},
   "outputs": [
    {
     "data": {
      "image/png": "[encoded data removed]",
      "text/plain": [
       "<Figure size 691.2x518.4 with 1 Axes>"
      ]
     },
     "metadata": {},
     "output_type": "display_data"
    }
   ],
   "source": [
    "barplot(x='civil_status', data=sociodemo)"
   ]
  },
  {
   "cell_type": "code",
   "execution_count": 29,
   "metadata": {},
   "outputs": [
    {
     "data": {
      "image/png": "[encoded data removed]",
      "text/plain": [
       "<Figure size 921.6x691.2 with 6 Axes>"
      ]
     },
     "metadata": {},
     "output_type": "display_data"
    }
   ],
   "source": [
    "bardiagram(x='civil_status', hue='sex', data=sociodemo)"
   ]
  },
  {
   "cell_type": "code",
   "execution_count": 30,
   "metadata": {},
   "outputs": [
    {
     "data": {
      "image/png": "[encoded data removed]",
      "text/plain": [
       "<Figure size 691.2x518.4 with 1 Axes>"
      ]
     },
     "metadata": {},
     "output_type": "display_data"
    }
   ],
   "source": [
    "boxplot(x='civil_status', y='age', data=sociodemo)"
   ]
  },
  {
   "cell_type": "code",
   "execution_count": 31,
   "metadata": {},
   "outputs": [
    {
     "data": {
      "text/plain": [
       "array(['Two adults, no children, one older than 64',\n",
       "       'Two adults with one children',\n",
       "       'One adult with one or more children',\n",
       "       'Other household types with no children',\n",
       "       'One female, between 30 and 64', 'Two adults with two children',\n",
       "       'Two adults, no children, both older than 64',\n",
       "       'One male, between 30 and 64',\n",
       "       'Two adults with three or more children',\n",
       "       'One male, older than 64', 'One female, older than 64',\n",
       "       'Other household types with children', 'One male, younger than 30',\n",
       "       nan, 'One female, younger than 30'], dtype=object)"
      ]
     },
     "execution_count": 31,
     "metadata": {},
     "output_type": "execute_result"
    }
   ],
   "source": [
    "ilc['Type of household'].unique()"
   ]
  },
  {
   "cell_type": "code",
   "execution_count": 32,
   "metadata": {},
   "outputs": [
    {
     "data": {
      "text/html": [
       "<div>\n",
       "<style scoped>\n",
       "    .dataframe tbody tr th:only-of-type {\n",
       "        vertical-align: middle;\n",
       "    }\n",
       "\n",
       "    .dataframe tbody tr th {\n",
       "        vertical-align: top;\n",
       "    }\n",
       "\n",
       "    .dataframe thead th {\n",
       "        text-align: right;\n",
       "    }\n",
       "</style>\n",
       "<table border=\"1\" class=\"dataframe\">\n",
       "  <thead>\n",
       "    <tr style=\"text-align: right;\">\n",
       "      <th></th>\n",
       "      <th>weight</th>\n",
       "      <th>household_composition</th>\n",
       "    </tr>\n",
       "  </thead>\n",
       "  <tbody>\n",
       "    <tr>\n",
       "      <th>0</th>\n",
       "      <td>906.15830</td>\n",
       "      <td>Two adults, no children, one older than 64</td>\n",
       "    </tr>\n",
       "    <tr>\n",
       "      <th>1</th>\n",
       "      <td>906.15830</td>\n",
       "      <td>Two adults, no children, one older than 64</td>\n",
       "    </tr>\n",
       "    <tr>\n",
       "      <th>2</th>\n",
       "      <td>1227.68869</td>\n",
       "      <td>Two adults, no children, one older than 64</td>\n",
       "    </tr>\n",
       "    <tr>\n",
       "      <th>3</th>\n",
       "      <td>1227.68869</td>\n",
       "      <td>Two adults, no children, one older than 64</td>\n",
       "    </tr>\n",
       "    <tr>\n",
       "      <th>4</th>\n",
       "      <td>2559.35987</td>\n",
       "      <td>Two adults with one children</td>\n",
       "    </tr>\n",
       "  </tbody>\n",
       "</table>\n",
       "</div>"
      ],
      "text/plain": [
       "       weight                       household_composition\n",
       "0   906.15830  Two adults, no children, one older than 64\n",
       "1   906.15830  Two adults, no children, one older than 64\n",
       "2  1227.68869  Two adults, no children, one older than 64\n",
       "3  1227.68869  Two adults, no children, one older than 64\n",
       "4  2559.35987                Two adults with one children"
      ]
     },
     "execution_count": 32,
     "metadata": {},
     "output_type": "execute_result"
    }
   ],
   "source": [
    "familial_status = pd.DataFrame({'weight': ilc['Personal cross-sectional weight']})\n",
    "familial_status['household_composition'] = ilc['Type of household']\n",
    "familial_status['household_composition'] = familial_status.household_composition.fillna('Missing')\n",
    "familial_status.head()"
   ]
  },
  {
   "cell_type": "code",
   "execution_count": 33,
   "metadata": {},
   "outputs": [
    {
     "data": {
      "image/png": "[encoded data removed]",
      "text/plain": [
       "<Figure size 691.2x518.4 with 1 Axes>"
      ]
     },
     "metadata": {},
     "output_type": "display_data"
    }
   ],
   "source": [
    "barplot(x='household_composition', data=familial_status, legend=True)"
   ]
  },
  {
   "cell_type": "code",
   "execution_count": 34,
   "metadata": {},
   "outputs": [
    {
     "data": {
      "text/plain": [
       "array(['Two adults, no children, one older than 64',\n",
       "       'Two adults with one children',\n",
       "       'One adult with one or more children',\n",
       "       'Other household types with no children',\n",
       "       'One female, between 30 and 64', 'Two adults with two children',\n",
       "       'Two adults, no children, both older than 64',\n",
       "       'One male, between 30 and 64',\n",
       "       'Two adults with three or more children',\n",
       "       'One male, older than 64', 'One female, older than 64',\n",
       "       'Other household types with children', 'One male, younger than 30',\n",
       "       nan, 'One female, younger than 30'], dtype=object)"
      ]
     },
     "execution_count": 34,
     "metadata": {},
     "output_type": "execute_result"
    }
   ],
   "source": [
    "ilc['Type of household'].unique()"
   ]
  },
  {
   "cell_type": "code",
   "execution_count": 35,
   "metadata": {},
   "outputs": [],
   "source": [
    "#Two adults, without childrem, Two adults with children, Single adult, "
   ]
  },
  {
   "cell_type": "code",
   "execution_count": 36,
   "metadata": {},
   "outputs": [
    {
     "ename": "SyntaxError",
     "evalue": "invalid syntax (<ipython-input-36-b6a9103e1d2e>, line 1)",
     "output_type": "error",
     "traceback": [
      "\u001b[1;36m  File \u001b[1;32m\"<ipython-input-36-b6a9103e1d2e>\"\u001b[1;36m, line \u001b[1;32m1\u001b[0m\n\u001b[1;33m    mapped_household_composition = {'Two adults, no children, one older than 64': ,\u001b[0m\n\u001b[1;37m                                                                                  ^\u001b[0m\n\u001b[1;31mSyntaxError\u001b[0m\u001b[1;31m:\u001b[0m invalid syntax\n"
     ]
    }
   ],
   "source": [
    "mapped_household_composition = {'Two adults, no children, one older than 64': ,\n",
    "       'Two adults with one children',\n",
    "       'One adult with one or more children',\n",
    "       'Other household types with no children',\n",
    "       'One female, between 30 and 64', 'Two adults with two children',\n",
    "       'Two adults, no children, both older than 64',\n",
    "       'One male, between 30 and 64',\n",
    "       'Two adults with three or more children',\n",
    "       'One male, older than 64', 'One female, older than 64',\n",
    "       'Other household types with children', 'One male, younger than 30',\n",
    "       nan, 'One female, younger than 30'}"
   ]
  },
  {
   "cell_type": "code",
   "execution_count": null,
   "metadata": {},
   "outputs": [],
   "source": [
    "familial_status['civil_status'] = sociodemo.civil_status\n",
    "familial_status.head()"
   ]
  },
  {
   "cell_type": "code",
   "execution_count": null,
   "metadata": {
    "scrolled": false
   },
   "outputs": [],
   "source": [
    "bardiagram(x='household_composition', hue='civil_status', data=familial_status, legend=True)"
   ]
  },
  {
   "cell_type": "code",
   "execution_count": 80,
   "metadata": {},
   "outputs": [
    {
     "name": "stdout",
     "output_type": "stream",
     "text": [
      "Personal cross-sectional weight\n",
      "Year of birth\n",
      "Sex\n",
      "Basic activity status\n",
      "Education at pre-school\n",
      "Education at compulsory school\n",
      "Childcare at centre-based services\n",
      "Childcare at day-care centre\n",
      "Childcare by a professional child-minder at child's home or at child-minder’s home\n",
      "Childcare by grand-parents, other household members (outside parents), other relatives, friends or neighbours\n",
      "Childrens’ cross-sectional weight for childcare\n",
      "Living in household with low employement level\n",
      "Living in household under risk of poverty\n",
      "Marital status\n",
      "Consensual Union\n",
      "Country of birth\n",
      "Citizenship\n",
      "Current education activity\n",
      "ISCED level currently attended\n",
      "Year when highest level of education was attained\n",
      "Highest ISCED level attained\n",
      "Self-defined current economic status\n",
      "Whether person has ever worked\n",
      "Actively looking for a job\n",
      "Available for work\n",
      "Status in employment\n",
      "Occupation\n",
      "Number of hours usually worked per week in main job\n",
      "Number of months spent at full-time work as employee\n",
      "Number of months spent at part-time work as employee\n",
      "Number of months spent at full-time work as self-employed (including family worker)\n",
      "Number of months spent at part-time work as self-employed (including family worker)\n",
      "Number of months spent in unemployment\n",
      "Number of months spent in retirement or early retirement\n",
      "Number of months spent as disabled or/and unfit to work\n",
      "Number of months spent studying\n",
      "Number of months spent fulfilling domestic tasks and care responsibilities\n",
      "Number of months spent in other inactivity\n",
      "Total number of hours usually worked in second, third, … jobs\n",
      "The economic activity of the local unit of the main job for respondents who are currently at work\n",
      "Reason for working less than 30 hours\n",
      "Number of persons working at the local unit\n",
      "Type of contract\n",
      "Managerial position\n",
      "Change of job since last year\n",
      "Reason to change\n",
      "Most recent change in the individual’s activity status\n",
      "When began first regular job\n",
      "Number of years spent in paid work\n",
      "Main activity in January\n",
      "Main activity in February\n",
      "Main activity in March\n",
      "Main activity in April\n",
      "Main activity in May\n",
      "Main activity in June\n",
      "Main activity in July\n",
      "Main activity in August\n",
      "Main activity in September\n",
      "Main activity in October\n",
      "Main activity in November\n",
      "Main activity in December\n",
      "General health\n",
      "Suffer from any chronic (long-standing) illness or condition\n",
      "Limitation in activities because of health problems\n",
      "Unmet need for medical examination or treatment\n",
      "Main reason for unmet need for medical examination or treatment\n",
      "Unmet need for dental examination or treatment\n",
      "Main reason for unmet need for dental examination or treatment\n",
      "Employee cash or near cash income (net)\n",
      "Non-Cash employee income (net)\n",
      "Company car (net)\n",
      "Contributions to individual private pension plans (net)\n",
      "Cash profits or losses from self-employment (net)\n",
      "Pension from individual private plans (net)\n",
      "Unemployment benefits (net)\n",
      "Old-age benefits (net)\n",
      "Survivor’ benefits (net)\n",
      "Sickness benefits (net)\n",
      "Disability benefits (net)\n",
      "Education-related allowances (net)\n",
      "Employee cash or near cash income (gross)\n",
      "Non-Cash employee income (gross)\n",
      "Company car (gross)\n",
      "Employer's social insurance contribution (gross)\n",
      "Contributions to individual private pension plans (gross)\n",
      "Cash profits or losses from self-employment (gross)\n",
      "Pension from individual private plans (gross)\n",
      "Unemployment benefits (gross)\n",
      "Old-age benefits (gross)\n",
      "Survivor’ benefits (gross)\n",
      "Sickness benefits (gross)\n",
      "Disability benefits (gross)\n",
      "Education-related allowances (gross)\n",
      "Main source of help against material deprivation\n",
      "Can replace damaged clothes for new clothes\n",
      "Has appropriate footwear for every season\n",
      "Meets friends or family to eat or have drinks at least once a month\n",
      "Regularly takes part in leisure activities such as playing sports, going to the movies, concerts, etc\n",
      "Spends money on treating one-self every week\n",
      "Has internet connection availabe\n",
      "Type of household when respondent was around 14 years old\n",
      "Presence of mother when respondent was around 14 years old\n",
      "Presence of father when respondent was around 14 years old\n",
      "Number of adults when respondent was around 14 years old\n",
      "Number of children when respondent was around 14 years old\n",
      "Number of persons in the household in work when respondent was around 14 years old\n",
      "Degree of urbanisation when respondent was around 14 years old\n",
      "Tenancy status when respondent was around 14 years old\n",
      "Country of birth of the father\n",
      "Citizenship of the father\n",
      "Country of birth of the mother\n",
      "Citizenship of the mother\n",
      "Highest level of education attained by the father\n",
      "Highest level of education attained by the mother\n",
      "Activity status of the father when respondent was around 14 years old\n",
      "Managerial position of the father when respondent was around 14 years old\n",
      "Main occupation of the father when respondent was around 14 years old\n",
      "Activity status of the mother when respondent was around 14 years old\n",
      "Managerial position of the mother when respondent was around 14 years old\n",
      "Main occupation of the mother when respondent was around 14 years old\n",
      "Financial situation of the household when respondent was around 14 years old\n",
      "Basic school needs (books and equipment for school) met when respondent was around 14 years old\n",
      "Having meal with meat, chicken, fish (or vegetarian equivalent) daily when respondent was around 14 years old\n",
      "One week annual holiday away from home when respondent was around 14 years old\n",
      "Region\n",
      "Degree of urbanisation\n",
      "Total disposable household income\n",
      "Total disposable household income before social transfers other than old-age and survivor’s benefits\n",
      "Total disposable household income before social transfers including old-age and survivor’s benefits\n",
      "Imputed rent (net)\n",
      "Income from rental of a property or land (net)\n",
      "Family/Children-related allowances (net)\n",
      "Social exclusion not elsewhere classified (net)\n",
      "Housing allowances (net)\n",
      "Regular inter-household cash transfer received (net)\n",
      "Alimonies received (compulsory + voluntary) (net)\n",
      "Interest, dividends, profit from capital investments in unincorporated business (net)\n",
      "Interest repayments on mortgage (net)\n",
      "Income received by people aged under 16 (net)\n",
      "Regular taxes on wealth (net)\n",
      "Regular inter-household cash transfer paid (net)\n",
      "Alimonies paid (compulsory + voluntary) (net)\n",
      "Repayments/receipts for tax adjustment (net)\n",
      "Value of goods produced for own consumption (net)\n",
      "Total household gross income\n",
      "Income from rental of a property or land (gross)\n",
      "Family/Children-related allowances (gross)\n",
      "Social exclusion not elsewhere classified (gross)\n",
      "Housing allowances (gross)\n",
      "Regular inter-household cash transfer received (gross)\n",
      "Alimonies received (compulsory + voluntary) (gross)\n",
      "Interest, dividends, profit from capital investments in unincorporated business (gross)\n",
      "Interest repayments on mortgage (gross)\n",
      "Income received by people aged under 16 (gross)\n",
      "Regular taxes on wealth (gross)\n",
      "Regular inter-household cash transfer paid (gross)\n",
      "Alimonies paid (compulsory + voluntary) (gross)\n",
      "Tax on income and social contributions (gross)\n",
      "Arrears on mortgage or rental payments\n",
      "Arrears on utility bills\n",
      "Arrears on hire purchase installments or other loan payments\n",
      "Capacity to afford paying for one week annual holiday away from home\n",
      "Capacity to afford a meal with meat, chicken, fish (or vegetarian equivalent) every second day\n",
      "Capacity to face unexpected financial expenses\n",
      "Do you have a telephone (including mobile phone)?\n",
      "Do you have a colour TV?\n",
      "Do you have a computer?\n",
      "Do you have a washing machine?\n",
      "Do you have a car?\n",
      "Ability to make ends meet\n",
      "Lowest monthly income to make ends meet\n",
      "Financial burden of the total housing cost\n",
      "Financial burden of the repayment of debts from hire purchases or loans\n",
      "Problems with the dwelling: too dark, not enough light\n",
      "Noise from neighbours or from the street\n",
      "Pollution, grime or other environment problems\n",
      "Crime, violence or vandalism in the area\n",
      "Dwelling type\n",
      "Tenure status\n",
      "Number of rooms available to the household\n",
      "Year of contract or purchasing or installation\n",
      "Leaking roof, damp walls/floors/foundation, or rot in window frames or floor\n",
      "Ability to keep home adequately warm\n",
      "Current rent related to occupied dwelling\n",
      "Subjective rent\n",
      "Total housing cost\n",
      "Bath or shower in dwelling\n",
      "Indoor flushing toilet for sole use of household\n",
      "Has resorted to friends and relatives for basic goods such as food or clothes in the last year\n",
      "Has resorted to charities for basic goods such as food or clothes in the last year\n",
      "Has lost power supply for economic reasons in the last year\n",
      "Monthly mortgage payment. Depreciation and interests included\n",
      "Number of people in dweling\n",
      "Type of household\n",
      "Consumption unit\n",
      "Total disposable household income (2)\n",
      "Total disposable household income including imputed rent\n",
      "Household is at risk of poverty\n",
      "Household endures severe material deprivation\n",
      "Can afford to replace damaged furniture\n",
      "Change in income compared to previous year\n",
      "Reason for increase in income\n",
      "Reason for decrease in income\n",
      "Future income\n"
     ]
    }
   ],
   "source": [
    "for c in ilc.columns:\n",
    "    print(c)"
   ]
  }
 ],
 "metadata": {
  "kernelspec": {
   "display_name": "Python 3",
   "language": "python",
   "name": "python3"
  },
  "language_info": {
   "codemirror_mode": {
    "name": "ipython",
    "version": 3
   },
   "file_extension": ".py",
   "mimetype": "text/x-python",
   "name": "python",
   "nbconvert_exporter": "python",
   "pygments_lexer": "ipython3",
   "version": "3.8.3"
  }
 },
 "nbformat": 4,
 "nbformat_minor": 4
}
