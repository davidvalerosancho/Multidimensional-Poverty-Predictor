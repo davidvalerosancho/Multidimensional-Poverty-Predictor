{
 "cells": [
  {
   "cell_type": "code",
   "execution_count": 17,
   "metadata": {},
   "outputs": [],
   "source": [
    "import pandas as pd\n",
    "import numpy as np\n",
    "from sklearn.preprocessing import  StandardScaler\n",
    "from sklearn.model_selection import train_test_split\n",
    "from sklearn.tree import DecisionTreeClassifier\n",
    "from sklearn.ensemble import RandomForestClassifier\n",
    "from sklearn.feature_selection import RFE\n",
    "from sklearn.metrics import confusion_matrix\n",
    "from sklearn.metrics import classification_report\n",
    "from sklearn.metrics import roc_auc_score\n",
    "from sklearn.metrics import roc_curve\n",
    "import matplotlib.pyplot as plt\n",
    "import seaborn as sns"
   ]
  },
  {
   "cell_type": "code",
   "execution_count": 18,
   "metadata": {},
   "outputs": [],
   "source": [
    "data = pd.read_csv(r'C:\\Users\\dvale\\TFM\\Data\\all_variables.csv')"
   ]
  },
  {
   "cell_type": "code",
   "execution_count": 19,
   "metadata": {},
   "outputs": [
    {
     "name": "stdout",
     "output_type": "stream",
     "text": [
      "(39852, 26)\n",
      "Index(['Unnamed: 0', 'id', 'weight', 'sex', 'age', 'civil_status',\n",
      "       'familial_status', 'region', 'population_density', 'citizenship',\n",
      "       'tenure_status', 'education_level', 'working_status',\n",
      "       'working_status_agg', 'occupation', 'economic_sector', 'years_worked',\n",
      "       'hours_week_worked', 'household_income', 'person_room',\n",
      "       'self_perceived_bad_health', 'has_health_limitations',\n",
      "       'has_chronic_condition', 'unmet_medical_treatment', 'has_support_net',\n",
      "       'poverty_score'],\n",
      "      dtype='object')\n"
     ]
    }
   ],
   "source": [
    "print(data.shape)\n",
    "print(data.columns)"
   ]
  },
  {
   "cell_type": "code",
   "execution_count": 20,
   "metadata": {},
   "outputs": [
    {
     "name": "stdout",
     "output_type": "stream",
     "text": [
      "<class 'pandas.core.frame.DataFrame'>\n",
      "RangeIndex: 39852 entries, 0 to 39851\n",
      "Data columns (total 21 columns):\n",
      " #   Column                     Non-Null Count  Dtype  \n",
      "---  ------                     --------------  -----  \n",
      " 0   sex                        39852 non-null  object \n",
      " 1   age                        39852 non-null  int64  \n",
      " 2   civil_status               39852 non-null  object \n",
      " 3   familial_status            39852 non-null  object \n",
      " 4   region                     39852 non-null  object \n",
      " 5   population_density         39852 non-null  object \n",
      " 6   citizenship                39852 non-null  object \n",
      " 7   tenure_status              39852 non-null  object \n",
      " 8   education_level            39852 non-null  object \n",
      " 9   working_status             39852 non-null  object \n",
      " 10  working_status_agg         39852 non-null  object \n",
      " 11  occupation                 39852 non-null  object \n",
      " 12  years_worked               39852 non-null  int64  \n",
      " 13  hours_week_worked          39852 non-null  int64  \n",
      " 14  person_room                39795 non-null  float64\n",
      " 15  self_perceived_bad_health  39852 non-null  object \n",
      " 16  has_health_limitations     39852 non-null  object \n",
      " 17  has_chronic_condition      39852 non-null  object \n",
      " 18  unmet_medical_treatment    39852 non-null  object \n",
      " 19  has_support_net            39852 non-null  object \n",
      " 20  poverty_score              39852 non-null  float64\n",
      "dtypes: float64(2), int64(3), object(16)\n",
      "memory usage: 6.4+ MB\n"
     ]
    }
   ],
   "source": [
    "data = data.drop(['Unnamed: 0', 'id', 'weight', 'economic_sector', 'household_income'], axis=1)\n",
    "data.info()"
   ]
  },
  {
   "cell_type": "code",
   "execution_count": 21,
   "metadata": {},
   "outputs": [],
   "source": [
    "data.person_room = data.person_room.fillna(data.person_room.median())"
   ]
  },
  {
   "cell_type": "code",
   "execution_count": 22,
   "metadata": {},
   "outputs": [
    {
     "data": {
      "text/plain": [
       "array(['Retired', 'Unpaid carer/domestic worker',\n",
       "       'Disabled/unfit to work', 'Unemployed', 'Student', 'Employed',\n",
       "       'Self-employed', 'Minor'], dtype=object)"
      ]
     },
     "execution_count": 22,
     "metadata": {},
     "output_type": "execute_result"
    }
   ],
   "source": [
    "data.working_status.unique()"
   ]
  },
  {
   "cell_type": "code",
   "execution_count": 23,
   "metadata": {},
   "outputs": [
    {
     "data": {
      "text/plain": [
       "array(['Retired', 'Unpaid carer/domestic worker',\n",
       "       'Disabled/unfit to work', 'Unemployed', 'Student', 'Employed',\n",
       "       'Minor'], dtype=object)"
      ]
     },
     "execution_count": 23,
     "metadata": {},
     "output_type": "execute_result"
    }
   ],
   "source": [
    "data.working_status = np.where(data.working_status == 'Self-employed', 'Employed', data.working_status)\n",
    "data.working_status.unique()"
   ]
  },
  {
   "cell_type": "code",
   "execution_count": 24,
   "metadata": {},
   "outputs": [],
   "source": [
    "data = data.drop(['working_status_agg'], axis=1)"
   ]
  },
  {
   "cell_type": "code",
   "execution_count": 25,
   "metadata": {},
   "outputs": [
    {
     "data": {
      "text/html": [
       "<div>\n",
       "<style scoped>\n",
       "    .dataframe tbody tr th:only-of-type {\n",
       "        vertical-align: middle;\n",
       "    }\n",
       "\n",
       "    .dataframe tbody tr th {\n",
       "        vertical-align: top;\n",
       "    }\n",
       "\n",
       "    .dataframe thead th {\n",
       "        text-align: right;\n",
       "    }\n",
       "</style>\n",
       "<table border=\"1\" class=\"dataframe\">\n",
       "  <thead>\n",
       "    <tr style=\"text-align: right;\">\n",
       "      <th></th>\n",
       "      <th>sex</th>\n",
       "      <th>age</th>\n",
       "      <th>civil_status</th>\n",
       "      <th>familial_status</th>\n",
       "      <th>region</th>\n",
       "      <th>population_density</th>\n",
       "      <th>citizenship</th>\n",
       "      <th>tenure_status</th>\n",
       "      <th>education_level</th>\n",
       "      <th>working_status</th>\n",
       "      <th>occupation</th>\n",
       "      <th>years_worked</th>\n",
       "      <th>hours_week_worked</th>\n",
       "      <th>person_room</th>\n",
       "      <th>self_perceived_bad_health</th>\n",
       "      <th>has_health_limitations</th>\n",
       "      <th>has_chronic_condition</th>\n",
       "      <th>unmet_medical_treatment</th>\n",
       "      <th>has_support_net</th>\n",
       "      <th>poverty_score</th>\n",
       "    </tr>\n",
       "  </thead>\n",
       "  <tbody>\n",
       "    <tr>\n",
       "      <th>0</th>\n",
       "      <td>Male</td>\n",
       "      <td>1.088573</td>\n",
       "      <td>Married</td>\n",
       "      <td>No</td>\n",
       "      <td>Basque Country</td>\n",
       "      <td>Thinly-populated area</td>\n",
       "      <td>Spain</td>\n",
       "      <td>Outright owner</td>\n",
       "      <td>Upper secondary education</td>\n",
       "      <td>Retired</td>\n",
       "      <td>Clerical Support Workers</td>\n",
       "      <td>1.831752</td>\n",
       "      <td>0</td>\n",
       "      <td>2.500000</td>\n",
       "      <td>Yes</td>\n",
       "      <td>Yes</td>\n",
       "      <td>Yes</td>\n",
       "      <td>No</td>\n",
       "      <td>Yes</td>\n",
       "      <td>0.000000</td>\n",
       "    </tr>\n",
       "    <tr>\n",
       "      <th>1</th>\n",
       "      <td>Female</td>\n",
       "      <td>1.002616</td>\n",
       "      <td>Married</td>\n",
       "      <td>No</td>\n",
       "      <td>Basque Country</td>\n",
       "      <td>Thinly-populated area</td>\n",
       "      <td>Spain</td>\n",
       "      <td>Outright owner</td>\n",
       "      <td>Upper secondary education</td>\n",
       "      <td>Unpaid carer/domestic worker</td>\n",
       "      <td>Clerical Support Workers</td>\n",
       "      <td>-0.922952</td>\n",
       "      <td>0</td>\n",
       "      <td>2.500000</td>\n",
       "      <td>No</td>\n",
       "      <td>No</td>\n",
       "      <td>Yes</td>\n",
       "      <td>No</td>\n",
       "      <td>Yes</td>\n",
       "      <td>0.000000</td>\n",
       "    </tr>\n",
       "    <tr>\n",
       "      <th>2</th>\n",
       "      <td>Female</td>\n",
       "      <td>1.174531</td>\n",
       "      <td>Married</td>\n",
       "      <td>No</td>\n",
       "      <td>Basque Country</td>\n",
       "      <td>Thinly-populated area</td>\n",
       "      <td>Spain</td>\n",
       "      <td>Outright owner</td>\n",
       "      <td>Lower secondary education</td>\n",
       "      <td>Unpaid carer/domestic worker</td>\n",
       "      <td>Elementary Occupations</td>\n",
       "      <td>0.178930</td>\n",
       "      <td>0</td>\n",
       "      <td>2.500000</td>\n",
       "      <td>No</td>\n",
       "      <td>No</td>\n",
       "      <td>No</td>\n",
       "      <td>No</td>\n",
       "      <td>Yes</td>\n",
       "      <td>0.000000</td>\n",
       "    </tr>\n",
       "    <tr>\n",
       "      <th>3</th>\n",
       "      <td>Male</td>\n",
       "      <td>0.658786</td>\n",
       "      <td>Married</td>\n",
       "      <td>No</td>\n",
       "      <td>Basque Country</td>\n",
       "      <td>Thinly-populated area</td>\n",
       "      <td>Spain</td>\n",
       "      <td>Outright owner</td>\n",
       "      <td>Upper secondary education</td>\n",
       "      <td>Retired</td>\n",
       "      <td>Services and Sales Workers</td>\n",
       "      <td>1.097164</td>\n",
       "      <td>0</td>\n",
       "      <td>2.500000</td>\n",
       "      <td>No</td>\n",
       "      <td>No</td>\n",
       "      <td>No</td>\n",
       "      <td>No</td>\n",
       "      <td>Yes</td>\n",
       "      <td>0.000000</td>\n",
       "    </tr>\n",
       "    <tr>\n",
       "      <th>4</th>\n",
       "      <td>Female</td>\n",
       "      <td>0.400914</td>\n",
       "      <td>Divorced</td>\n",
       "      <td>Yes</td>\n",
       "      <td>Basque Country</td>\n",
       "      <td>Thinly-populated area</td>\n",
       "      <td>Spain</td>\n",
       "      <td>Outright owner</td>\n",
       "      <td>Higher education</td>\n",
       "      <td>Disabled/unfit to work</td>\n",
       "      <td>Services and Sales Workers</td>\n",
       "      <td>0.791086</td>\n",
       "      <td>0</td>\n",
       "      <td>1.666667</td>\n",
       "      <td>No</td>\n",
       "      <td>Yes</td>\n",
       "      <td>Yes</td>\n",
       "      <td>No</td>\n",
       "      <td>Yes</td>\n",
       "      <td>5.603701</td>\n",
       "    </tr>\n",
       "  </tbody>\n",
       "</table>\n",
       "</div>"
      ],
      "text/plain": [
       "      sex       age civil_status familial_status          region  \\\n",
       "0    Male  1.088573      Married              No  Basque Country   \n",
       "1  Female  1.002616      Married              No  Basque Country   \n",
       "2  Female  1.174531      Married              No  Basque Country   \n",
       "3    Male  0.658786      Married              No  Basque Country   \n",
       "4  Female  0.400914     Divorced             Yes  Basque Country   \n",
       "\n",
       "      population_density citizenship   tenure_status  \\\n",
       "0  Thinly-populated area       Spain  Outright owner   \n",
       "1  Thinly-populated area       Spain  Outright owner   \n",
       "2  Thinly-populated area       Spain  Outright owner   \n",
       "3  Thinly-populated area       Spain  Outright owner   \n",
       "4  Thinly-populated area       Spain  Outright owner   \n",
       "\n",
       "             education_level                working_status  \\\n",
       "0  Upper secondary education                       Retired   \n",
       "1  Upper secondary education  Unpaid carer/domestic worker   \n",
       "2  Lower secondary education  Unpaid carer/domestic worker   \n",
       "3  Upper secondary education                       Retired   \n",
       "4           Higher education        Disabled/unfit to work   \n",
       "\n",
       "                   occupation  years_worked  hours_week_worked  person_room  \\\n",
       "0    Clerical Support Workers      1.831752                  0     2.500000   \n",
       "1    Clerical Support Workers     -0.922952                  0     2.500000   \n",
       "2      Elementary Occupations      0.178930                  0     2.500000   \n",
       "3  Services and Sales Workers      1.097164                  0     2.500000   \n",
       "4  Services and Sales Workers      0.791086                  0     1.666667   \n",
       "\n",
       "  self_perceived_bad_health has_health_limitations has_chronic_condition  \\\n",
       "0                       Yes                    Yes                   Yes   \n",
       "1                        No                     No                   Yes   \n",
       "2                        No                     No                    No   \n",
       "3                        No                     No                    No   \n",
       "4                        No                    Yes                   Yes   \n",
       "\n",
       "  unmet_medical_treatment has_support_net  poverty_score  \n",
       "0                      No             Yes       0.000000  \n",
       "1                      No             Yes       0.000000  \n",
       "2                      No             Yes       0.000000  \n",
       "3                      No             Yes       0.000000  \n",
       "4                      No             Yes       5.603701  "
      ]
     },
     "execution_count": 25,
     "metadata": {},
     "output_type": "execute_result"
    }
   ],
   "source": [
    "scaler = StandardScaler()\n",
    "\n",
    "num_var = data[['age', 'years_worked', 'hours_week_worked']]\n",
    "scaler.fit(num_var)\n",
    "scaled_var = pd.DataFrame(scaler.transform(num_var), columns=num_var.columns)\n",
    "\n",
    "data.age = scaled_var.age\n",
    "data.years_worked = scaled_var.years_worked\n",
    "data.years_worked = scaled_var.years_worked\n",
    "\n",
    "data.head()"
   ]
  },
  {
   "cell_type": "code",
   "execution_count": 26,
   "metadata": {},
   "outputs": [],
   "source": [
    "def get_dummies(df):\n",
    "    new_df = pd.DataFrame()\n",
    "    for c in df.columns:\n",
    "        if type(df[c][0]) == type('string'):\n",
    "            dummy_df = pd.get_dummies(df[c])\n",
    "            for dummy_column in dummy_df.columns:\n",
    "                new_df[c + '_' + dummy_column] = dummy_df[dummy_column]\n",
    "        else:\n",
    "            new_df[c] = df[c]\n",
    "    return new_df"
   ]
  },
  {
   "cell_type": "code",
   "execution_count": 27,
   "metadata": {},
   "outputs": [
    {
     "data": {
      "text/html": [
       "<div>\n",
       "<style scoped>\n",
       "    .dataframe tbody tr th:only-of-type {\n",
       "        vertical-align: middle;\n",
       "    }\n",
       "\n",
       "    .dataframe tbody tr th {\n",
       "        vertical-align: top;\n",
       "    }\n",
       "\n",
       "    .dataframe thead th {\n",
       "        text-align: right;\n",
       "    }\n",
       "</style>\n",
       "<table border=\"1\" class=\"dataframe\">\n",
       "  <thead>\n",
       "    <tr style=\"text-align: right;\">\n",
       "      <th></th>\n",
       "      <th>age</th>\n",
       "      <th>civil_status_Divorced</th>\n",
       "      <th>civil_status_Married</th>\n",
       "      <th>civil_status_Married 'de facto'</th>\n",
       "      <th>civil_status_Minor</th>\n",
       "      <th>civil_status_Never married</th>\n",
       "      <th>civil_status_Separated</th>\n",
       "      <th>civil_status_Widowed</th>\n",
       "      <th>familial_status_No</th>\n",
       "      <th>familial_status_Yes</th>\n",
       "      <th>...</th>\n",
       "      <th>has_health_limitations_No</th>\n",
       "      <th>has_health_limitations_Yes</th>\n",
       "      <th>has_chronic_condition_Minor</th>\n",
       "      <th>has_chronic_condition_No</th>\n",
       "      <th>has_chronic_condition_Yes</th>\n",
       "      <th>unmet_medical_treatment_No</th>\n",
       "      <th>unmet_medical_treatment_Yes</th>\n",
       "      <th>has_support_net_No</th>\n",
       "      <th>has_support_net_Yes</th>\n",
       "      <th>poverty_score</th>\n",
       "    </tr>\n",
       "  </thead>\n",
       "  <tbody>\n",
       "    <tr>\n",
       "      <th>0</th>\n",
       "      <td>1.088573</td>\n",
       "      <td>0</td>\n",
       "      <td>1</td>\n",
       "      <td>0</td>\n",
       "      <td>0</td>\n",
       "      <td>0</td>\n",
       "      <td>0</td>\n",
       "      <td>0</td>\n",
       "      <td>1</td>\n",
       "      <td>0</td>\n",
       "      <td>...</td>\n",
       "      <td>0</td>\n",
       "      <td>1</td>\n",
       "      <td>0</td>\n",
       "      <td>0</td>\n",
       "      <td>1</td>\n",
       "      <td>1</td>\n",
       "      <td>0</td>\n",
       "      <td>0</td>\n",
       "      <td>1</td>\n",
       "      <td>0.000000</td>\n",
       "    </tr>\n",
       "    <tr>\n",
       "      <th>1</th>\n",
       "      <td>1.002616</td>\n",
       "      <td>0</td>\n",
       "      <td>1</td>\n",
       "      <td>0</td>\n",
       "      <td>0</td>\n",
       "      <td>0</td>\n",
       "      <td>0</td>\n",
       "      <td>0</td>\n",
       "      <td>1</td>\n",
       "      <td>0</td>\n",
       "      <td>...</td>\n",
       "      <td>1</td>\n",
       "      <td>0</td>\n",
       "      <td>0</td>\n",
       "      <td>0</td>\n",
       "      <td>1</td>\n",
       "      <td>1</td>\n",
       "      <td>0</td>\n",
       "      <td>0</td>\n",
       "      <td>1</td>\n",
       "      <td>0.000000</td>\n",
       "    </tr>\n",
       "    <tr>\n",
       "      <th>2</th>\n",
       "      <td>1.174531</td>\n",
       "      <td>0</td>\n",
       "      <td>1</td>\n",
       "      <td>0</td>\n",
       "      <td>0</td>\n",
       "      <td>0</td>\n",
       "      <td>0</td>\n",
       "      <td>0</td>\n",
       "      <td>1</td>\n",
       "      <td>0</td>\n",
       "      <td>...</td>\n",
       "      <td>1</td>\n",
       "      <td>0</td>\n",
       "      <td>0</td>\n",
       "      <td>1</td>\n",
       "      <td>0</td>\n",
       "      <td>1</td>\n",
       "      <td>0</td>\n",
       "      <td>0</td>\n",
       "      <td>1</td>\n",
       "      <td>0.000000</td>\n",
       "    </tr>\n",
       "    <tr>\n",
       "      <th>3</th>\n",
       "      <td>0.658786</td>\n",
       "      <td>0</td>\n",
       "      <td>1</td>\n",
       "      <td>0</td>\n",
       "      <td>0</td>\n",
       "      <td>0</td>\n",
       "      <td>0</td>\n",
       "      <td>0</td>\n",
       "      <td>1</td>\n",
       "      <td>0</td>\n",
       "      <td>...</td>\n",
       "      <td>1</td>\n",
       "      <td>0</td>\n",
       "      <td>0</td>\n",
       "      <td>1</td>\n",
       "      <td>0</td>\n",
       "      <td>1</td>\n",
       "      <td>0</td>\n",
       "      <td>0</td>\n",
       "      <td>1</td>\n",
       "      <td>0.000000</td>\n",
       "    </tr>\n",
       "    <tr>\n",
       "      <th>4</th>\n",
       "      <td>0.400914</td>\n",
       "      <td>1</td>\n",
       "      <td>0</td>\n",
       "      <td>0</td>\n",
       "      <td>0</td>\n",
       "      <td>0</td>\n",
       "      <td>0</td>\n",
       "      <td>0</td>\n",
       "      <td>0</td>\n",
       "      <td>1</td>\n",
       "      <td>...</td>\n",
       "      <td>0</td>\n",
       "      <td>1</td>\n",
       "      <td>0</td>\n",
       "      <td>0</td>\n",
       "      <td>1</td>\n",
       "      <td>1</td>\n",
       "      <td>0</td>\n",
       "      <td>0</td>\n",
       "      <td>1</td>\n",
       "      <td>5.603701</td>\n",
       "    </tr>\n",
       "  </tbody>\n",
       "</table>\n",
       "<p>5 rows × 82 columns</p>\n",
       "</div>"
      ],
      "text/plain": [
       "        age  civil_status_Divorced  civil_status_Married  \\\n",
       "0  1.088573                      0                     1   \n",
       "1  1.002616                      0                     1   \n",
       "2  1.174531                      0                     1   \n",
       "3  0.658786                      0                     1   \n",
       "4  0.400914                      1                     0   \n",
       "\n",
       "   civil_status_Married 'de facto'  civil_status_Minor  \\\n",
       "0                                0                   0   \n",
       "1                                0                   0   \n",
       "2                                0                   0   \n",
       "3                                0                   0   \n",
       "4                                0                   0   \n",
       "\n",
       "   civil_status_Never married  civil_status_Separated  civil_status_Widowed  \\\n",
       "0                           0                       0                     0   \n",
       "1                           0                       0                     0   \n",
       "2                           0                       0                     0   \n",
       "3                           0                       0                     0   \n",
       "4                           0                       0                     0   \n",
       "\n",
       "   familial_status_No  familial_status_Yes  ...  has_health_limitations_No  \\\n",
       "0                   1                    0  ...                          0   \n",
       "1                   1                    0  ...                          1   \n",
       "2                   1                    0  ...                          1   \n",
       "3                   1                    0  ...                          1   \n",
       "4                   0                    1  ...                          0   \n",
       "\n",
       "   has_health_limitations_Yes  has_chronic_condition_Minor  \\\n",
       "0                           1                            0   \n",
       "1                           0                            0   \n",
       "2                           0                            0   \n",
       "3                           0                            0   \n",
       "4                           1                            0   \n",
       "\n",
       "   has_chronic_condition_No  has_chronic_condition_Yes  \\\n",
       "0                         0                          1   \n",
       "1                         0                          1   \n",
       "2                         1                          0   \n",
       "3                         1                          0   \n",
       "4                         0                          1   \n",
       "\n",
       "   unmet_medical_treatment_No  unmet_medical_treatment_Yes  \\\n",
       "0                           1                            0   \n",
       "1                           1                            0   \n",
       "2                           1                            0   \n",
       "3                           1                            0   \n",
       "4                           1                            0   \n",
       "\n",
       "   has_support_net_No  has_support_net_Yes  poverty_score  \n",
       "0                   0                    1       0.000000  \n",
       "1                   0                    1       0.000000  \n",
       "2                   0                    1       0.000000  \n",
       "3                   0                    1       0.000000  \n",
       "4                   0                    1       5.603701  \n",
       "\n",
       "[5 rows x 82 columns]"
      ]
     },
     "execution_count": 27,
     "metadata": {},
     "output_type": "execute_result"
    }
   ],
   "source": [
    "data_final = get_dummies(data[data.columns[1:]])\n",
    "\n",
    "data_final.head()"
   ]
  },
  {
   "cell_type": "code",
   "execution_count": 28,
   "metadata": {},
   "outputs": [],
   "source": [
    "data_final['is_minor'] = data_final.civil_status_Minor\n",
    "data_final = data_final.drop(['civil_status_Minor', \n",
    "                               'working_status_Minor', \n",
    "                               'education_level_Minor'], axis=1)"
   ]
  },
  {
   "cell_type": "code",
   "execution_count": 29,
   "metadata": {},
   "outputs": [
    {
     "name": "stdout",
     "output_type": "stream",
     "text": [
      "Has material deprivation: 20.94%\n",
      "Does not have material deprivation: 79.06%\n"
     ]
    }
   ],
   "source": [
    "data_final['material_deprivation'] = data.poverty_score.apply(lambda x: 1 if x > 2.02 else 0)\n",
    "data_final = data_final.drop(['poverty_score'], axis=1)\n",
    "\n",
    "count_yes = len(data_final[data_final.material_deprivation == 1])\n",
    "count_no = len(data_final[data_final.material_deprivation == 0])\n",
    "freq_yes = (count_yes/(count_yes+count_no))*100\n",
    "freq_no = (count_no/(count_yes+count_no))*100\n",
    "\n",
    "print('''Has material deprivation: {}%\n",
    "Does not have material deprivation: {}%'''.format(round(freq_yes, 2), round(freq_no, 2)))"
   ]
  },
  {
   "cell_type": "code",
   "execution_count": 30,
   "metadata": {},
   "outputs": [],
   "source": [
    "X = data_final.drop(['material_deprivation'], axis=1)\n",
    "y = data_final.material_deprivation\n",
    "\n",
    "X_train, X_test, y_train, y_test = train_test_split(X, y)"
   ]
  },
  {
   "cell_type": "code",
   "execution_count": 31,
   "metadata": {},
   "outputs": [],
   "source": [
    "frac = y_train.sum()/y_train.count()\n",
    "\n",
    "training_data = X_train.copy()\n",
    "training_data['material_deprivation'] = y_train.copy()\n",
    "training_data_us = pd.concat([training_data[training_data.material_deprivation == 1], \n",
    "                              training_data[training_data.material_deprivation == 0].sample(frac=frac)]).sample(frac=1)\n",
    "\n",
    "X_train_us = training_data_us.drop(['material_deprivation'], axis=1)\n",
    "y_train_us = training_data_us.material_deprivation"
   ]
  },
  {
   "cell_type": "code",
   "execution_count": 32,
   "metadata": {},
   "outputs": [
    {
     "name": "stdout",
     "output_type": "stream",
     "text": [
      "[ True False  True False  True False False  True  True  True False False\n",
      " False False False False False  True  True False  True False  True False\n",
      " False False  True  True  True  True  True False False  True False False\n",
      "  True  True  True  True  True  True  True  True  True False  True False\n",
      " False  True False False  True  True  True False False  True  True  True\n",
      " False False  True  True  True False False False False False  True False\n",
      "  True  True False False False False False]\n",
      "[ 1 13  1 25  1 26 18  1  1  1 14 19 17  5 10 21  3  1  1 29  1  7  1 23\n",
      " 32 20  1  1  1  1  1 34  2  1 15 16  1  1  1  1  1  1  1  1  1 30  1  8\n",
      " 31  1 12  9  1  1  1 35 33  1  1  1 27 11  1  1  1 38 22  6 39  4  1 36\n",
      "  1  1 37 40 24 28 41]\n"
     ]
    }
   ],
   "source": [
    "random_forest = RandomForestClassifier(criterion='entropy', n_estimators=100)\n",
    "\n",
    "rfe = RFE(random_forest)\n",
    "rfe = rfe.fit(X_train_us, y_train_us)\n",
    "print(rfe.support_)\n",
    "print(rfe.ranking_)"
   ]
  },
  {
   "cell_type": "code",
   "execution_count": 102,
   "metadata": {},
   "outputs": [
    {
     "data": {
      "text/plain": [
       "['sex_Female',\n",
       " 'sex_Male',\n",
       " 'age',\n",
       " 'civil_status_Married',\n",
       " 'civil_status_Never married',\n",
       " 'familial_status_No',\n",
       " 'familial_status_Yes',\n",
       " 'region_Andalusia',\n",
       " 'region_Castile–La Mancha',\n",
       " 'region_Catalonia',\n",
       " 'region_Comunity of Madrid',\n",
       " 'region_Galicia',\n",
       " 'population_density_Densely-populated area',\n",
       " 'population_density_Intermediate area',\n",
       " 'population_density_Thinly-populated area',\n",
       " 'citizenship_Other (outside EU)',\n",
       " 'citizenship_Spain',\n",
       " 'tenure_status_Accommodation is rented at a reduced rate (lower price than the market price)',\n",
       " 'tenure_status_Outright owner',\n",
       " 'tenure_status_Owner paying mortgage',\n",
       " 'tenure_status_Tenant or subtenant paying rent at prevailing or market rate',\n",
       " 'education_level_Higher education',\n",
       " 'education_level_Lower secondary education',\n",
       " 'education_level_Pre-primary education',\n",
       " 'education_level_Primary education',\n",
       " 'education_level_Upper secondary education',\n",
       " 'working_status_Employed',\n",
       " 'working_status_Unemployed',\n",
       " 'occupation_Economically inactive',\n",
       " 'occupation_Elementary Occupations',\n",
       " 'occupation_Services and Sales Workers',\n",
       " 'years_worked',\n",
       " 'hours_week_worked']"
      ]
     },
     "execution_count": 102,
     "metadata": {},
     "output_type": "execute_result"
    }
   ],
   "source": [
    "selected_columns = [X_train.columns[i] for i in range(len(rfe.support_)) if rfe.support_[i] == True]\n",
    "selected_columns"
   ]
  },
  {
   "cell_type": "code",
   "execution_count": 103,
   "metadata": {},
   "outputs": [
    {
     "name": "stdout",
     "output_type": "stream",
     "text": [
      "              precision    recall  f1-score   support\n",
      "\n",
      "           0       0.98      0.74      0.85      9497\n",
      "           1       0.13      0.75      0.22       466\n",
      "\n",
      "    accuracy                           0.74      9963\n",
      "   macro avg       0.56      0.75      0.53      9963\n",
      "weighted avg       0.94      0.74      0.82      9963\n",
      "\n"
     ]
    }
   ],
   "source": [
    "X_train_us = X_train_us[selected_columns]\n",
    "X_test = X_test[selected_columns]\n",
    "\n",
    "random_forest = RandomForestClassifier(criterion='entropy', n_estimators=100).fit(X_train_us, y_train_us)\n",
    "\n",
    "y_pred = random_forest.predict(X_test)\n",
    "print(classification_report(y_test, y_pred))"
   ]
  },
  {
   "cell_type": "code",
   "execution_count": 104,
   "metadata": {},
   "outputs": [
    {
     "ename": "TypeError",
     "evalue": "'numpy.ndarray' object is not callable",
     "output_type": "error",
     "traceback": [
      "\u001b[1;31m---------------------------------------------------------------------------\u001b[0m",
      "\u001b[1;31mTypeError\u001b[0m                                 Traceback (most recent call last)",
      "\u001b[1;32m<ipython-input-104-3578d14bb652>\u001b[0m in \u001b[0;36m<module>\u001b[1;34m\u001b[0m\n\u001b[1;32m----> 1\u001b[1;33m \u001b[0mconfusion_matrix\u001b[0m \u001b[1;33m=\u001b[0m \u001b[0mconfusion_matrix\u001b[0m\u001b[1;33m(\u001b[0m\u001b[0my_test\u001b[0m\u001b[1;33m,\u001b[0m \u001b[0my_pred\u001b[0m\u001b[1;33m)\u001b[0m\u001b[1;33m\u001b[0m\u001b[1;33m\u001b[0m\u001b[0m\n\u001b[0m\u001b[0;32m      2\u001b[0m \u001b[0mprint\u001b[0m\u001b[1;33m(\u001b[0m\u001b[0mconfusion_matrix\u001b[0m\u001b[1;33m)\u001b[0m\u001b[1;33m\u001b[0m\u001b[1;33m\u001b[0m\u001b[0m\n",
      "\u001b[1;31mTypeError\u001b[0m: 'numpy.ndarray' object is not callable"
     ]
    }
   ],
   "source": [
    "confusion_matrix = confusion_matrix(y_test, y_pred)\n",
    "print(confusion_matrix)"
   ]
  },
  {
   "cell_type": "code",
   "execution_count": 105,
   "metadata": {},
   "outputs": [],
   "source": [
    "proba_material_deprivation = [proba[1] for proba in random_forest.predict_proba(X_test)]"
   ]
  },
  {
   "cell_type": "code",
   "execution_count": 106,
   "metadata": {},
   "outputs": [],
   "source": [
    "testing_data = X_test.copy()\n",
    "testing_data['material_deprivation'] = y_test.copy()\n",
    "testing_data['proba_material_deprivation'] = proba_material_deprivation"
   ]
  },
  {
   "cell_type": "code",
   "execution_count": 107,
   "metadata": {},
   "outputs": [
    {
     "data": {
      "image/png": "[encoded data removed]",
      "text/plain": [
       "<Figure size 432x288 with 1 Axes>"
      ]
     },
     "metadata": {
      "needs_background": "light"
     },
     "output_type": "display_data"
    }
   ],
   "source": [
    "plt.hist(x='proba_material_deprivation', bins=100, data=testing_data[testing_data.material_deprivation == 1].reset_index(), \n",
    "         alpha=0.5, density=True)\n",
    "plt.hist(x='proba_material_deprivation', bins=100, data=testing_data[testing_data.material_deprivation == 0].reset_index(), \n",
    "         alpha=0.5, density=True);"
   ]
  }
 ],
 "metadata": {
  "kernelspec": {
   "display_name": "Python 3",
   "language": "python",
   "name": "python3"
  },
  "language_info": {
   "codemirror_mode": {
    "name": "ipython",
    "version": 3
   },
   "file_extension": ".py",
   "mimetype": "text/x-python",
   "name": "python",
   "nbconvert_exporter": "python",
   "pygments_lexer": "ipython3",
   "version": "3.8.3"
  }
 },
 "nbformat": 4,
 "nbformat_minor": 4
}
