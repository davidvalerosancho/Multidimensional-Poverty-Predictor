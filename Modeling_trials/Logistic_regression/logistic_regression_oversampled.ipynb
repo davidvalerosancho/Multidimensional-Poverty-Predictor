{
 "cells": [
  {
   "cell_type": "code",
   "execution_count": 28,
   "metadata": {},
   "outputs": [],
   "source": [
    "#! pip install imbalanced-learn"
   ]
  },
  {
   "cell_type": "code",
   "execution_count": 29,
   "metadata": {},
   "outputs": [],
   "source": [
    "import pandas as pd\n",
    "import numpy as np\n",
    "from sklearn.preprocessing import  StandardScaler\n",
    "from imblearn.over_sampling import SMOTE\n",
    "from sklearn.model_selection import train_test_split\n",
    "from sklearn.linear_model import LogisticRegression\n",
    "from sklearn.feature_selection import RFE\n",
    "import statsmodels.api as sm\n",
    "from sklearn.metrics import confusion_matrix\n",
    "from sklearn.metrics import classification_report\n",
    "from sklearn.metrics import roc_auc_score\n",
    "from sklearn.metrics import roc_curve\n",
    "import matplotlib.pyplot as plt"
   ]
  },
  {
   "cell_type": "code",
   "execution_count": 30,
   "metadata": {},
   "outputs": [],
   "source": [
    "data = pd.read_csv(r'C:\\Users\\dvale\\TFM\\Data\\all_variables.csv')"
   ]
  },
  {
   "cell_type": "code",
   "execution_count": 31,
   "metadata": {},
   "outputs": [
    {
     "name": "stdout",
     "output_type": "stream",
     "text": [
      "(39852, 19)\n",
      "Index(['Unnamed: 0', 'id', 'weight', 'material_deprivation', 'sex', 'age',\n",
      "       'civil_status', 'familial_status', 'region', 'population_density',\n",
      "       'citizenship', 'tenure_status', 'education_level', 'working_status',\n",
      "       'working_status_agg', 'occupation', 'economic_sector', 'years_worked',\n",
      "       'hours_week_worked'],\n",
      "      dtype='object')\n"
     ]
    }
   ],
   "source": [
    "print(data.shape)\n",
    "print(data.columns)"
   ]
  },
  {
   "cell_type": "code",
   "execution_count": 32,
   "metadata": {},
   "outputs": [
    {
     "name": "stdout",
     "output_type": "stream",
     "text": [
      "<class 'pandas.core.frame.DataFrame'>\n",
      "RangeIndex: 39852 entries, 0 to 39851\n",
      "Data columns (total 16 columns):\n",
      " #   Column                Non-Null Count  Dtype \n",
      "---  ------                --------------  ----- \n",
      " 0   material_deprivation  39852 non-null  object\n",
      " 1   sex                   39852 non-null  object\n",
      " 2   age                   39852 non-null  int64 \n",
      " 3   civil_status          39852 non-null  object\n",
      " 4   familial_status       39852 non-null  object\n",
      " 5   region                39852 non-null  object\n",
      " 6   population_density    39852 non-null  object\n",
      " 7   citizenship           39852 non-null  object\n",
      " 8   tenure_status         39852 non-null  object\n",
      " 9   education_level       39852 non-null  object\n",
      " 10  working_status        39852 non-null  object\n",
      " 11  working_status_agg    39852 non-null  object\n",
      " 12  occupation            39852 non-null  object\n",
      " 13  economic_sector       39852 non-null  object\n",
      " 14  years_worked          39852 non-null  int64 \n",
      " 15  hours_week_worked     39852 non-null  int64 \n",
      "dtypes: int64(3), object(13)\n",
      "memory usage: 4.9+ MB\n"
     ]
    }
   ],
   "source": [
    "data = data.drop(['Unnamed: 0', 'id', 'weight'], axis=1)\n",
    "data.info()"
   ]
  },
  {
   "cell_type": "code",
   "execution_count": 33,
   "metadata": {},
   "outputs": [
    {
     "data": {
      "text/plain": [
       "array(['Retired', 'Unpaid carer/domestic worker',\n",
       "       'Disabled/unfit to work', 'Unemployed', 'Student', 'Employed',\n",
       "       'Self-employed', 'Minor'], dtype=object)"
      ]
     },
     "execution_count": 33,
     "metadata": {},
     "output_type": "execute_result"
    }
   ],
   "source": [
    "data.working_status.unique()"
   ]
  },
  {
   "cell_type": "code",
   "execution_count": 34,
   "metadata": {},
   "outputs": [
    {
     "data": {
      "text/plain": [
       "array(['Retired', 'Unpaid carer/domestic worker',\n",
       "       'Disabled/unfit to work', 'Unemployed', 'Student', 'Employed',\n",
       "       'Minor'], dtype=object)"
      ]
     },
     "execution_count": 34,
     "metadata": {},
     "output_type": "execute_result"
    }
   ],
   "source": [
    "data.working_status = np.where(data.working_status == 'Self-employed', 'Employed', data.working_status)\n",
    "data.working_status.unique()"
   ]
  },
  {
   "cell_type": "code",
   "execution_count": 35,
   "metadata": {},
   "outputs": [],
   "source": [
    "data = data.drop(['working_status_agg'], axis=1)"
   ]
  },
  {
   "cell_type": "code",
   "execution_count": 36,
   "metadata": {},
   "outputs": [
    {
     "data": {
      "text/html": [
       "<div>\n",
       "<style scoped>\n",
       "    .dataframe tbody tr th:only-of-type {\n",
       "        vertical-align: middle;\n",
       "    }\n",
       "\n",
       "    .dataframe tbody tr th {\n",
       "        vertical-align: top;\n",
       "    }\n",
       "\n",
       "    .dataframe thead th {\n",
       "        text-align: right;\n",
       "    }\n",
       "</style>\n",
       "<table border=\"1\" class=\"dataframe\">\n",
       "  <thead>\n",
       "    <tr style=\"text-align: right;\">\n",
       "      <th></th>\n",
       "      <th>material_deprivation</th>\n",
       "      <th>sex</th>\n",
       "      <th>age</th>\n",
       "      <th>civil_status</th>\n",
       "      <th>familial_status</th>\n",
       "      <th>region</th>\n",
       "      <th>population_density</th>\n",
       "      <th>citizenship</th>\n",
       "      <th>tenure_status</th>\n",
       "      <th>education_level</th>\n",
       "      <th>working_status</th>\n",
       "      <th>occupation</th>\n",
       "      <th>economic_sector</th>\n",
       "      <th>years_worked</th>\n",
       "      <th>hours_week_worked</th>\n",
       "    </tr>\n",
       "  </thead>\n",
       "  <tbody>\n",
       "    <tr>\n",
       "      <th>0</th>\n",
       "      <td>No</td>\n",
       "      <td>Male</td>\n",
       "      <td>1.088573</td>\n",
       "      <td>Married</td>\n",
       "      <td>No</td>\n",
       "      <td>Basque Country</td>\n",
       "      <td>Thinly-populated area</td>\n",
       "      <td>Spain</td>\n",
       "      <td>Outright owner</td>\n",
       "      <td>Upper secondary education</td>\n",
       "      <td>Retired</td>\n",
       "      <td>Clerical Support Workers</td>\n",
       "      <td>Economically inactive/unemployed</td>\n",
       "      <td>1.831752</td>\n",
       "      <td>0</td>\n",
       "    </tr>\n",
       "    <tr>\n",
       "      <th>1</th>\n",
       "      <td>No</td>\n",
       "      <td>Female</td>\n",
       "      <td>1.002616</td>\n",
       "      <td>Married</td>\n",
       "      <td>No</td>\n",
       "      <td>Basque Country</td>\n",
       "      <td>Thinly-populated area</td>\n",
       "      <td>Spain</td>\n",
       "      <td>Outright owner</td>\n",
       "      <td>Upper secondary education</td>\n",
       "      <td>Unpaid carer/domestic worker</td>\n",
       "      <td>Clerical Support Workers</td>\n",
       "      <td>Economically inactive/unemployed</td>\n",
       "      <td>-0.922952</td>\n",
       "      <td>0</td>\n",
       "    </tr>\n",
       "    <tr>\n",
       "      <th>2</th>\n",
       "      <td>No</td>\n",
       "      <td>Female</td>\n",
       "      <td>1.174531</td>\n",
       "      <td>Married</td>\n",
       "      <td>No</td>\n",
       "      <td>Basque Country</td>\n",
       "      <td>Thinly-populated area</td>\n",
       "      <td>Spain</td>\n",
       "      <td>Outright owner</td>\n",
       "      <td>Lower secondary education</td>\n",
       "      <td>Unpaid carer/domestic worker</td>\n",
       "      <td>Elementary Occupations</td>\n",
       "      <td>Economically inactive/unemployed</td>\n",
       "      <td>0.178930</td>\n",
       "      <td>0</td>\n",
       "    </tr>\n",
       "    <tr>\n",
       "      <th>3</th>\n",
       "      <td>No</td>\n",
       "      <td>Male</td>\n",
       "      <td>0.658786</td>\n",
       "      <td>Married</td>\n",
       "      <td>No</td>\n",
       "      <td>Basque Country</td>\n",
       "      <td>Thinly-populated area</td>\n",
       "      <td>Spain</td>\n",
       "      <td>Outright owner</td>\n",
       "      <td>Upper secondary education</td>\n",
       "      <td>Retired</td>\n",
       "      <td>Services and Sales Workers</td>\n",
       "      <td>Economically inactive/unemployed</td>\n",
       "      <td>1.097164</td>\n",
       "      <td>0</td>\n",
       "    </tr>\n",
       "    <tr>\n",
       "      <th>4</th>\n",
       "      <td>No</td>\n",
       "      <td>Female</td>\n",
       "      <td>0.400914</td>\n",
       "      <td>Divorced</td>\n",
       "      <td>Yes</td>\n",
       "      <td>Basque Country</td>\n",
       "      <td>Thinly-populated area</td>\n",
       "      <td>Spain</td>\n",
       "      <td>Outright owner</td>\n",
       "      <td>Higher education</td>\n",
       "      <td>Disabled/unfit to work</td>\n",
       "      <td>Services and Sales Workers</td>\n",
       "      <td>Economically inactive/unemployed</td>\n",
       "      <td>0.791086</td>\n",
       "      <td>0</td>\n",
       "    </tr>\n",
       "  </tbody>\n",
       "</table>\n",
       "</div>"
      ],
      "text/plain": [
       "  material_deprivation     sex       age civil_status familial_status  \\\n",
       "0                   No    Male  1.088573      Married              No   \n",
       "1                   No  Female  1.002616      Married              No   \n",
       "2                   No  Female  1.174531      Married              No   \n",
       "3                   No    Male  0.658786      Married              No   \n",
       "4                   No  Female  0.400914     Divorced             Yes   \n",
       "\n",
       "           region     population_density citizenship   tenure_status  \\\n",
       "0  Basque Country  Thinly-populated area       Spain  Outright owner   \n",
       "1  Basque Country  Thinly-populated area       Spain  Outright owner   \n",
       "2  Basque Country  Thinly-populated area       Spain  Outright owner   \n",
       "3  Basque Country  Thinly-populated area       Spain  Outright owner   \n",
       "4  Basque Country  Thinly-populated area       Spain  Outright owner   \n",
       "\n",
       "             education_level                working_status  \\\n",
       "0  Upper secondary education                       Retired   \n",
       "1  Upper secondary education  Unpaid carer/domestic worker   \n",
       "2  Lower secondary education  Unpaid carer/domestic worker   \n",
       "3  Upper secondary education                       Retired   \n",
       "4           Higher education        Disabled/unfit to work   \n",
       "\n",
       "                   occupation                   economic_sector  years_worked  \\\n",
       "0    Clerical Support Workers  Economically inactive/unemployed      1.831752   \n",
       "1    Clerical Support Workers  Economically inactive/unemployed     -0.922952   \n",
       "2      Elementary Occupations  Economically inactive/unemployed      0.178930   \n",
       "3  Services and Sales Workers  Economically inactive/unemployed      1.097164   \n",
       "4  Services and Sales Workers  Economically inactive/unemployed      0.791086   \n",
       "\n",
       "   hours_week_worked  \n",
       "0                  0  \n",
       "1                  0  \n",
       "2                  0  \n",
       "3                  0  \n",
       "4                  0  "
      ]
     },
     "execution_count": 36,
     "metadata": {},
     "output_type": "execute_result"
    }
   ],
   "source": [
    "scaler = StandardScaler()\n",
    "\n",
    "num_var = data[['age', 'years_worked', 'hours_week_worked']]\n",
    "scaler.fit(num_var)\n",
    "scaled_var = pd.DataFrame(scaler.transform(num_var), columns=num_var.columns)\n",
    "\n",
    "data.age = scaled_var.age\n",
    "data.years_worked = scaled_var.years_worked\n",
    "data.years_worked = scaled_var.years_worked\n",
    "\n",
    "data.head()"
   ]
  },
  {
   "cell_type": "code",
   "execution_count": 37,
   "metadata": {},
   "outputs": [],
   "source": [
    "def get_dummies(df):\n",
    "    new_df = pd.DataFrame()\n",
    "    for c in df.columns:\n",
    "        if type(df[c][0]) == type('string'):\n",
    "            dummy_df = pd.get_dummies(df[c])\n",
    "            for dummy_column in dummy_df.columns:\n",
    "                new_df[c + '_' + dummy_column] = dummy_df[dummy_column]\n",
    "        else:\n",
    "            new_df[c] = df[c]\n",
    "    return new_df"
   ]
  },
  {
   "cell_type": "code",
   "execution_count": 38,
   "metadata": {},
   "outputs": [
    {
     "data": {
      "text/html": [
       "<div>\n",
       "<style scoped>\n",
       "    .dataframe tbody tr th:only-of-type {\n",
       "        vertical-align: middle;\n",
       "    }\n",
       "\n",
       "    .dataframe tbody tr th {\n",
       "        vertical-align: top;\n",
       "    }\n",
       "\n",
       "    .dataframe thead th {\n",
       "        text-align: right;\n",
       "    }\n",
       "</style>\n",
       "<table border=\"1\" class=\"dataframe\">\n",
       "  <thead>\n",
       "    <tr style=\"text-align: right;\">\n",
       "      <th></th>\n",
       "      <th>sex_Female</th>\n",
       "      <th>sex_Male</th>\n",
       "      <th>age</th>\n",
       "      <th>civil_status_Divorced</th>\n",
       "      <th>civil_status_Married</th>\n",
       "      <th>civil_status_Married 'de facto'</th>\n",
       "      <th>civil_status_Minor</th>\n",
       "      <th>civil_status_Never married</th>\n",
       "      <th>civil_status_Separated</th>\n",
       "      <th>civil_status_Widowed</th>\n",
       "      <th>...</th>\n",
       "      <th>economic_sector_Mining and quarrying</th>\n",
       "      <th>economic_sector_Other service activities</th>\n",
       "      <th>economic_sector_Professional, scientific and technical activities</th>\n",
       "      <th>economic_sector_Public administration and defence; compulsory social security</th>\n",
       "      <th>economic_sector_Real estate activities</th>\n",
       "      <th>economic_sector_Transportation and storage</th>\n",
       "      <th>economic_sector_Water supply; sewerage, waste management and remediation activities</th>\n",
       "      <th>economic_sector_Wholesale and retail trade; repair of motor vehicles and motorcycles</th>\n",
       "      <th>years_worked</th>\n",
       "      <th>hours_week_worked</th>\n",
       "    </tr>\n",
       "  </thead>\n",
       "  <tbody>\n",
       "    <tr>\n",
       "      <th>0</th>\n",
       "      <td>0</td>\n",
       "      <td>1</td>\n",
       "      <td>1.088573</td>\n",
       "      <td>0</td>\n",
       "      <td>1</td>\n",
       "      <td>0</td>\n",
       "      <td>0</td>\n",
       "      <td>0</td>\n",
       "      <td>0</td>\n",
       "      <td>0</td>\n",
       "      <td>...</td>\n",
       "      <td>0</td>\n",
       "      <td>0</td>\n",
       "      <td>0</td>\n",
       "      <td>0</td>\n",
       "      <td>0</td>\n",
       "      <td>0</td>\n",
       "      <td>0</td>\n",
       "      <td>0</td>\n",
       "      <td>1.831752</td>\n",
       "      <td>0</td>\n",
       "    </tr>\n",
       "    <tr>\n",
       "      <th>1</th>\n",
       "      <td>1</td>\n",
       "      <td>0</td>\n",
       "      <td>1.002616</td>\n",
       "      <td>0</td>\n",
       "      <td>1</td>\n",
       "      <td>0</td>\n",
       "      <td>0</td>\n",
       "      <td>0</td>\n",
       "      <td>0</td>\n",
       "      <td>0</td>\n",
       "      <td>...</td>\n",
       "      <td>0</td>\n",
       "      <td>0</td>\n",
       "      <td>0</td>\n",
       "      <td>0</td>\n",
       "      <td>0</td>\n",
       "      <td>0</td>\n",
       "      <td>0</td>\n",
       "      <td>0</td>\n",
       "      <td>-0.922952</td>\n",
       "      <td>0</td>\n",
       "    </tr>\n",
       "    <tr>\n",
       "      <th>2</th>\n",
       "      <td>1</td>\n",
       "      <td>0</td>\n",
       "      <td>1.174531</td>\n",
       "      <td>0</td>\n",
       "      <td>1</td>\n",
       "      <td>0</td>\n",
       "      <td>0</td>\n",
       "      <td>0</td>\n",
       "      <td>0</td>\n",
       "      <td>0</td>\n",
       "      <td>...</td>\n",
       "      <td>0</td>\n",
       "      <td>0</td>\n",
       "      <td>0</td>\n",
       "      <td>0</td>\n",
       "      <td>0</td>\n",
       "      <td>0</td>\n",
       "      <td>0</td>\n",
       "      <td>0</td>\n",
       "      <td>0.178930</td>\n",
       "      <td>0</td>\n",
       "    </tr>\n",
       "    <tr>\n",
       "      <th>3</th>\n",
       "      <td>0</td>\n",
       "      <td>1</td>\n",
       "      <td>0.658786</td>\n",
       "      <td>0</td>\n",
       "      <td>1</td>\n",
       "      <td>0</td>\n",
       "      <td>0</td>\n",
       "      <td>0</td>\n",
       "      <td>0</td>\n",
       "      <td>0</td>\n",
       "      <td>...</td>\n",
       "      <td>0</td>\n",
       "      <td>0</td>\n",
       "      <td>0</td>\n",
       "      <td>0</td>\n",
       "      <td>0</td>\n",
       "      <td>0</td>\n",
       "      <td>0</td>\n",
       "      <td>0</td>\n",
       "      <td>1.097164</td>\n",
       "      <td>0</td>\n",
       "    </tr>\n",
       "    <tr>\n",
       "      <th>4</th>\n",
       "      <td>1</td>\n",
       "      <td>0</td>\n",
       "      <td>0.400914</td>\n",
       "      <td>1</td>\n",
       "      <td>0</td>\n",
       "      <td>0</td>\n",
       "      <td>0</td>\n",
       "      <td>0</td>\n",
       "      <td>0</td>\n",
       "      <td>0</td>\n",
       "      <td>...</td>\n",
       "      <td>0</td>\n",
       "      <td>0</td>\n",
       "      <td>0</td>\n",
       "      <td>0</td>\n",
       "      <td>0</td>\n",
       "      <td>0</td>\n",
       "      <td>0</td>\n",
       "      <td>0</td>\n",
       "      <td>0.791086</td>\n",
       "      <td>0</td>\n",
       "    </tr>\n",
       "  </tbody>\n",
       "</table>\n",
       "<p>5 rows × 91 columns</p>\n",
       "</div>"
      ],
      "text/plain": [
       "   sex_Female  sex_Male       age  civil_status_Divorced  \\\n",
       "0           0         1  1.088573                      0   \n",
       "1           1         0  1.002616                      0   \n",
       "2           1         0  1.174531                      0   \n",
       "3           0         1  0.658786                      0   \n",
       "4           1         0  0.400914                      1   \n",
       "\n",
       "   civil_status_Married  civil_status_Married 'de facto'  civil_status_Minor  \\\n",
       "0                     1                                0                   0   \n",
       "1                     1                                0                   0   \n",
       "2                     1                                0                   0   \n",
       "3                     1                                0                   0   \n",
       "4                     0                                0                   0   \n",
       "\n",
       "   civil_status_Never married  civil_status_Separated  civil_status_Widowed  \\\n",
       "0                           0                       0                     0   \n",
       "1                           0                       0                     0   \n",
       "2                           0                       0                     0   \n",
       "3                           0                       0                     0   \n",
       "4                           0                       0                     0   \n",
       "\n",
       "   ...  economic_sector_Mining and quarrying  \\\n",
       "0  ...                                     0   \n",
       "1  ...                                     0   \n",
       "2  ...                                     0   \n",
       "3  ...                                     0   \n",
       "4  ...                                     0   \n",
       "\n",
       "   economic_sector_Other service activities  \\\n",
       "0                                         0   \n",
       "1                                         0   \n",
       "2                                         0   \n",
       "3                                         0   \n",
       "4                                         0   \n",
       "\n",
       "   economic_sector_Professional, scientific and technical activities  \\\n",
       "0                                                  0                   \n",
       "1                                                  0                   \n",
       "2                                                  0                   \n",
       "3                                                  0                   \n",
       "4                                                  0                   \n",
       "\n",
       "   economic_sector_Public administration and defence; compulsory social security  \\\n",
       "0                                                  0                               \n",
       "1                                                  0                               \n",
       "2                                                  0                               \n",
       "3                                                  0                               \n",
       "4                                                  0                               \n",
       "\n",
       "   economic_sector_Real estate activities  \\\n",
       "0                                       0   \n",
       "1                                       0   \n",
       "2                                       0   \n",
       "3                                       0   \n",
       "4                                       0   \n",
       "\n",
       "   economic_sector_Transportation and storage  \\\n",
       "0                                           0   \n",
       "1                                           0   \n",
       "2                                           0   \n",
       "3                                           0   \n",
       "4                                           0   \n",
       "\n",
       "   economic_sector_Water supply; sewerage, waste management and remediation activities  \\\n",
       "0                                                  0                                     \n",
       "1                                                  0                                     \n",
       "2                                                  0                                     \n",
       "3                                                  0                                     \n",
       "4                                                  0                                     \n",
       "\n",
       "   economic_sector_Wholesale and retail trade; repair of motor vehicles and motorcycles  \\\n",
       "0                                                  0                                      \n",
       "1                                                  0                                      \n",
       "2                                                  0                                      \n",
       "3                                                  0                                      \n",
       "4                                                  0                                      \n",
       "\n",
       "   years_worked  hours_week_worked  \n",
       "0      1.831752                  0  \n",
       "1     -0.922952                  0  \n",
       "2      0.178930                  0  \n",
       "3      1.097164                  0  \n",
       "4      0.791086                  0  \n",
       "\n",
       "[5 rows x 91 columns]"
      ]
     },
     "execution_count": 38,
     "metadata": {},
     "output_type": "execute_result"
    }
   ],
   "source": [
    "data_final = get_dummies(data[data.columns[1:]])\n",
    "\n",
    "data_final.head()"
   ]
  },
  {
   "cell_type": "code",
   "execution_count": 39,
   "metadata": {},
   "outputs": [],
   "source": [
    "data_final['is_minor'] = data_final.civil_status_Minor\n",
    "data_final = data_final.drop(['civil_status_Minor', \n",
    "                               'working_status_Minor', \n",
    "                               'education_level_Minor', \n",
    "                               'occupation_Economically inactive', \n",
    "                               'economic_sector_Economically inactive/unemployed'], axis=1)"
   ]
  },
  {
   "cell_type": "code",
   "execution_count": 40,
   "metadata": {},
   "outputs": [
    {
     "name": "stdout",
     "output_type": "stream",
     "text": [
      "Has material deprivation: 4.61%\n",
      "Does not have material deprivation: 95.39%\n"
     ]
    }
   ],
   "source": [
    "data_final['material_deprivation'] = data.material_deprivation.map({'Yes': 1, 'No': 0})\n",
    "\n",
    "count_yes = len(data_final[data_final.material_deprivation == 1])\n",
    "count_no = len(data_final[data_final.material_deprivation == 0])\n",
    "freq_yes = (count_yes/(count_yes+count_no))*100\n",
    "freq_no = (count_no/(count_yes+count_no))*100\n",
    "\n",
    "print('''Has material deprivation: {}%\n",
    "Does not have material deprivation: {}%'''.format(round(freq_yes, 2), round(freq_no, 2)))"
   ]
  },
  {
   "cell_type": "code",
   "execution_count": 41,
   "metadata": {},
   "outputs": [],
   "source": [
    "os = SMOTE()"
   ]
  },
  {
   "cell_type": "code",
   "execution_count": 42,
   "metadata": {},
   "outputs": [],
   "source": [
    "X = data_final.drop(['material_deprivation'], axis=1)\n",
    "y = data_final.material_deprivation\n",
    "\n",
    "X_train, X_test, y_train, y_test = train_test_split(X, y)"
   ]
  },
  {
   "cell_type": "code",
   "execution_count": 43,
   "metadata": {},
   "outputs": [
    {
     "name": "stdout",
     "output_type": "stream",
     "text": [
      "Length of oversampled data: 57068\n",
      "Count no in oversampled data: 28534\n",
      "Does not have material deprivation in oversampled data: 28534\n"
     ]
    }
   ],
   "source": [
    "os_data_X, os_data_y = os.fit_resample(X_train, y_train)\n",
    "os_data_X = pd.DataFrame(data=os_data_X, columns=X_train.columns)\n",
    "os_data_y = pd.DataFrame(data=os_data_y, columns=['material_deprivation'])\n",
    "\n",
    "print(\"Length of oversampled data:\", len(os_data_X))\n",
    "print(\"Count no in oversampled data:\", len(os_data_y[os_data_y.material_deprivation == 0]))\n",
    "print(\"Does not have material deprivation in oversampled data:\", len(os_data_y[os_data_y.material_deprivation == 1]))"
   ]
  },
  {
   "cell_type": "code",
   "execution_count": 44,
   "metadata": {
    "scrolled": false
   },
   "outputs": [
    {
     "name": "stdout",
     "output_type": "stream",
     "text": [
      "[ True  True False  True  True  True  True  True  True  True  True  True\n",
      "  True  True  True  True  True  True  True  True  True  True  True  True\n",
      "  True  True  True  True  True  True  True  True  True False False False\n",
      " False  True  True  True  True  True  True  True  True  True  True False\n",
      " False False False False False False False False False False False False\n",
      " False False False False False False False False False False False False\n",
      " False False False False False False False False False False False False\n",
      " False False  True]\n",
      "[ 1  1 44  1  1  1  1  1  1  1  1  1  1  1  1  1  1  1  1  1  1  1  1  1\n",
      "  1  1  1  1  1  1  1  1  1  3  5  2  4  1  1  1  1  1  1  1  1  1  1 10\n",
      "  7  8  6 11  9 16 23 24 21 15 22 14 20 38 17 36 39 31 27 18 28 32 29 25\n",
      " 30 41 34 19 33 12 40 35 13 26 43 37 42 45  1]\n"
     ]
    }
   ],
   "source": [
    "logreg = LogisticRegression(max_iter=1000)\n",
    "\n",
    "rfe = RFE(logreg)\n",
    "rfe = rfe.fit(os_data_X, os_data_y.values.ravel())\n",
    "print(rfe.support_)\n",
    "print(rfe.ranking_)"
   ]
  },
  {
   "cell_type": "code",
   "execution_count": 45,
   "metadata": {},
   "outputs": [
    {
     "data": {
      "text/plain": [
       "['sex_Female',\n",
       " 'sex_Male',\n",
       " 'civil_status_Divorced',\n",
       " 'civil_status_Married',\n",
       " \"civil_status_Married 'de facto'\",\n",
       " 'civil_status_Never married',\n",
       " 'civil_status_Separated',\n",
       " 'civil_status_Widowed',\n",
       " 'familial_status_No',\n",
       " 'familial_status_Yes',\n",
       " 'region_Andalusia',\n",
       " 'region_Aragon',\n",
       " 'region_Asturias',\n",
       " 'region_Balearic Islands',\n",
       " 'region_Basque Country',\n",
       " 'region_Canary Islands',\n",
       " 'region_Cantabria',\n",
       " 'region_Castile and Leon',\n",
       " 'region_Castile–La Mancha',\n",
       " 'region_Catalonia',\n",
       " 'region_Ceuta',\n",
       " 'region_Comunity of Madrid',\n",
       " 'region_Extremadura',\n",
       " 'region_Galicia',\n",
       " 'region_La Rioja',\n",
       " 'region_Melilla',\n",
       " 'region_Navarre',\n",
       " 'region_Region of Murcia',\n",
       " 'region_Valencian Community',\n",
       " 'population_density_Densely-populated area',\n",
       " 'population_density_Intermediate area',\n",
       " 'population_density_Thinly-populated area',\n",
       " 'tenure_status_Accommodation is provided free',\n",
       " 'tenure_status_Accommodation is rented at a reduced rate (lower price than the market price)',\n",
       " 'tenure_status_Outright owner',\n",
       " 'tenure_status_Owner paying mortgage',\n",
       " 'tenure_status_Tenant or subtenant paying rent at prevailing or market rate',\n",
       " 'education_level_Higher education',\n",
       " 'education_level_Lower secondary education',\n",
       " 'education_level_Pre-primary education',\n",
       " 'education_level_Primary education',\n",
       " 'education_level_Upper secondary education',\n",
       " 'is_minor']"
      ]
     },
     "execution_count": 45,
     "metadata": {},
     "output_type": "execute_result"
    }
   ],
   "source": [
    "selected_columns = [X_train.columns[i] for i in range(len(rfe.support_)) if rfe.support_[i] == True]\n",
    "selected_columns"
   ]
  },
  {
   "cell_type": "code",
   "execution_count": 48,
   "metadata": {},
   "outputs": [
    {
     "name": "stdout",
     "output_type": "stream",
     "text": [
      "Accuracy of logistic regression classifier on test set: 0.93\n"
     ]
    }
   ],
   "source": [
    "X_train = os_data_X[selected_columns]\n",
    "y_train = os_data_y.material_deprivation.ravel()\n",
    "X_test = X_test[selected_columns]\n",
    "\n",
    "logreg = LogisticRegression(max_iter=1000)\n",
    "logreg.fit(X_train, y_train)\n",
    "\n",
    "y_pred = logreg.predict(X_test)\n",
    "print('Accuracy of logistic regression classifier on test set: {:.2f}'.format(logreg.score(X_test, y_test)))"
   ]
  },
  {
   "cell_type": "code",
   "execution_count": 49,
   "metadata": {},
   "outputs": [
    {
     "name": "stdout",
     "output_type": "stream",
     "text": [
      "[[9199  280]\n",
      " [ 392   92]]\n"
     ]
    }
   ],
   "source": [
    "confusion_matrix = confusion_matrix(y_test, y_pred)\n",
    "print(confusion_matrix)"
   ]
  },
  {
   "cell_type": "code",
   "execution_count": 50,
   "metadata": {},
   "outputs": [
    {
     "name": "stdout",
     "output_type": "stream",
     "text": [
      "              precision    recall  f1-score   support\n",
      "\n",
      "           0       0.96      0.97      0.96      9479\n",
      "           1       0.25      0.19      0.21       484\n",
      "\n",
      "    accuracy                           0.93      9963\n",
      "   macro avg       0.60      0.58      0.59      9963\n",
      "weighted avg       0.92      0.93      0.93      9963\n",
      "\n"
     ]
    }
   ],
   "source": [
    "print(classification_report(y_test, y_pred))"
   ]
  },
  {
   "cell_type": "code",
   "execution_count": 51,
   "metadata": {},
   "outputs": [],
   "source": [
    "proba_material_deprivation = [proba[1] for proba in logreg.predict_proba(X_test)]"
   ]
  },
  {
   "cell_type": "code",
   "execution_count": 52,
   "metadata": {},
   "outputs": [],
   "source": [
    "testing_data = X_test.copy()\n",
    "testing_data['material_deprivation'] = y_test.copy()\n",
    "testing_data['proba_material_deprivation'] = proba_material_deprivation"
   ]
  },
  {
   "cell_type": "code",
   "execution_count": 53,
   "metadata": {},
   "outputs": [
    {
     "data": {
      "image/png": "[encoded data removed]",
      "text/plain": [
       "<Figure size 432x288 with 1 Axes>"
      ]
     },
     "metadata": {
      "needs_background": "light"
     },
     "output_type": "display_data"
    }
   ],
   "source": [
    "plt.hist(x='proba_material_deprivation', bins=100, data=testing_data[testing_data.material_deprivation == 1].reset_index(), alpha=0.5, density=True)\n",
    "plt.hist(x='proba_material_deprivation', bins=100, data=testing_data[testing_data.material_deprivation == 0].reset_index(), alpha=0.5, density=True);"
   ]
  },
  {
   "cell_type": "code",
   "execution_count": 54,
   "metadata": {},
   "outputs": [
    {
     "data": {
      "image/png": "[encoded data removed]",
      "text/plain": [
       "<Figure size 432x288 with 1 Axes>"
      ]
     },
     "metadata": {
      "needs_background": "light"
     },
     "output_type": "display_data"
    }
   ],
   "source": [
    "logit_roc_auc = roc_auc_score(y_test, logreg.predict(X_test))\n",
    "fpr, tpr, thresholds = roc_curve(y_test, logreg.predict_proba(X_test)[:,1])\n",
    "plt.figure()\n",
    "plt.plot(fpr, tpr, label='Logistic Regression (area = %0.2f)' % logit_roc_auc)\n",
    "plt.plot([0, 1], [0, 1],'r--')\n",
    "plt.xlim([0.0, 1.0])\n",
    "plt.ylim([0.0, 1.0])\n",
    "plt.xlabel('False Positive Rate')\n",
    "plt.ylabel('True Positive Rate')\n",
    "plt.title('Receiver operating characteristic')\n",
    "\n",
    "plt.legend(loc=\"lower right\");"
   ]
  }
 ],
 "metadata": {
  "kernelspec": {
   "display_name": "Python 3",
   "language": "python",
   "name": "python3"
  },
  "language_info": {
   "codemirror_mode": {
    "name": "ipython",
    "version": 3
   },
   "file_extension": ".py",
   "mimetype": "text/x-python",
   "name": "python",
   "nbconvert_exporter": "python",
   "pygments_lexer": "ipython3",
   "version": "3.8.3"
  }
 },
 "nbformat": 4,
 "nbformat_minor": 4
}
