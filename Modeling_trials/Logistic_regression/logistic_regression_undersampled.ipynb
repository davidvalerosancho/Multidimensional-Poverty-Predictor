{
 "cells": [
  {
   "cell_type": "code",
   "execution_count": 217,
   "metadata": {},
   "outputs": [],
   "source": [
    "import pandas as pd\n",
    "import numpy as np\n",
    "from sklearn.preprocessing import  StandardScaler\n",
    "from sklearn.model_selection import train_test_split\n",
    "from sklearn.linear_model import LogisticRegression\n",
    "from sklearn.feature_selection import RFE\n",
    "import statsmodels.api as sm\n",
    "from sklearn.metrics import confusion_matrix\n",
    "from sklearn.metrics import classification_report\n",
    "from sklearn.metrics import roc_auc_score\n",
    "from sklearn.metrics import roc_curve\n",
    "import matplotlib.pyplot as plt\n",
    "import seaborn as sns"
   ]
  },
  {
   "cell_type": "code",
   "execution_count": 218,
   "metadata": {},
   "outputs": [],
   "source": [
    "data = pd.read_csv(r'C:\\Users\\dvale\\TFM\\Data\\all_variables.csv')"
   ]
  },
  {
   "cell_type": "code",
   "execution_count": 219,
   "metadata": {},
   "outputs": [],
   "source": [
    "data = data[data.age > 18].reset_index(drop=True)"
   ]
  },
  {
   "cell_type": "code",
   "execution_count": 220,
   "metadata": {},
   "outputs": [
    {
     "name": "stdout",
     "output_type": "stream",
     "text": [
      "(32514, 27)\n",
      "Index(['Unnamed: 0', 'id', 'weight', 'sex', 'age', 'civil_status',\n",
      "       'familial_status', 'region', 'population_density', 'citizenship',\n",
      "       'tenure_status', 'education_level', 'working_status',\n",
      "       'working_status_agg', 'occupation', 'economic_sector', 'years_worked',\n",
      "       'hours_week_worked', 'household_income', 'person_room',\n",
      "       'self_perceived_bad_health', 'has_health_limitations',\n",
      "       'has_chronic_condition', 'unmet_medical_treatment', 'has_support_net',\n",
      "       'adjusted_income', 'poverty_score'],\n",
      "      dtype='object')\n"
     ]
    }
   ],
   "source": [
    "print(data.shape)\n",
    "print(data.columns)"
   ]
  },
  {
   "cell_type": "code",
   "execution_count": 221,
   "metadata": {},
   "outputs": [
    {
     "name": "stdout",
     "output_type": "stream",
     "text": [
      "<class 'pandas.core.frame.DataFrame'>\n",
      "RangeIndex: 32514 entries, 0 to 32513\n",
      "Data columns (total 22 columns):\n",
      " #   Column                     Non-Null Count  Dtype  \n",
      "---  ------                     --------------  -----  \n",
      " 0   sex                        32514 non-null  object \n",
      " 1   age                        32514 non-null  int64  \n",
      " 2   civil_status               32514 non-null  object \n",
      " 3   familial_status            32514 non-null  object \n",
      " 4   region                     32514 non-null  object \n",
      " 5   population_density         32514 non-null  object \n",
      " 6   citizenship                32514 non-null  object \n",
      " 7   tenure_status              32514 non-null  object \n",
      " 8   education_level            32514 non-null  object \n",
      " 9   working_status             32514 non-null  object \n",
      " 10  working_status_agg         32514 non-null  object \n",
      " 11  occupation                 32514 non-null  object \n",
      " 12  years_worked               32514 non-null  int64  \n",
      " 13  hours_week_worked          32514 non-null  int64  \n",
      " 14  person_room                32463 non-null  float64\n",
      " 15  self_perceived_bad_health  32514 non-null  object \n",
      " 16  has_health_limitations     32514 non-null  object \n",
      " 17  has_chronic_condition      32514 non-null  object \n",
      " 18  unmet_medical_treatment    32514 non-null  object \n",
      " 19  has_support_net            32514 non-null  object \n",
      " 20  adjusted_income            32514 non-null  float64\n",
      " 21  poverty_score              32514 non-null  float64\n",
      "dtypes: float64(3), int64(3), object(16)\n",
      "memory usage: 5.5+ MB\n"
     ]
    }
   ],
   "source": [
    "data = data.drop(['Unnamed: 0', 'id', 'weight', 'economic_sector', 'household_income'], axis=1)\n",
    "data.info()"
   ]
  },
  {
   "cell_type": "code",
   "execution_count": 222,
   "metadata": {},
   "outputs": [],
   "source": [
    "data.person_room = data.person_room.fillna(data.person_room.median())"
   ]
  },
  {
   "cell_type": "code",
   "execution_count": 223,
   "metadata": {},
   "outputs": [
    {
     "data": {
      "text/plain": [
       "array(['Retired', 'Unpaid carer/domestic worker',\n",
       "       'Disabled/unfit to work', 'Unemployed', 'Student', 'Employed',\n",
       "       'Self-employed'], dtype=object)"
      ]
     },
     "execution_count": 223,
     "metadata": {},
     "output_type": "execute_result"
    }
   ],
   "source": [
    "data.working_status.unique()"
   ]
  },
  {
   "cell_type": "code",
   "execution_count": 224,
   "metadata": {},
   "outputs": [
    {
     "data": {
      "text/plain": [
       "array(['Retired', 'Unpaid carer/domestic worker',\n",
       "       'Disabled/unfit to work', 'Unemployed', 'Student', 'Employed'],\n",
       "      dtype=object)"
      ]
     },
     "execution_count": 224,
     "metadata": {},
     "output_type": "execute_result"
    }
   ],
   "source": [
    "data.working_status = np.where(data.working_status == 'Self-employed', 'Employed', data.working_status)\n",
    "data.working_status.unique()"
   ]
  },
  {
   "cell_type": "code",
   "execution_count": 225,
   "metadata": {},
   "outputs": [],
   "source": [
    "data = data.drop(['working_status_agg'], axis=1)"
   ]
  },
  {
   "cell_type": "code",
   "execution_count": 226,
   "metadata": {},
   "outputs": [
    {
     "data": {
      "text/html": [
       "<div>\n",
       "<style scoped>\n",
       "    .dataframe tbody tr th:only-of-type {\n",
       "        vertical-align: middle;\n",
       "    }\n",
       "\n",
       "    .dataframe tbody tr th {\n",
       "        vertical-align: top;\n",
       "    }\n",
       "\n",
       "    .dataframe thead th {\n",
       "        text-align: right;\n",
       "    }\n",
       "</style>\n",
       "<table border=\"1\" class=\"dataframe\">\n",
       "  <thead>\n",
       "    <tr style=\"text-align: right;\">\n",
       "      <th></th>\n",
       "      <th>sex</th>\n",
       "      <th>age</th>\n",
       "      <th>civil_status</th>\n",
       "      <th>familial_status</th>\n",
       "      <th>region</th>\n",
       "      <th>population_density</th>\n",
       "      <th>citizenship</th>\n",
       "      <th>tenure_status</th>\n",
       "      <th>education_level</th>\n",
       "      <th>working_status</th>\n",
       "      <th>...</th>\n",
       "      <th>years_worked</th>\n",
       "      <th>hours_week_worked</th>\n",
       "      <th>person_room</th>\n",
       "      <th>self_perceived_bad_health</th>\n",
       "      <th>has_health_limitations</th>\n",
       "      <th>has_chronic_condition</th>\n",
       "      <th>unmet_medical_treatment</th>\n",
       "      <th>has_support_net</th>\n",
       "      <th>adjusted_income</th>\n",
       "      <th>poverty_score</th>\n",
       "    </tr>\n",
       "  </thead>\n",
       "  <tbody>\n",
       "    <tr>\n",
       "      <th>0</th>\n",
       "      <td>Male</td>\n",
       "      <td>0.972748</td>\n",
       "      <td>Married</td>\n",
       "      <td>No</td>\n",
       "      <td>Basque Country</td>\n",
       "      <td>Thinly-populated area</td>\n",
       "      <td>Spain</td>\n",
       "      <td>Outright owner</td>\n",
       "      <td>Upper secondary education</td>\n",
       "      <td>Retired</td>\n",
       "      <td>...</td>\n",
       "      <td>1.660637</td>\n",
       "      <td>-0.890916</td>\n",
       "      <td>0.430935</td>\n",
       "      <td>Yes</td>\n",
       "      <td>Yes</td>\n",
       "      <td>Yes</td>\n",
       "      <td>No</td>\n",
       "      <td>Yes</td>\n",
       "      <td>24418.740</td>\n",
       "      <td>0.000000</td>\n",
       "    </tr>\n",
       "    <tr>\n",
       "      <th>1</th>\n",
       "      <td>Female</td>\n",
       "      <td>0.861438</td>\n",
       "      <td>Married</td>\n",
       "      <td>No</td>\n",
       "      <td>Basque Country</td>\n",
       "      <td>Thinly-populated area</td>\n",
       "      <td>Spain</td>\n",
       "      <td>Outright owner</td>\n",
       "      <td>Upper secondary education</td>\n",
       "      <td>Unpaid carer/domestic worker</td>\n",
       "      <td>...</td>\n",
       "      <td>-1.205845</td>\n",
       "      <td>-0.890916</td>\n",
       "      <td>0.430935</td>\n",
       "      <td>No</td>\n",
       "      <td>No</td>\n",
       "      <td>Yes</td>\n",
       "      <td>No</td>\n",
       "      <td>Yes</td>\n",
       "      <td>24418.740</td>\n",
       "      <td>0.000000</td>\n",
       "    </tr>\n",
       "    <tr>\n",
       "      <th>2</th>\n",
       "      <td>Female</td>\n",
       "      <td>1.084058</td>\n",
       "      <td>Married</td>\n",
       "      <td>No</td>\n",
       "      <td>Basque Country</td>\n",
       "      <td>Thinly-populated area</td>\n",
       "      <td>Spain</td>\n",
       "      <td>Outright owner</td>\n",
       "      <td>Lower secondary education</td>\n",
       "      <td>Unpaid carer/domestic worker</td>\n",
       "      <td>...</td>\n",
       "      <td>-0.059252</td>\n",
       "      <td>-0.890916</td>\n",
       "      <td>0.430935</td>\n",
       "      <td>No</td>\n",
       "      <td>No</td>\n",
       "      <td>No</td>\n",
       "      <td>No</td>\n",
       "      <td>Yes</td>\n",
       "      <td>31261.480</td>\n",
       "      <td>0.000000</td>\n",
       "    </tr>\n",
       "    <tr>\n",
       "      <th>3</th>\n",
       "      <td>Male</td>\n",
       "      <td>0.416197</td>\n",
       "      <td>Married</td>\n",
       "      <td>No</td>\n",
       "      <td>Basque Country</td>\n",
       "      <td>Thinly-populated area</td>\n",
       "      <td>Spain</td>\n",
       "      <td>Outright owner</td>\n",
       "      <td>Upper secondary education</td>\n",
       "      <td>Retired</td>\n",
       "      <td>...</td>\n",
       "      <td>0.896242</td>\n",
       "      <td>-0.890916</td>\n",
       "      <td>0.430935</td>\n",
       "      <td>No</td>\n",
       "      <td>No</td>\n",
       "      <td>No</td>\n",
       "      <td>No</td>\n",
       "      <td>Yes</td>\n",
       "      <td>31261.480</td>\n",
       "      <td>0.000000</td>\n",
       "    </tr>\n",
       "    <tr>\n",
       "      <th>4</th>\n",
       "      <td>Female</td>\n",
       "      <td>0.082267</td>\n",
       "      <td>Divorced</td>\n",
       "      <td>Yes</td>\n",
       "      <td>Basque Country</td>\n",
       "      <td>Thinly-populated area</td>\n",
       "      <td>Spain</td>\n",
       "      <td>Outright owner</td>\n",
       "      <td>Higher education</td>\n",
       "      <td>Disabled/unfit to work</td>\n",
       "      <td>...</td>\n",
       "      <td>0.577744</td>\n",
       "      <td>-0.890916</td>\n",
       "      <td>-0.322031</td>\n",
       "      <td>No</td>\n",
       "      <td>Yes</td>\n",
       "      <td>Yes</td>\n",
       "      <td>No</td>\n",
       "      <td>Yes</td>\n",
       "      <td>6007.805</td>\n",
       "      <td>5.603701</td>\n",
       "    </tr>\n",
       "  </tbody>\n",
       "</table>\n",
       "<p>5 rows × 21 columns</p>\n",
       "</div>"
      ],
      "text/plain": [
       "      sex       age civil_status familial_status          region  \\\n",
       "0    Male  0.972748      Married              No  Basque Country   \n",
       "1  Female  0.861438      Married              No  Basque Country   \n",
       "2  Female  1.084058      Married              No  Basque Country   \n",
       "3    Male  0.416197      Married              No  Basque Country   \n",
       "4  Female  0.082267     Divorced             Yes  Basque Country   \n",
       "\n",
       "      population_density citizenship   tenure_status  \\\n",
       "0  Thinly-populated area       Spain  Outright owner   \n",
       "1  Thinly-populated area       Spain  Outright owner   \n",
       "2  Thinly-populated area       Spain  Outright owner   \n",
       "3  Thinly-populated area       Spain  Outright owner   \n",
       "4  Thinly-populated area       Spain  Outright owner   \n",
       "\n",
       "             education_level                working_status  ... years_worked  \\\n",
       "0  Upper secondary education                       Retired  ...     1.660637   \n",
       "1  Upper secondary education  Unpaid carer/domestic worker  ...    -1.205845   \n",
       "2  Lower secondary education  Unpaid carer/domestic worker  ...    -0.059252   \n",
       "3  Upper secondary education                       Retired  ...     0.896242   \n",
       "4           Higher education        Disabled/unfit to work  ...     0.577744   \n",
       "\n",
       "   hours_week_worked  person_room  self_perceived_bad_health  \\\n",
       "0          -0.890916     0.430935                        Yes   \n",
       "1          -0.890916     0.430935                         No   \n",
       "2          -0.890916     0.430935                         No   \n",
       "3          -0.890916     0.430935                         No   \n",
       "4          -0.890916    -0.322031                         No   \n",
       "\n",
       "  has_health_limitations has_chronic_condition unmet_medical_treatment  \\\n",
       "0                    Yes                   Yes                      No   \n",
       "1                     No                   Yes                      No   \n",
       "2                     No                    No                      No   \n",
       "3                     No                    No                      No   \n",
       "4                    Yes                   Yes                      No   \n",
       "\n",
       "  has_support_net adjusted_income  poverty_score  \n",
       "0             Yes       24418.740       0.000000  \n",
       "1             Yes       24418.740       0.000000  \n",
       "2             Yes       31261.480       0.000000  \n",
       "3             Yes       31261.480       0.000000  \n",
       "4             Yes        6007.805       5.603701  \n",
       "\n",
       "[5 rows x 21 columns]"
      ]
     },
     "execution_count": 226,
     "metadata": {},
     "output_type": "execute_result"
    }
   ],
   "source": [
    "scaler = StandardScaler()\n",
    "\n",
    "num_var = data[['age', 'years_worked', 'hours_week_worked', 'person_room']]\n",
    "scaler.fit(num_var)\n",
    "scaled_var = pd.DataFrame(scaler.transform(num_var), columns=num_var.columns)\n",
    "\n",
    "data.age = scaled_var.age\n",
    "data.years_worked = scaled_var.years_worked\n",
    "data.hours_week_worked = scaled_var.hours_week_worked\n",
    "data.person_room = scaled_var.person_room\n",
    "\n",
    "data.head()"
   ]
  },
  {
   "cell_type": "code",
   "execution_count": 227,
   "metadata": {},
   "outputs": [],
   "source": [
    "def get_dummies(df):\n",
    "    new_df = pd.DataFrame()\n",
    "    for c in df.columns:\n",
    "        if type(df[c][0]) == type('string'):\n",
    "            dummy_df = pd.get_dummies(df[c])\n",
    "            for dummy_column in dummy_df.columns:\n",
    "                new_df[c + '_' + dummy_column] = dummy_df[dummy_column]\n",
    "        else:\n",
    "            new_df[c] = df[c]\n",
    "    return new_df"
   ]
  },
  {
   "cell_type": "code",
   "execution_count": 228,
   "metadata": {},
   "outputs": [
    {
     "data": {
      "text/plain": [
       "Index(['sex_Female', 'sex_Male', 'age', 'civil_status_Divorced',\n",
       "       'civil_status_Married'],\n",
       "      dtype='object')"
      ]
     },
     "execution_count": 228,
     "metadata": {},
     "output_type": "execute_result"
    }
   ],
   "source": [
    "data_final = get_dummies(data)\n",
    "\n",
    "data_final.columns[:5]"
   ]
  },
  {
   "cell_type": "code",
   "execution_count": 229,
   "metadata": {},
   "outputs": [],
   "source": [
    "#data_final['is_minor'] = data_final.civil_status_Minor\n",
    "#data_final = data_final.drop(['civil_status_Minor', \n",
    "#                               'working_status_Minor', \n",
    "#                               'education_level_Minor'], axis=1)"
   ]
  },
  {
   "cell_type": "code",
   "execution_count": 230,
   "metadata": {},
   "outputs": [
    {
     "name": "stdout",
     "output_type": "stream",
     "text": [
      "Has material deprivation: 20.16%\n",
      "Does not have material deprivation: 79.84%\n"
     ]
    }
   ],
   "source": [
    "data_final['material_deprivation'] = data.poverty_score.apply(lambda x: 1 if x > 2.02 else 0)\n",
    "data_final = data_final.drop(['poverty_score'], axis=1)\n",
    "\n",
    "count_yes = len(data_final[data_final.material_deprivation == 1])\n",
    "count_no = len(data_final[data_final.material_deprivation == 0])\n",
    "freq_yes = (count_yes/(count_yes+count_no))*100\n",
    "freq_no = (count_no/(count_yes+count_no))*100\n",
    "\n",
    "print('''Has material deprivation: {}%\n",
    "Does not have material deprivation: {}%'''.format(round(freq_yes, 2), round(freq_no, 2)))"
   ]
  },
  {
   "cell_type": "code",
   "execution_count": 231,
   "metadata": {},
   "outputs": [
    {
     "data": {
      "text/html": [
       "<div>\n",
       "<style scoped>\n",
       "    .dataframe tbody tr th:only-of-type {\n",
       "        vertical-align: middle;\n",
       "    }\n",
       "\n",
       "    .dataframe tbody tr th {\n",
       "        vertical-align: top;\n",
       "    }\n",
       "\n",
       "    .dataframe thead th {\n",
       "        text-align: right;\n",
       "    }\n",
       "</style>\n",
       "<table border=\"1\" class=\"dataframe\">\n",
       "  <thead>\n",
       "    <tr style=\"text-align: right;\">\n",
       "      <th></th>\n",
       "      <th>sex_Female</th>\n",
       "      <th>sex_Male</th>\n",
       "      <th>age</th>\n",
       "      <th>civil_status_Divorced</th>\n",
       "      <th>civil_status_Married</th>\n",
       "      <th>civil_status_Married 'de facto'</th>\n",
       "      <th>civil_status_Never married</th>\n",
       "      <th>civil_status_Separated</th>\n",
       "      <th>civil_status_Widowed</th>\n",
       "      <th>familial_status_No</th>\n",
       "      <th>...</th>\n",
       "      <th>has_health_limitations_No</th>\n",
       "      <th>has_health_limitations_Yes</th>\n",
       "      <th>has_chronic_condition_No</th>\n",
       "      <th>has_chronic_condition_Yes</th>\n",
       "      <th>unmet_medical_treatment_No</th>\n",
       "      <th>unmet_medical_treatment_Yes</th>\n",
       "      <th>has_support_net_No</th>\n",
       "      <th>has_support_net_Yes</th>\n",
       "      <th>adjusted_income</th>\n",
       "      <th>material_deprivation</th>\n",
       "    </tr>\n",
       "  </thead>\n",
       "  <tbody>\n",
       "    <tr>\n",
       "      <th>0</th>\n",
       "      <td>0</td>\n",
       "      <td>1</td>\n",
       "      <td>0.972748</td>\n",
       "      <td>0</td>\n",
       "      <td>1</td>\n",
       "      <td>0</td>\n",
       "      <td>0</td>\n",
       "      <td>0</td>\n",
       "      <td>0</td>\n",
       "      <td>1</td>\n",
       "      <td>...</td>\n",
       "      <td>0</td>\n",
       "      <td>1</td>\n",
       "      <td>0</td>\n",
       "      <td>1</td>\n",
       "      <td>1</td>\n",
       "      <td>0</td>\n",
       "      <td>0</td>\n",
       "      <td>1</td>\n",
       "      <td>24418.740</td>\n",
       "      <td>0</td>\n",
       "    </tr>\n",
       "    <tr>\n",
       "      <th>1</th>\n",
       "      <td>1</td>\n",
       "      <td>0</td>\n",
       "      <td>0.861438</td>\n",
       "      <td>0</td>\n",
       "      <td>1</td>\n",
       "      <td>0</td>\n",
       "      <td>0</td>\n",
       "      <td>0</td>\n",
       "      <td>0</td>\n",
       "      <td>1</td>\n",
       "      <td>...</td>\n",
       "      <td>1</td>\n",
       "      <td>0</td>\n",
       "      <td>0</td>\n",
       "      <td>1</td>\n",
       "      <td>1</td>\n",
       "      <td>0</td>\n",
       "      <td>0</td>\n",
       "      <td>1</td>\n",
       "      <td>24418.740</td>\n",
       "      <td>0</td>\n",
       "    </tr>\n",
       "    <tr>\n",
       "      <th>2</th>\n",
       "      <td>1</td>\n",
       "      <td>0</td>\n",
       "      <td>1.084058</td>\n",
       "      <td>0</td>\n",
       "      <td>1</td>\n",
       "      <td>0</td>\n",
       "      <td>0</td>\n",
       "      <td>0</td>\n",
       "      <td>0</td>\n",
       "      <td>1</td>\n",
       "      <td>...</td>\n",
       "      <td>1</td>\n",
       "      <td>0</td>\n",
       "      <td>1</td>\n",
       "      <td>0</td>\n",
       "      <td>1</td>\n",
       "      <td>0</td>\n",
       "      <td>0</td>\n",
       "      <td>1</td>\n",
       "      <td>31261.480</td>\n",
       "      <td>0</td>\n",
       "    </tr>\n",
       "    <tr>\n",
       "      <th>3</th>\n",
       "      <td>0</td>\n",
       "      <td>1</td>\n",
       "      <td>0.416197</td>\n",
       "      <td>0</td>\n",
       "      <td>1</td>\n",
       "      <td>0</td>\n",
       "      <td>0</td>\n",
       "      <td>0</td>\n",
       "      <td>0</td>\n",
       "      <td>1</td>\n",
       "      <td>...</td>\n",
       "      <td>1</td>\n",
       "      <td>0</td>\n",
       "      <td>1</td>\n",
       "      <td>0</td>\n",
       "      <td>1</td>\n",
       "      <td>0</td>\n",
       "      <td>0</td>\n",
       "      <td>1</td>\n",
       "      <td>31261.480</td>\n",
       "      <td>0</td>\n",
       "    </tr>\n",
       "    <tr>\n",
       "      <th>4</th>\n",
       "      <td>1</td>\n",
       "      <td>0</td>\n",
       "      <td>0.082267</td>\n",
       "      <td>1</td>\n",
       "      <td>0</td>\n",
       "      <td>0</td>\n",
       "      <td>0</td>\n",
       "      <td>0</td>\n",
       "      <td>0</td>\n",
       "      <td>0</td>\n",
       "      <td>...</td>\n",
       "      <td>0</td>\n",
       "      <td>1</td>\n",
       "      <td>0</td>\n",
       "      <td>1</td>\n",
       "      <td>1</td>\n",
       "      <td>0</td>\n",
       "      <td>0</td>\n",
       "      <td>1</td>\n",
       "      <td>6007.805</td>\n",
       "      <td>1</td>\n",
       "    </tr>\n",
       "  </tbody>\n",
       "</table>\n",
       "<p>5 rows × 79 columns</p>\n",
       "</div>"
      ],
      "text/plain": [
       "   sex_Female  sex_Male       age  civil_status_Divorced  \\\n",
       "0           0         1  0.972748                      0   \n",
       "1           1         0  0.861438                      0   \n",
       "2           1         0  1.084058                      0   \n",
       "3           0         1  0.416197                      0   \n",
       "4           1         0  0.082267                      1   \n",
       "\n",
       "   civil_status_Married  civil_status_Married 'de facto'  \\\n",
       "0                     1                                0   \n",
       "1                     1                                0   \n",
       "2                     1                                0   \n",
       "3                     1                                0   \n",
       "4                     0                                0   \n",
       "\n",
       "   civil_status_Never married  civil_status_Separated  civil_status_Widowed  \\\n",
       "0                           0                       0                     0   \n",
       "1                           0                       0                     0   \n",
       "2                           0                       0                     0   \n",
       "3                           0                       0                     0   \n",
       "4                           0                       0                     0   \n",
       "\n",
       "   familial_status_No  ...  has_health_limitations_No  \\\n",
       "0                   1  ...                          0   \n",
       "1                   1  ...                          1   \n",
       "2                   1  ...                          1   \n",
       "3                   1  ...                          1   \n",
       "4                   0  ...                          0   \n",
       "\n",
       "   has_health_limitations_Yes  has_chronic_condition_No  \\\n",
       "0                           1                         0   \n",
       "1                           0                         0   \n",
       "2                           0                         1   \n",
       "3                           0                         1   \n",
       "4                           1                         0   \n",
       "\n",
       "   has_chronic_condition_Yes  unmet_medical_treatment_No  \\\n",
       "0                          1                           1   \n",
       "1                          1                           1   \n",
       "2                          0                           1   \n",
       "3                          0                           1   \n",
       "4                          1                           1   \n",
       "\n",
       "   unmet_medical_treatment_Yes  has_support_net_No  has_support_net_Yes  \\\n",
       "0                            0                   0                    1   \n",
       "1                            0                   0                    1   \n",
       "2                            0                   0                    1   \n",
       "3                            0                   0                    1   \n",
       "4                            0                   0                    1   \n",
       "\n",
       "   adjusted_income  material_deprivation  \n",
       "0        24418.740                     0  \n",
       "1        24418.740                     0  \n",
       "2        31261.480                     0  \n",
       "3        31261.480                     0  \n",
       "4         6007.805                     1  \n",
       "\n",
       "[5 rows x 79 columns]"
      ]
     },
     "execution_count": 231,
     "metadata": {},
     "output_type": "execute_result"
    }
   ],
   "source": [
    "data_final.head()"
   ]
  },
  {
   "cell_type": "raw",
   "metadata": {},
   "source": [
    "data_corr = data_final[data_final.columns].corr()\n",
    "data_corr_dict = {data_corr.material_deprivation[:-1][i]: data_final.columns[:-1][i] for i in range(len(data_final.columns[:-1]))}\n",
    "\n",
    "selected_columns = []\n",
    "for corr in data_corr_dict:\n",
    "    if abs(corr) > 0.1:\n",
    "        selected_columns.append(data_corr_dict[corr])\n",
    "\n",
    "selected_columns"
   ]
  },
  {
   "cell_type": "code",
   "execution_count": 232,
   "metadata": {},
   "outputs": [],
   "source": [
    "X = data_final.drop(['material_deprivation'], axis=1)\n",
    "y = data_final.material_deprivation\n",
    "\n",
    "X_train, X_test, y_train, y_test = train_test_split(X, y)"
   ]
  },
  {
   "cell_type": "code",
   "execution_count": 233,
   "metadata": {},
   "outputs": [],
   "source": [
    "frac = y_train.sum()/y_train.count()\n",
    "\n",
    "training_data = X_train.copy()\n",
    "training_data['material_deprivation'] = y_train.copy()\n",
    "training_data_us = pd.concat([training_data[training_data.material_deprivation == 1], \n",
    "                              training_data[training_data.material_deprivation == 0].sample(frac=frac)]).sample(frac=1)\n",
    "\n",
    "X_train_us = training_data_us.drop(['material_deprivation'], axis=1)\n",
    "y_train_us = training_data_us.material_deprivation"
   ]
  },
  {
   "cell_type": "raw",
   "metadata": {},
   "source": [
    "logreg = LogisticRegression(max_iter=1000)\n",
    "\n",
    "rfe = RFE(logreg)\n",
    "rfe = rfe.fit(X_train_us, y_train_us)\n",
    "             \n",
    "selected_columns = [X_train.columns[i] for i in range(len(rfe.support_)) if rfe.support_[i] == True]\n",
    "selected_columns"
   ]
  },
  {
   "cell_type": "code",
   "execution_count": 234,
   "metadata": {},
   "outputs": [
    {
     "name": "stdout",
     "output_type": "stream",
     "text": [
      "Accuracy of logistic regression classifier on test set: 0.71\n"
     ]
    }
   ],
   "source": [
    "X_train_us = X_train_us#[selected_columns]\n",
    "X_test = X_test#[selected_columns]\n",
    "\n",
    "logreg = LogisticRegression(max_iter=1000)\n",
    "logreg.fit(X_train_us, y_train_us)\n",
    "\n",
    "y_pred = logreg.predict(X_test)\n",
    "print('Accuracy of logistic regression classifier on test set: {:.2f}'.format(logreg.score(X_test, y_test)))"
   ]
  },
  {
   "cell_type": "code",
   "execution_count": 235,
   "metadata": {},
   "outputs": [
    {
     "name": "stdout",
     "output_type": "stream",
     "text": [
      "[[4464 2075]\n",
      " [ 306 1284]]\n"
     ]
    }
   ],
   "source": [
    "confusion_matrix = confusion_matrix(y_test, y_pred)\n",
    "print(confusion_matrix)"
   ]
  },
  {
   "cell_type": "code",
   "execution_count": 236,
   "metadata": {},
   "outputs": [
    {
     "name": "stdout",
     "output_type": "stream",
     "text": [
      "              precision    recall  f1-score   support\n",
      "\n",
      "           0       0.94      0.68      0.79      6539\n",
      "           1       0.38      0.81      0.52      1590\n",
      "\n",
      "    accuracy                           0.71      8129\n",
      "   macro avg       0.66      0.75      0.65      8129\n",
      "weighted avg       0.83      0.71      0.74      8129\n",
      "\n"
     ]
    }
   ],
   "source": [
    "print(classification_report(y_test, y_pred))"
   ]
  },
  {
   "cell_type": "code",
   "execution_count": 237,
   "metadata": {},
   "outputs": [],
   "source": [
    "proba_material_deprivation = [proba[1] for proba in logreg.predict_proba(X_test)]"
   ]
  },
  {
   "cell_type": "code",
   "execution_count": 238,
   "metadata": {},
   "outputs": [],
   "source": [
    "testing_data = X_test.copy()\n",
    "testing_data['material_deprivation'] = y_test.copy()\n",
    "testing_data['proba_material_deprivation'] = proba_material_deprivation"
   ]
  },
  {
   "cell_type": "code",
   "execution_count": 239,
   "metadata": {},
   "outputs": [
    {
     "data": {
      "image/png": "[encoded data removed]",
      "text/plain": [
       "<Figure size 432x288 with 1 Axes>"
      ]
     },
     "metadata": {
      "needs_background": "light"
     },
     "output_type": "display_data"
    }
   ],
   "source": [
    "plt.hist(x='proba_material_deprivation', bins=100, data=testing_data[testing_data.material_deprivation == 1].reset_index(), \n",
    "         alpha=0.5, density=False)\n",
    "plt.hist(x='proba_material_deprivation', bins=100, data=testing_data[testing_data.material_deprivation == 0].reset_index(), \n",
    "         alpha=0.5, density=False);"
   ]
  }
 ],
 "metadata": {
  "kernelspec": {
   "display_name": "Python 3",
   "language": "python",
   "name": "python3"
  },
  "language_info": {
   "codemirror_mode": {
    "name": "ipython",
    "version": 3
   },
   "file_extension": ".py",
   "mimetype": "text/x-python",
   "name": "python",
   "nbconvert_exporter": "python",
   "pygments_lexer": "ipython3",
   "version": "3.8.3"
  }
 },
 "nbformat": 4,
 "nbformat_minor": 4
}
