{
 "cells": [
  {
   "cell_type": "code",
   "execution_count": 2,
   "metadata": {},
   "outputs": [],
   "source": [
    "import pandas as pd\n",
    "from matplotlib import pyplot as plt\n",
    "import seaborn as sns; sns.set()"
   ]
  },
  {
   "cell_type": "code",
   "execution_count": 3,
   "metadata": {},
   "outputs": [],
   "source": [
    "#This function removes columns ended in '(flag)'. It gets rid of the flag columns in the SILC merged dataframe.\n",
    "\n",
    "def unflag(column_series):\n",
    "    unflaged_list = list(column_series)\n",
    "    for c in column_series:\n",
    "        if c[-6:] == '(flag)':\n",
    "            unflaged_list.remove(c)\n",
    "    return unflaged_list"
   ]
  },
  {
   "cell_type": "code",
   "execution_count": 4,
   "metadata": {},
   "outputs": [],
   "source": [
    "irrelevant_columns = ['Unnamed: 0', \n",
    "                      'Year of survey', \n",
    "                      'Country', \n",
    "                      'Month of birth',\n",
    "                      'Father ID',\n",
    "                      'Mother ID',\n",
    "                      'Spouse/partner ID', \n",
    "                      'Month of the personal interview', \n",
    "                      'Year of the personal interview', \n",
    "                      'Minutes to complete the personal questionnaire', \n",
    "                      'Household ID', \n",
    "                      'Primary sampling units (PSU)', \n",
    "                      'Houshold cross-sectional weight', \n",
    "                      'Month of household interview', \n",
    "                      'Year of household interview', \n",
    "                      'Person responding the household questionnaire', \n",
    "                      'Person 2 responsible for the accommodation', \n",
    "                      'Number of minutes to complete the household questionnaire',\n",
    "                      'Residential status']"
   ]
  },
  {
   "cell_type": "code",
   "execution_count": 5,
   "metadata": {},
   "outputs": [],
   "source": [
    "#This function calculates the cross sectional weight of each row and returns the weighted frecuency data of a categorical \n",
    "#variable.\n",
    "#It does so by multiplying each row by a factor.\n",
    "\n",
    "def weighted_freq(df, cat_column):\n",
    "    dummy = pd.get_dummies(cat_column)\n",
    "    for c in dummy.columns:\n",
    "        dummy['weight_' + str(c)] = dummy[c] * df.weight\n",
    "    freq_dict = {}\n",
    "    for c in dummy.columns:\n",
    "        if str(c)[0] == 'w':\n",
    "            freq_dict[c[7:]] = dummy[c].sum() / df.weight.sum()\n",
    "    return freq_dict"
   ]
  },
  {
   "cell_type": "code",
   "execution_count": 6,
   "metadata": {},
   "outputs": [],
   "source": [
    "#This function return a readjusted categorical column where each row has been weighted up or down proportionally.\n",
    "#It does so by multiplying each row by a factor.\n",
    "\n",
    "def weighted_cat(df, cat_column):\n",
    "    dummy = pd.get_dummies(cat_column)\n",
    "    for c in dummy.columns:\n",
    "        dummy['weight_' + str(c)] = dummy[c] * df.weight\n",
    "    weighted_cat = []\n",
    "    for i in range(len(df)):\n",
    "        for c in dummy.columns:\n",
    "            if c[0] == 'w':\n",
    "                for x in range(int(round(dummy[c][i]/1000, 0))):\n",
    "                       weighted_cat.append(c[7:])   \n",
    "    return weighted_cat"
   ]
  },
  {
   "cell_type": "code",
   "execution_count": 7,
   "metadata": {},
   "outputs": [],
   "source": [
    "#This function return a readjusted numerical column where each row has been weighted up or down proportionally.\n",
    "#It does so by multiplying each row by a factor\n",
    "\n",
    "def weighted_num(df, num_column):\n",
    "    weighted_num = []\n",
    "    for i in range(len(df)):\n",
    "        for x in range(int(round(df.weight[i]/1000, 0))):\n",
    "            weighted_num.append(num_column[i])  \n",
    "    return weighted_num"
   ]
  },
  {
   "cell_type": "code",
   "execution_count": 1,
   "metadata": {},
   "outputs": [],
   "source": [
    "#This function takes a column name and a dataframe as arguments and plots a weigthed histogram. Bin number is also\n",
    "#customizable.\n",
    "\n",
    "def histplot(x, data, bins):\n",
    "    plt.figure(figsize=(6.4*1.5, 4.8*1.5))\n",
    "    sns.histplot(x=data[x], data=data, weights='weight', bins=bins, stat='density')"
   ]
  },
  {
   "cell_type": "code",
   "execution_count": 9,
   "metadata": {},
   "outputs": [],
   "source": [
    "#This function takes a column name and a dataframe as arguments and plots a weigthed frecuency bar chart.\n",
    "\n",
    "def barplot(x, data, legend=False):\n",
    "    labels = sorted(data[x].unique())\n",
    "    label_colors = ['C'+str(i) for i in range(len(labels))]#It automatically assigns a color to each category\n",
    "    x_ticks = range(len(labels))\n",
    "    freq = weighted_freq(data, data[x])\n",
    "    plt.figure(figsize=(6.4*1.5, 4.8*1.5))\n",
    "    ax = plt.subplot()\n",
    "    ax.bar(x_ticks, [freq[label] for label in labels], color=label_colors)\n",
    "    ax.set_xticks(x_ticks)\n",
    "    ax.set_xticklabels(labels)\n",
    "    plt.xlabel(x)\n",
    "    plt.ylabel('Frequency')\n",
    "    if legend==False:#A parameter is given to control the legend. If true a legend shows up on the side.\n",
    "        ax.set_xticklabels(labels)#It might be preferable when labels overlap each other.\n",
    "    else:\n",
    "        ax.set_xticklabels(['' for label in labels])\n",
    "        for i in range(len(labels)):\n",
    "            ax.bar([0], [0], label=labels[i][:40], color=label_colors[i])\n",
    "            ax.legend(bbox_to_anchor=(1.05, 1), loc='upper left')"
   ]
  },
  {
   "cell_type": "code",
   "execution_count": 10,
   "metadata": {},
   "outputs": [],
   "source": [
    "#This function takes one categorical variable and one numerical variable and plots a weigthed boxplot.\n",
    "\n",
    "def boxplot(x, y, data, legend=False):\n",
    "    weighted_data = pd.DataFrame({x: weighted_cat(data, data[x]), y: weighted_num(data, data[y])})\n",
    "    labels = sorted(data[x].unique())\n",
    "    palette = {labels[i]: 'C'+str(i) for i in range(len(labels))}#a color to each category\n",
    "    plt.figure(figsize=(6.4*1.5, 4.8*1.5))\n",
    "    ax = plt.subplot()\n",
    "    boxplot = sns.boxplot(x=x, y=y, data=weighted_data, order=sorted(data[x].unique()), palette=palette)\n",
    "    if legend == True:#controls legend\n",
    "        boxplot.set(xticklabels=[])\n",
    "        for i in range(len(labels)):\n",
    "            ax.bar([0], [0], label=labels[i][:40], color=palette[labels[i]])\n",
    "            ax.legend(bbox_to_anchor=(1.05, 1), loc='upper left')"
   ]
  },
  {
   "cell_type": "code",
   "execution_count": 11,
   "metadata": {},
   "outputs": [],
   "source": [
    "#This function inputs a number and returns a multiplier value for the lenght of a chart and a value for the number of \n",
    "#subplot rows\n",
    "\n",
    "#It will be used in the function below\n",
    "\n",
    "def length_calculator(labels):\n",
    "    a = 4\n",
    "    multiplier = 1\n",
    "    rows = 2\n",
    "    for i in range(labels):\n",
    "        if i+1 >= a + 3:\n",
    "            a += 3\n",
    "            multiplier += 0.5\n",
    "            rows += 1\n",
    "    return multiplier, rows"
   ]
  },
  {
   "cell_type": "code",
   "execution_count": 12,
   "metadata": {},
   "outputs": [],
   "source": [
    "#This function takes two categorical variables and plots a weigthed bar chart diagram. \n",
    "\n",
    "#It automatically adjusts its length and number of subplots with the help of the function above.\n",
    "\n",
    "def bardiagram(x, y, data, legend=False):\n",
    "    titles = sorted(data[x].unique())\n",
    "    labels = sorted(data[y].unique())\n",
    "    label_colors = ['C'+str(i) for i in range(len(labels))]#a color to each category\n",
    "    x_ticks = range(len(labels))\n",
    "    length_multiplier, subplot_rows = length_calculator(len(titles))\n",
    "    plt.figure(figsize=(6.4*2, 4.8*2*length_multiplier))\n",
    "    subplot = 1\n",
    "    ytick_max_list = []\n",
    "    for title in titles:#It also automatically adjust the ytick values to the largest of the subplots to make visual\n",
    "        subplot_data = data[data[x] == title]#comparations easier\n",
    "        ytick_max = max(weighted_freq(subplot_data, subplot_data[y]).values())\n",
    "        ytick_max_list.append(ytick_max)\n",
    "    ytick_max_length = max(ytick_max_list)\n",
    "    for title in titles:\n",
    "        subplot_data = data[data[x] == title]\n",
    "        freq = weighted_freq(subplot_data, subplot_data[y])\n",
    "        ax = plt.subplot(subplot_rows, 3, subplot)\n",
    "        ax.title.set_text(title[:40])\n",
    "        ax.bar(x_ticks, [freq[label] if label in freq.keys() else 0 for label in labels], color=label_colors)\n",
    "        ax.set_yticks([i/10 for i in range(int(ytick_max_length * 10)+2)])\n",
    "        ax.set_xticks(x_ticks)\n",
    "        if legend==False:#legend\n",
    "            ax.set_xticklabels(labels)\n",
    "        else:\n",
    "            ax.set_xticklabels(['' for label in labels])\n",
    "        subplot += 1\n",
    "    if legend==True:\n",
    "        for i in range(len(labels)):\n",
    "            ax.bar([0], [0], label=labels[i][:20], color=label_colors[i])\n",
    "            ax.legend(bbox_to_anchor=(1.05, 1), loc='upper left')"
   ]
  },
  {
   "cell_type": "code",
   "execution_count": null,
   "metadata": {},
   "outputs": [],
   "source": [
    "#This function takes two numerical variables and returns a weighted scatterplot.\n",
    "\n",
    "def scatterplot(x, y, data):\n",
    "    weighted_data = pd.DataFrame({x: weighted_num(data, data[x]), y: weighted_num(data, data[y])})\n",
    "    plt.figure(figsize=(6.4*1.5, 4.8*1.5))\n",
    "    sns.scatterplot(x=x, y=y, data=weighted_data)"
   ]
  },
  {
   "cell_type": "code",
   "execution_count": 1,
   "metadata": {},
   "outputs": [],
   "source": [
    "#This function takes a dataframe and returns a weighted version of itself.\n",
    "\n",
    "def weighted_df(df):\n",
    "    weighted_df = pd.DataFrame()\n",
    "    columns = [c for c in df.columns if c != 'weight']\n",
    "    for c in df[columns].columns:\n",
    "        if type(df[c][0]) == type('string'):\n",
    "            weighted_df[c] = weighted_cat(df, df[c])\n",
    "        else:\n",
    "            weighted_df[c] = weighted_num(df, df[c])\n",
    "    return weighted_df"
   ]
  }
 ],
 "metadata": {
  "kernelspec": {
   "display_name": "Python 3",
   "language": "python",
   "name": "python3"
  },
  "language_info": {
   "codemirror_mode": {
    "name": "ipython",
    "version": 3
   },
   "file_extension": ".py",
   "mimetype": "text/x-python",
   "name": "python",
   "nbconvert_exporter": "python",
   "pygments_lexer": "ipython3",
   "version": "3.8.3"
  }
 },
 "nbformat": 4,
 "nbformat_minor": 4
}
