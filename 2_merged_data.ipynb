{
 "cells": [
  {
   "cell_type": "code",
   "execution_count": 9,
   "metadata": {},
   "outputs": [],
   "source": [
    "import pandas as pd"
   ]
  },
  {
   "cell_type": "code",
   "execution_count": 22,
   "metadata": {},
   "outputs": [],
   "source": [
    "#Loading all decoded CSVs\n",
    "\n",
    "#The process will be to merge first home_basic and home_data on the Household ID column and person_basic and person data on the\n",
    "#Person ID column. After that a new Household ID column will be created in the merged person dataframe from the Person ID column\n",
    "#since the second is an extension of the first). Then I will merge the two remaining dataframes into one with all the person and\n",
    "#household variables.\n",
    "\n",
    "try:\n",
    "    home_basic = pd.read_csv('home_basic_decod.csv', low_memory=False)\n",
    "    home_data = pd.read_csv('home_data_decod.csv', low_memory=False)\n",
    "    person_basic = pd.read_csv('person_basic_decod.csv', low_memory=False)\n",
    "    person_data = pd.read_csv('person_data_decod.csv', low_memory=False)\n",
    "\n",
    "except FileNotFoundError:\n",
    "    url1 = 'https://drive.google.com/file/d/1w6LsT3V1us3OGkX6HBSm-0Ou1MEiNIVC/view?usp=sharing'\n",
    "    path1 = 'https://drive.google.com/uc?id=' + url1.split('/')[-2]\n",
    "    home_basic = pd.read_csv(path1, low_memory=False)\n",
    "    \n",
    "    url2 = 'https://drive.google.com/file/d/1RuZZPNeROvK-gGvt2XbbCd_KfXf6q-5_/view?usp=sharing'\n",
    "    path2 = 'https://drive.google.com/uc?id=' + url2.split('/')[-2]\n",
    "    home_data = pd.read_csv(path2, low_memory=False)\n",
    "    \n",
    "    url3 = 'https://drive.google.com/file/d/1oUvTyw29slQPsav-F1fT0tjXsdBPkUaW/view?usp=sharing'\n",
    "    path3 = 'https://drive.google.com/uc?id=' + url3.split('/')[-2]\n",
    "    person_basic = pd.read_csv(path3, low_memory=False)\n",
    "    \n",
    "    url4 = 'https://drive.google.com/file/d/1uZIJpAtkexhapcaWr9Adui5B2bX8j4Ql/view?usp=sharing'\n",
    "    path4 = 'https://drive.google.com/uc?id=' + url4.split('/')[-2]\n",
    "    person_data = pd.read_csv(path4, low_memory=False)"
   ]
  },
  {
   "cell_type": "code",
   "execution_count": 23,
   "metadata": {},
   "outputs": [],
   "source": [
    "#Removing old index columns\n",
    "\n",
    "home_basic = home_basic.drop(['Unnamed: 0'], axis=1)\n",
    "home_data = home_data.drop(['Unnamed: 0'], axis=1)\n",
    "person_basic = person_basic.drop(['Unnamed: 0'], axis=1)\n",
    "person_data = person_data.drop(['Unnamed: 0'], axis=1)"
   ]
  },
  {
   "cell_type": "code",
   "execution_count": 24,
   "metadata": {},
   "outputs": [
    {
     "name": "stdout",
     "output_type": "stream",
     "text": [
      "['Year of survey', 'Country', 'Household ID']\n",
      "['Year of survey', 'Country', 'Personal ID', 'Personal cross-sectional weight', 'Personal cross-sectional weight (flag)', 'Month of birth', 'Month of birth (flag)', 'Year of birth', 'Year of birth (flag)', 'Sex', 'Sex (flag)', 'Father ID', 'Father ID (flag)', 'Mother ID', 'Mother ID (flag)', 'Spouse/partner ID', 'Spouse/partner ID (flag)']\n"
     ]
    }
   ],
   "source": [
    "#This function finds the names of all common columns between two dataframes. This way I can remove them before merging.\n",
    "\n",
    "def duplicated_columns(df1, df2):\n",
    "    duplicated_columns = []\n",
    "    for c1 in df1.columns:\n",
    "        for c2 in df2.columns:\n",
    "            if c1 == c2:\n",
    "                duplicated_columns.append(c1)\n",
    "    return duplicated_columns\n",
    "\n",
    "duplicated_home = duplicated_columns(home_basic, home_data)\n",
    "duplicated_person = duplicated_columns(person_basic, person_data)\n",
    "\n",
    "print(duplicated_home)\n",
    "print(duplicated_person)"
   ]
  },
  {
   "cell_type": "code",
   "execution_count": 25,
   "metadata": {},
   "outputs": [],
   "source": [
    "#I intend to use the ID columns as merge keys so I substract them from my duplicated columns lists.\n",
    "\n",
    "duplicated_home.remove('Household ID')\n",
    "duplicated_person.remove('Personal ID')"
   ]
  },
  {
   "cell_type": "code",
   "execution_count": 26,
   "metadata": {},
   "outputs": [],
   "source": [
    "#Getting rid of duplicated columns\n",
    "\n",
    "home_data = home_data.drop(duplicated_home, axis=1)\n",
    "person_data = person_data.drop(duplicated_person, axis=1)"
   ]
  },
  {
   "cell_type": "code",
   "execution_count": 27,
   "metadata": {},
   "outputs": [],
   "source": [
    "#Merging dataframes\n",
    "\n",
    "merged_home = pd.merge(home_basic, home_data, on=['Household ID'], how='left')\n",
    "merged_person = pd.merge(person_basic, person_data, on=['Personal ID'], how='left')"
   ]
  },
  {
   "cell_type": "code",
   "execution_count": 28,
   "metadata": {},
   "outputs": [],
   "source": [
    "#All personal IDs are made up of the household ID plus a number from 0-99. This function adds a household ID column to the \n",
    "#person dataframe to use as key for the last merge.\n",
    "\n",
    "def household_id(integer):\n",
    "    return int(str(integer)[:-2])\n",
    "\n",
    "merged_person['Household ID'] = merged_person['Personal ID'].apply(household_id)"
   ]
  },
  {
   "cell_type": "code",
   "execution_count": 29,
   "metadata": {},
   "outputs": [
    {
     "name": "stdout",
     "output_type": "stream",
     "text": [
      "['Year of survey', 'Country', 'Household ID']\n"
     ]
    }
   ],
   "source": [
    "#Getting duplicates\n",
    "\n",
    "duplicated_data = duplicated_columns(merged_person, merged_home)\n",
    "\n",
    "print(duplicated_data)"
   ]
  },
  {
   "cell_type": "code",
   "execution_count": 30,
   "metadata": {},
   "outputs": [],
   "source": [
    "#Except ID\n",
    "\n",
    "duplicated_data.remove('Household ID')"
   ]
  },
  {
   "cell_type": "code",
   "execution_count": 31,
   "metadata": {},
   "outputs": [],
   "source": [
    "#Removing duplicates\n",
    "\n",
    "merged_home = merged_home.drop(duplicated_data, axis=1)"
   ]
  },
  {
   "cell_type": "code",
   "execution_count": 32,
   "metadata": {},
   "outputs": [],
   "source": [
    "#Merging\n",
    "\n",
    "merged_data = pd.merge(merged_person, merged_home, on=['Household ID'], how='left')"
   ]
  },
  {
   "cell_type": "code",
   "execution_count": 27,
   "metadata": {},
   "outputs": [],
   "source": [
    "merged_data.to_csv('ilc.csv')"
   ]
  }
 ],
 "metadata": {
  "kernelspec": {
   "display_name": "Python 3",
   "language": "python",
   "name": "python3"
  },
  "language_info": {
   "codemirror_mode": {
    "name": "ipython",
    "version": 3
   },
   "file_extension": ".py",
   "mimetype": "text/x-python",
   "name": "python",
   "nbconvert_exporter": "python",
   "pygments_lexer": "ipython3",
   "version": "3.8.3"
  }
 },
 "nbformat": 4,
 "nbformat_minor": 4
}
