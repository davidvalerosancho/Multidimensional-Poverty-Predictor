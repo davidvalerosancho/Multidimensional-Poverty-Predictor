{
 "cells": [
  {
   "cell_type": "code",
   "execution_count": 1,
   "metadata": {},
   "outputs": [],
   "source": [
    "import pandas as pd\n",
    "from sklearn.model_selection import train_test_split\n",
    "from imblearn.under_sampling import RandomUnderSampler\n",
    "from imblearn.over_sampling import RandomOverSampler\n",
    "from imblearn.over_sampling import SMOTE\n",
    "from sklearn.neighbors import KNeighborsClassifier\n",
    "from sklearn.metrics import classification_report"
   ]
  },
  {
   "cell_type": "code",
   "execution_count": 2,
   "metadata": {},
   "outputs": [],
   "source": [
    "try:\n",
    "    data = pd.read_csv('to_model.csv')\n",
    "\n",
    "except FileNotFoundError:\n",
    "    url = 'https://raw.githubusercontent.com/deividvalerius/Multidimensional-Poverty-Predictor/master/Data/to_model.csv'\n",
    "    data = pd.read_csv(url)"
   ]
  },
  {
   "cell_type": "code",
   "execution_count": 3,
   "metadata": {},
   "outputs": [
    {
     "data": {
      "text/html": [
       "<div>\n",
       "<style scoped>\n",
       "    .dataframe tbody tr th:only-of-type {\n",
       "        vertical-align: middle;\n",
       "    }\n",
       "\n",
       "    .dataframe tbody tr th {\n",
       "        vertical-align: top;\n",
       "    }\n",
       "\n",
       "    .dataframe thead th {\n",
       "        text-align: right;\n",
       "    }\n",
       "</style>\n",
       "<table border=\"1\" class=\"dataframe\">\n",
       "  <thead>\n",
       "    <tr style=\"text-align: right;\">\n",
       "      <th></th>\n",
       "      <th>civil_status_married</th>\n",
       "      <th>civil_status_never_married</th>\n",
       "      <th>civil_status_separated</th>\n",
       "      <th>region_basque_country</th>\n",
       "      <th>region_castile–la_mancha</th>\n",
       "      <th>region_andalusia</th>\n",
       "      <th>region_castile_and_leon</th>\n",
       "      <th>region_cantabria</th>\n",
       "      <th>population_density_thinly-populated_area</th>\n",
       "      <th>citizenship_spain</th>\n",
       "      <th>...</th>\n",
       "      <th>occupation_technicians_and_associate_professionals</th>\n",
       "      <th>occupation_non-defined</th>\n",
       "      <th>bad_health_yes</th>\n",
       "      <th>bad_health_no</th>\n",
       "      <th>age</th>\n",
       "      <th>years_worked</th>\n",
       "      <th>hours_week_worked</th>\n",
       "      <th>adjusted_income</th>\n",
       "      <th>proportion_social_welfare</th>\n",
       "      <th>material_deprivation</th>\n",
       "    </tr>\n",
       "  </thead>\n",
       "  <tbody>\n",
       "    <tr>\n",
       "      <th>0</th>\n",
       "      <td>1.0</td>\n",
       "      <td>0.0</td>\n",
       "      <td>0.0</td>\n",
       "      <td>1.0</td>\n",
       "      <td>0.0</td>\n",
       "      <td>0.0</td>\n",
       "      <td>0.0</td>\n",
       "      <td>0.0</td>\n",
       "      <td>1.0</td>\n",
       "      <td>1.0</td>\n",
       "      <td>...</td>\n",
       "      <td>0.0</td>\n",
       "      <td>0.0</td>\n",
       "      <td>1.0</td>\n",
       "      <td>0.0</td>\n",
       "      <td>0.764706</td>\n",
       "      <td>0.723077</td>\n",
       "      <td>0.0</td>\n",
       "      <td>0.222241</td>\n",
       "      <td>0.0</td>\n",
       "      <td>0</td>\n",
       "    </tr>\n",
       "    <tr>\n",
       "      <th>1</th>\n",
       "      <td>1.0</td>\n",
       "      <td>0.0</td>\n",
       "      <td>0.0</td>\n",
       "      <td>1.0</td>\n",
       "      <td>0.0</td>\n",
       "      <td>0.0</td>\n",
       "      <td>0.0</td>\n",
       "      <td>0.0</td>\n",
       "      <td>1.0</td>\n",
       "      <td>1.0</td>\n",
       "      <td>...</td>\n",
       "      <td>0.0</td>\n",
       "      <td>0.0</td>\n",
       "      <td>1.0</td>\n",
       "      <td>0.0</td>\n",
       "      <td>0.735294</td>\n",
       "      <td>0.030769</td>\n",
       "      <td>0.0</td>\n",
       "      <td>0.222241</td>\n",
       "      <td>0.0</td>\n",
       "      <td>0</td>\n",
       "    </tr>\n",
       "    <tr>\n",
       "      <th>2</th>\n",
       "      <td>1.0</td>\n",
       "      <td>0.0</td>\n",
       "      <td>0.0</td>\n",
       "      <td>1.0</td>\n",
       "      <td>0.0</td>\n",
       "      <td>0.0</td>\n",
       "      <td>0.0</td>\n",
       "      <td>0.0</td>\n",
       "      <td>1.0</td>\n",
       "      <td>1.0</td>\n",
       "      <td>...</td>\n",
       "      <td>0.0</td>\n",
       "      <td>0.0</td>\n",
       "      <td>0.0</td>\n",
       "      <td>1.0</td>\n",
       "      <td>0.794118</td>\n",
       "      <td>0.307692</td>\n",
       "      <td>0.0</td>\n",
       "      <td>0.258452</td>\n",
       "      <td>0.0</td>\n",
       "      <td>0</td>\n",
       "    </tr>\n",
       "    <tr>\n",
       "      <th>3</th>\n",
       "      <td>1.0</td>\n",
       "      <td>0.0</td>\n",
       "      <td>0.0</td>\n",
       "      <td>1.0</td>\n",
       "      <td>0.0</td>\n",
       "      <td>0.0</td>\n",
       "      <td>0.0</td>\n",
       "      <td>0.0</td>\n",
       "      <td>1.0</td>\n",
       "      <td>1.0</td>\n",
       "      <td>...</td>\n",
       "      <td>0.0</td>\n",
       "      <td>0.0</td>\n",
       "      <td>0.0</td>\n",
       "      <td>1.0</td>\n",
       "      <td>0.617647</td>\n",
       "      <td>0.538462</td>\n",
       "      <td>0.0</td>\n",
       "      <td>0.258452</td>\n",
       "      <td>0.0</td>\n",
       "      <td>0</td>\n",
       "    </tr>\n",
       "    <tr>\n",
       "      <th>4</th>\n",
       "      <td>0.0</td>\n",
       "      <td>0.0</td>\n",
       "      <td>0.0</td>\n",
       "      <td>1.0</td>\n",
       "      <td>0.0</td>\n",
       "      <td>0.0</td>\n",
       "      <td>0.0</td>\n",
       "      <td>0.0</td>\n",
       "      <td>1.0</td>\n",
       "      <td>1.0</td>\n",
       "      <td>...</td>\n",
       "      <td>0.0</td>\n",
       "      <td>0.0</td>\n",
       "      <td>1.0</td>\n",
       "      <td>0.0</td>\n",
       "      <td>0.529412</td>\n",
       "      <td>0.461538</td>\n",
       "      <td>0.0</td>\n",
       "      <td>0.124813</td>\n",
       "      <td>0.0</td>\n",
       "      <td>0</td>\n",
       "    </tr>\n",
       "  </tbody>\n",
       "</table>\n",
       "<p>5 rows × 40 columns</p>\n",
       "</div>"
      ],
      "text/plain": [
       "   civil_status_married  civil_status_never_married  civil_status_separated  \\\n",
       "0                   1.0                         0.0                     0.0   \n",
       "1                   1.0                         0.0                     0.0   \n",
       "2                   1.0                         0.0                     0.0   \n",
       "3                   1.0                         0.0                     0.0   \n",
       "4                   0.0                         0.0                     0.0   \n",
       "\n",
       "   region_basque_country  region_castile–la_mancha  region_andalusia  \\\n",
       "0                    1.0                       0.0               0.0   \n",
       "1                    1.0                       0.0               0.0   \n",
       "2                    1.0                       0.0               0.0   \n",
       "3                    1.0                       0.0               0.0   \n",
       "4                    1.0                       0.0               0.0   \n",
       "\n",
       "   region_castile_and_leon  region_cantabria  \\\n",
       "0                      0.0               0.0   \n",
       "1                      0.0               0.0   \n",
       "2                      0.0               0.0   \n",
       "3                      0.0               0.0   \n",
       "4                      0.0               0.0   \n",
       "\n",
       "   population_density_thinly-populated_area  citizenship_spain  ...  \\\n",
       "0                                       1.0                1.0  ...   \n",
       "1                                       1.0                1.0  ...   \n",
       "2                                       1.0                1.0  ...   \n",
       "3                                       1.0                1.0  ...   \n",
       "4                                       1.0                1.0  ...   \n",
       "\n",
       "   occupation_technicians_and_associate_professionals  occupation_non-defined  \\\n",
       "0                                                0.0                      0.0   \n",
       "1                                                0.0                      0.0   \n",
       "2                                                0.0                      0.0   \n",
       "3                                                0.0                      0.0   \n",
       "4                                                0.0                      0.0   \n",
       "\n",
       "   bad_health_yes  bad_health_no       age  years_worked  hours_week_worked  \\\n",
       "0             1.0            0.0  0.764706      0.723077                0.0   \n",
       "1             1.0            0.0  0.735294      0.030769                0.0   \n",
       "2             0.0            1.0  0.794118      0.307692                0.0   \n",
       "3             0.0            1.0  0.617647      0.538462                0.0   \n",
       "4             1.0            0.0  0.529412      0.461538                0.0   \n",
       "\n",
       "   adjusted_income  proportion_social_welfare  material_deprivation  \n",
       "0         0.222241                        0.0                     0  \n",
       "1         0.222241                        0.0                     0  \n",
       "2         0.258452                        0.0                     0  \n",
       "3         0.258452                        0.0                     0  \n",
       "4         0.124813                        0.0                     0  \n",
       "\n",
       "[5 rows x 40 columns]"
      ]
     },
     "execution_count": 3,
     "metadata": {},
     "output_type": "execute_result"
    }
   ],
   "source": [
    "data.head()"
   ]
  },
  {
   "cell_type": "code",
   "execution_count": 4,
   "metadata": {},
   "outputs": [],
   "source": [
    "X = data.drop(['material_deprivation'], axis=1)\n",
    "y = data.material_deprivation\n",
    "\n",
    "X_train, X_test, y_train, y_test = train_test_split(X, y)"
   ]
  },
  {
   "cell_type": "code",
   "execution_count": 5,
   "metadata": {},
   "outputs": [
    {
     "data": {
      "image/png": "[encoded data removed]",
      "text/plain": [
       "<Figure size 432x288 with 1 Axes>"
      ]
     },
     "metadata": {
      "needs_background": "light"
     },
     "output_type": "display_data"
    }
   ],
   "source": [
    "#I check first for the optimate neighbor number. I use the F1 metric since the data is umbalanced.\n",
    "\n",
    "from sklearn.metrics import f1_score\n",
    "import matplotlib.pyplot as plt\n",
    "\n",
    "\n",
    "f1_list = []\n",
    "for k in range(1, 11):\n",
    "    neigh = KNeighborsClassifier(n_neighbors=k)\n",
    "    neigh.fit(X_train, y_train)\n",
    "    y_pred = neigh.predict(X_test)\n",
    "    f1_list.append(f1_score(y_test, y_pred))\n",
    "    \n",
    "plt.plot(f1_list);"
   ]
  },
  {
   "cell_type": "code",
   "execution_count": 12,
   "metadata": {},
   "outputs": [
    {
     "name": "stdout",
     "output_type": "stream",
     "text": [
      "              precision    recall  f1-score   support\n",
      "\n",
      "           0       0.99      0.99      0.99      8785\n",
      "           1       0.68      0.68      0.68       401\n",
      "\n",
      "    accuracy                           0.97      9186\n",
      "   macro avg       0.83      0.83      0.83      9186\n",
      "weighted avg       0.97      0.97      0.97      9186\n",
      "\n"
     ]
    }
   ],
   "source": [
    "#Unbalanced data\n",
    "\n",
    "neigh = KNeighborsClassifier(n_neighbors=1)\n",
    "\n",
    "neigh.fit(X_train, y_train)\n",
    "y_pred = neigh.predict(X_test)\n",
    "print(classification_report(y_test, y_pred))"
   ]
  },
  {
   "cell_type": "code",
   "execution_count": 14,
   "metadata": {},
   "outputs": [],
   "source": [
    "#Balanced data - Undersample\n",
    "\n",
    "undersampler = RandomUnderSampler(sampling_strategy='majority')\n",
    "X_train_us, y_train_us = undersampler.fit_resample(X_train, y_train)"
   ]
  },
  {
   "cell_type": "code",
   "execution_count": 15,
   "metadata": {},
   "outputs": [
    {
     "name": "stdout",
     "output_type": "stream",
     "text": [
      "              precision    recall  f1-score   support\n",
      "\n",
      "           0       0.99      0.79      0.88      8785\n",
      "           1       0.16      0.85      0.27       401\n",
      "\n",
      "    accuracy                           0.80      9186\n",
      "   macro avg       0.58      0.82      0.58      9186\n",
      "weighted avg       0.96      0.80      0.86      9186\n",
      "\n"
     ]
    }
   ],
   "source": [
    "neigh = KNeighborsClassifier(n_neighbors=1)\n",
    "\n",
    "neigh.fit(X_train_us, y_train_us)\n",
    "y_pred = neigh.predict(X_test)\n",
    "print(classification_report(y_test, y_pred))"
   ]
  },
  {
   "cell_type": "code",
   "execution_count": 16,
   "metadata": {},
   "outputs": [],
   "source": [
    "#Balanced data - Oversample\n",
    "\n",
    "oversampler = RandomOverSampler(sampling_strategy='minority')\n",
    "X_train_os, y_train_os = oversampler.fit_resample(X_train, y_train)"
   ]
  },
  {
   "cell_type": "code",
   "execution_count": 17,
   "metadata": {},
   "outputs": [
    {
     "name": "stdout",
     "output_type": "stream",
     "text": [
      "              precision    recall  f1-score   support\n",
      "\n",
      "           0       0.99      0.99      0.99      8785\n",
      "           1       0.68      0.68      0.68       401\n",
      "\n",
      "    accuracy                           0.97      9186\n",
      "   macro avg       0.83      0.83      0.83      9186\n",
      "weighted avg       0.97      0.97      0.97      9186\n",
      "\n"
     ]
    }
   ],
   "source": [
    "neigh = KNeighborsClassifier(n_neighbors=1)\n",
    "\n",
    "neigh.fit(X_train_os, y_train_os)\n",
    "y_pred = neigh.predict(X_test)\n",
    "print(classification_report(y_test, y_pred))"
   ]
  },
  {
   "cell_type": "code",
   "execution_count": 18,
   "metadata": {},
   "outputs": [],
   "source": [
    "#Balanced data - SMOTE\n",
    "\n",
    "smote = SMOTE()\n",
    "X_train_smote, y_train_smote = smote.fit_resample(X_train, y_train)"
   ]
  },
  {
   "cell_type": "code",
   "execution_count": 19,
   "metadata": {},
   "outputs": [
    {
     "name": "stdout",
     "output_type": "stream",
     "text": [
      "              precision    recall  f1-score   support\n",
      "\n",
      "           0       0.99      0.98      0.98      8785\n",
      "           1       0.59      0.70      0.64       401\n",
      "\n",
      "    accuracy                           0.97      9186\n",
      "   macro avg       0.79      0.84      0.81      9186\n",
      "weighted avg       0.97      0.97      0.97      9186\n",
      "\n"
     ]
    }
   ],
   "source": [
    "neigh = KNeighborsClassifier(n_neighbors=1)\n",
    "\n",
    "neigh.fit(X_train_smote, y_train_smote)\n",
    "y_pred = neigh.predict(X_test)\n",
    "print(classification_report(y_test, y_pred))"
   ]
  }
 ],
 "metadata": {
  "kernelspec": {
   "display_name": "Python 3",
   "language": "python",
   "name": "python3"
  },
  "language_info": {
   "codemirror_mode": {
    "name": "ipython",
    "version": 3
   },
   "file_extension": ".py",
   "mimetype": "text/x-python",
   "name": "python",
   "nbconvert_exporter": "python",
   "pygments_lexer": "ipython3",
   "version": "3.8.3"
  }
 },
 "nbformat": 4,
 "nbformat_minor": 4
}
